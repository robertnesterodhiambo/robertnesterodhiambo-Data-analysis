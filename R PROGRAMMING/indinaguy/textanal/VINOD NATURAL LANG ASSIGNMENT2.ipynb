{
 "cells": [
  {
   "cell_type": "markdown",
   "metadata": {},
   "source": [
    "\n",
    "### **7. Cosine Similarity Calculation**"
   ]
  },
  {
   "cell_type": "code",
   "execution_count": 1,
   "metadata": {},
   "outputs": [
    {
     "name": "stdout",
     "output_type": "stream",
     "text": [
      "Cosine similarity with Doc1: 0.6292275146695527\n",
      "Cosine similarity with Doc2: 0.0\n",
      "Cosine similarity with Doc3: 0.7531670429349948\n"
     ]
    }
   ],
   "source": [
    "\n",
    "from sklearn.feature_extraction.text import TfidfVectorizer\n",
    "from sklearn.metrics.pairwise import cosine_similarity\n",
    "\n",
    "# Create a corpus for the three documents\n",
    "corpus = ['linus 10 snoopy 1 pumpkin 4', 'snoopy 4', 'linus 1 pumpkin 10']\n",
    "\n",
    "# Create query\n",
    "query = ['linus pumpkin']\n",
    "\n",
    "# Use TfidfVectorizer to calculate TF-IDF matrix\n",
    "vectorizer = TfidfVectorizer()\n",
    "tfidf_matrix = vectorizer.fit_transform(corpus + query)\n",
    "\n",
    "# Calculate cosine similarity\n",
    "cos_sim = cosine_similarity(tfidf_matrix[-1], tfidf_matrix[:-1])\n",
    "\n",
    "# Output results\n",
    "print(f\"Cosine similarity with Doc1: {cos_sim[0][0]}\")\n",
    "print(f\"Cosine similarity with Doc2: {cos_sim[0][1]}\")\n",
    "print(f\"Cosine similarity with Doc3: {cos_sim[0][2]}\")"
   ]
  },
  {
   "cell_type": "code",
   "execution_count": null,
   "metadata": {},
   "outputs": [],
   "source": []
  }
 ],
 "metadata": {
  "kernelspec": {
   "display_name": "Python 3",
   "language": "python",
   "name": "python3"
  },
  "language_info": {
   "codemirror_mode": {
    "name": "ipython",
    "version": 3
   },
   "file_extension": ".py",
   "mimetype": "text/x-python",
   "name": "python",
   "nbconvert_exporter": "python",
   "pygments_lexer": "ipython3",
   "version": "3.12.4"
  }
 },
 "nbformat": 4,
 "nbformat_minor": 2
}
