{
 "cells": [
  {
   "cell_type": "markdown",
   "metadata": {},
   "source": [
    "\n",
    "\n",
    "### **6. Term-Document Incidence Matrix**"
   ]
  },
  {
   "cell_type": "code",
   "execution_count": 1,
   "metadata": {},
   "outputs": [
    {
     "name": "stdout",
     "output_type": "stream",
     "text": [
      "Documents matching the query: d[1 4]\n"
     ]
    }
   ],
   "source": [
    "\n",
    "# Given matrix\n",
    "import numpy as np\n",
    "documents = np.array([[1, 1, 0, 1, 0, 0], [1, 1, 0, 1, 1, 1], [0, 1, 0, 0, 0, 0]])\n",
    "\n",
    "# Boolean query: Brutus AND Caesar AND NOT Calpurnia\n",
    "result = np.logical_and(documents[0], documents[1])\n",
    "result = np.logical_and(result, np.logical_not(documents[2]))\n",
    "\n",
    "# Output documents that match the query\n",
    "matching_docs = np.where(result == 1)[0] + 1  # +1 to match document numbering\n",
    "print(f\"Documents matching the query: d{matching_docs}\")\n"
   ]
  },
  {
   "cell_type": "code",
   "execution_count": null,
   "metadata": {},
   "outputs": [],
   "source": []
  }
 ],
 "metadata": {
  "kernelspec": {
   "display_name": "Python 3",
   "language": "python",
   "name": "python3"
  },
  "language_info": {
   "codemirror_mode": {
    "name": "ipython",
    "version": 3
   },
   "file_extension": ".py",
   "mimetype": "text/x-python",
   "name": "python",
   "nbconvert_exporter": "python",
   "pygments_lexer": "ipython3",
   "version": "3.12.4"
  }
 },
 "nbformat": 4,
 "nbformat_minor": 2
}
