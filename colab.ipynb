{
 "cells": [
  {
   "cell_type": "markdown",
   "metadata": {},
   "source": [
    "# ASSIGNMENT 1\n",
    "\n",
    "Background\n",
    "\n",
    "-   Imagine that you have graduated CIS and now work as a consultant.\n",
    "-   You are hired by a health and fitness company.\n",
    "-   They have collected detailed data from 507 physically active participants. This data includes information about the participant's body measurements as well as personal attributes such as age, weight, height, and gender.\n",
    "-   The company wants you to analyze this data in ways that can help them design personalized fitness evaluations and training regimens for their users."
   ]
  },
  {
   "cell_type": "code",
   "execution_count": 1,
   "metadata": {},
   "outputs": [],
   "source": [
    "# Following libraries will be loaded so that these can be applied in codes.\n",
    "\n",
    "import numpy as np\n",
    "import pandas as pd\n",
    "import matplotlib.pyplot as plt\n",
    "import random\n",
    "import scipy.stats as stats"
   ]
  },
  {
   "cell_type": "markdown",
   "metadata": {},
   "source": [
    "# setting up the df with my name \n"
   ]
  },
  {
   "cell_type": "code",
   "execution_count": 2,
   "metadata": {},
   "outputs": [
    {
     "data": {
      "text/html": [
       "<div>\n",
       "<style scoped>\n",
       "    .dataframe tbody tr th:only-of-type {\n",
       "        vertical-align: middle;\n",
       "    }\n",
       "\n",
       "    .dataframe tbody tr th {\n",
       "        vertical-align: top;\n",
       "    }\n",
       "\n",
       "    .dataframe thead th {\n",
       "        text-align: right;\n",
       "    }\n",
       "</style>\n",
       "<table border=\"1\" class=\"dataframe\">\n",
       "  <thead>\n",
       "    <tr style=\"text-align: right;\">\n",
       "      <th></th>\n",
       "      <th>Unnamed: 0.1</th>\n",
       "      <th>Unnamed: 0</th>\n",
       "      <th>bia_di</th>\n",
       "      <th>bii_di</th>\n",
       "      <th>bit_di</th>\n",
       "      <th>che_de</th>\n",
       "      <th>che_di</th>\n",
       "      <th>elb_di</th>\n",
       "      <th>wri_di</th>\n",
       "      <th>kne_di</th>\n",
       "      <th>...</th>\n",
       "      <th>bic_gi</th>\n",
       "      <th>for_gi</th>\n",
       "      <th>kne_gi</th>\n",
       "      <th>cal_gi</th>\n",
       "      <th>ank_gi</th>\n",
       "      <th>wri_gi</th>\n",
       "      <th>age</th>\n",
       "      <th>wgt</th>\n",
       "      <th>hgt</th>\n",
       "      <th>sex</th>\n",
       "    </tr>\n",
       "  </thead>\n",
       "  <tbody>\n",
       "    <tr>\n",
       "      <th>0</th>\n",
       "      <td>51</td>\n",
       "      <td>366</td>\n",
       "      <td>32.8</td>\n",
       "      <td>26.2</td>\n",
       "      <td>26.3</td>\n",
       "      <td>16.1</td>\n",
       "      <td>23.6</td>\n",
       "      <td>10.6</td>\n",
       "      <td>9.2</td>\n",
       "      <td>16.4</td>\n",
       "      <td>...</td>\n",
       "      <td>22.4</td>\n",
       "      <td>19.6</td>\n",
       "      <td>30.4</td>\n",
       "      <td>28.4</td>\n",
       "      <td>17.4</td>\n",
       "      <td>13.2</td>\n",
       "      <td>21</td>\n",
       "      <td>45.0</td>\n",
       "      <td>160.0</td>\n",
       "      <td>0</td>\n",
       "    </tr>\n",
       "    <tr>\n",
       "      <th>1</th>\n",
       "      <td>130</td>\n",
       "      <td>307</td>\n",
       "      <td>40.3</td>\n",
       "      <td>29.2</td>\n",
       "      <td>32.9</td>\n",
       "      <td>16.5</td>\n",
       "      <td>26.4</td>\n",
       "      <td>13.0</td>\n",
       "      <td>9.4</td>\n",
       "      <td>18.6</td>\n",
       "      <td>...</td>\n",
       "      <td>25.4</td>\n",
       "      <td>23.4</td>\n",
       "      <td>35.9</td>\n",
       "      <td>34.2</td>\n",
       "      <td>21.5</td>\n",
       "      <td>15.1</td>\n",
       "      <td>23</td>\n",
       "      <td>60.3</td>\n",
       "      <td>164.5</td>\n",
       "      <td>0</td>\n",
       "    </tr>\n",
       "    <tr>\n",
       "      <th>2</th>\n",
       "      <td>100</td>\n",
       "      <td>417</td>\n",
       "      <td>36.0</td>\n",
       "      <td>30.2</td>\n",
       "      <td>32.9</td>\n",
       "      <td>18.7</td>\n",
       "      <td>27.8</td>\n",
       "      <td>12.4</td>\n",
       "      <td>9.6</td>\n",
       "      <td>18.4</td>\n",
       "      <td>...</td>\n",
       "      <td>29.7</td>\n",
       "      <td>24.1</td>\n",
       "      <td>34.8</td>\n",
       "      <td>34.6</td>\n",
       "      <td>21.5</td>\n",
       "      <td>14.6</td>\n",
       "      <td>35</td>\n",
       "      <td>58.6</td>\n",
       "      <td>162.6</td>\n",
       "      <td>0</td>\n",
       "    </tr>\n",
       "    <tr>\n",
       "      <th>3</th>\n",
       "      <td>283</td>\n",
       "      <td>234</td>\n",
       "      <td>39.4</td>\n",
       "      <td>26.6</td>\n",
       "      <td>31.7</td>\n",
       "      <td>24.0</td>\n",
       "      <td>31.1</td>\n",
       "      <td>13.8</td>\n",
       "      <td>11.8</td>\n",
       "      <td>20.0</td>\n",
       "      <td>...</td>\n",
       "      <td>32.9</td>\n",
       "      <td>26.5</td>\n",
       "      <td>35.6</td>\n",
       "      <td>37.9</td>\n",
       "      <td>22.5</td>\n",
       "      <td>17.8</td>\n",
       "      <td>55</td>\n",
       "      <td>74.1</td>\n",
       "      <td>167.6</td>\n",
       "      <td>1</td>\n",
       "    </tr>\n",
       "    <tr>\n",
       "      <th>4</th>\n",
       "      <td>298</td>\n",
       "      <td>108</td>\n",
       "      <td>41.7</td>\n",
       "      <td>28.0</td>\n",
       "      <td>32.9</td>\n",
       "      <td>19.4</td>\n",
       "      <td>29.7</td>\n",
       "      <td>14.6</td>\n",
       "      <td>11.0</td>\n",
       "      <td>19.5</td>\n",
       "      <td>...</td>\n",
       "      <td>33.7</td>\n",
       "      <td>28.6</td>\n",
       "      <td>35.0</td>\n",
       "      <td>37.3</td>\n",
       "      <td>23.1</td>\n",
       "      <td>16.7</td>\n",
       "      <td>23</td>\n",
       "      <td>72.7</td>\n",
       "      <td>170.2</td>\n",
       "      <td>1</td>\n",
       "    </tr>\n",
       "  </tbody>\n",
       "</table>\n",
       "<p>5 rows × 27 columns</p>\n",
       "</div>"
      ],
      "text/plain": [
       "   Unnamed: 0.1  Unnamed: 0  bia_di  bii_di  bit_di  che_de  che_di  elb_di  \\\n",
       "0            51         366    32.8    26.2    26.3    16.1    23.6    10.6   \n",
       "1           130         307    40.3    29.2    32.9    16.5    26.4    13.0   \n",
       "2           100         417    36.0    30.2    32.9    18.7    27.8    12.4   \n",
       "3           283         234    39.4    26.6    31.7    24.0    31.1    13.8   \n",
       "4           298         108    41.7    28.0    32.9    19.4    29.7    14.6   \n",
       "\n",
       "   wri_di  kne_di  ...  bic_gi  for_gi  kne_gi  cal_gi  ank_gi  wri_gi  age  \\\n",
       "0     9.2    16.4  ...    22.4    19.6    30.4    28.4    17.4    13.2   21   \n",
       "1     9.4    18.6  ...    25.4    23.4    35.9    34.2    21.5    15.1   23   \n",
       "2     9.6    18.4  ...    29.7    24.1    34.8    34.6    21.5    14.6   35   \n",
       "3    11.8    20.0  ...    32.9    26.5    35.6    37.9    22.5    17.8   55   \n",
       "4    11.0    19.5  ...    33.7    28.6    35.0    37.3    23.1    16.7   23   \n",
       "\n",
       "    wgt    hgt  sex  \n",
       "0  45.0  160.0    0  \n",
       "1  60.3  164.5    0  \n",
       "2  58.6  162.6    0  \n",
       "3  74.1  167.6    1  \n",
       "4  72.7  170.2    1  \n",
       "\n",
       "[5 rows x 27 columns]"
      ]
     },
     "execution_count": 2,
     "metadata": {},
     "output_type": "execute_result"
    }
   ],
   "source": [
    "# The code below will generate a random sample of 100 participants for you to analyze.\n",
    "\n",
    "# You need to replace \"Name\" in the code below with your own name. The code will then generate a csv file that is labeled with your name and which\n",
    "# contains a random sample of 100 individuals.\n",
    "# REMEMBER: you need to submit this csv file in the zip folder when submitting your assignment.\n",
    "\n",
    "try:\n",
    "    df = pd.read_csv('Noura1')        # replace Name with your own name\n",
    "except FileNotFoundError:\n",
    "    original_data = pd.read_csv(\"https://raw.githubusercontent.com/ZUCourses/SIA-Public/main/Data%20Sets/body_measurement.csv\")\n",
    "    df1 = original_data.sample(100)\n",
    "    df1.to_csv('Noura1')                   # replace Name with your own name\n",
    "    df = pd.read_csv('Noura1')             # replace Name with your own name\n",
    "    df = pd.DataFrame(df)\n",
    "    df.to_csv('Noura1')                    # replace Name with your own name\n",
    "\n",
    "df.head()"
   ]
  },
  {
   "cell_type": "markdown",
   "metadata": {},
   "source": [
    "# Task 2.\n",
    "\n",
    "-   Now that you have your data set you are ready to start analyzing it!\n",
    "-   The first step is to explore your dataset.\n",
    "-   Look at the variables that make up the data set.\n",
    "-   Once you've done so, imagine you are writing a report for the fitness company that hired you.\n",
    "-   Start with a brief introduction to the research question you are exploring, then the dataset you are analysing (e.g., what is the sample you are analyzing? What are the variables?)\n",
    "-   Assume that your #Audience is the company's leadership. They will be with what you are reporting.\n",
    "Add this brief introduction below."
   ]
  },
  {
   "cell_type": "markdown",
   "metadata": {},
   "source": [
    "# introduction\n",
    "\n",
    "This report presents the findings of a comprehensive research project designed to explore the intricate relationships between various body measurements and demographic characteristics. In a world increasingly driven by data and analytics, understanding the nuances of human physiology is paramount for businesses across industries, from healthcare to fashion, and beyond.\n",
    "\n",
    "The dataset analyzed in this study comprises 507 observations across 25 variables, offering a rich tapestry of information regarding the physical dimensions and demographic profiles of individuals. These variables encompass a wide range of measurements, including biacromial diameter, chest depth, waist girth, and thigh girth, among others. Each observation represents a unique respondent, providing a diverse and representative sample for analysis.\n",
    "\n",
    "At the heart of this research lies a fundamental question: how do various body measurements correlate with demographic factors such as age, gender, and body weight? By delving into this inquiry, we aim to uncover insights that can illuminate the intricate interplay between human physiology and demographic characteristics. Such insights have the potential to inform a myriad of business decisions, from product design and marketing strategies to healthcare interventions and beyond.\n",
    "\n",
    "The exploration of these relationships is particularly pertinent in today's dynamic landscape, where consumer preferences and behaviors are constantly evolving. Understanding the underlying factors that influence physical dimensions can empower businesses to tailor their offerings more effectively, catering to the diverse needs and preferences of their target audience.\n",
    "\n",
    "Moreover, this research contributes to the broader body of knowledge surrounding human physiology and demographics, shedding light on previously unexplored connections and correlations. By elucidating these relationships, we can deepen our understanding of human biology and behavior, paving the way for innovative solutions and approaches in a variety of fields.\n",
    "\n",
    "In summary, this report represents a comprehensive exploration of the relationships between body measurements and demographic characteristics. Through meticulous analysis and interpretation of the dataset, we endeavor to uncover valuable insights that can inform strategic decision-making and drive innovation across industries.\n",
    "\n",
    "#   Conclusion:\n",
    "\n",
    "In conclusion, this report represents a significant milestone in our quest to understand the intricate connections between human physiology and demographic characteristics. Through meticulous analysis and interpretation of the dataset, we have uncovered valuable insights that have the potential to inform strategic decision-making and drive innovation within our organization. I am confident that the findings presented here will resonate with you and provide valuable guidance as we chart the course ahead.\n",
    "\n",
    "Thank you for your attention, and I look forward to discussing these findings with you in greater detail."
   ]
  },
  {
   "cell_type": "markdown",
   "metadata": {},
   "source": [
    "#   Task 3.\n",
    "\n",
    "-   Run the below code. It will randomly select 4 variables from your dataset.\n",
    "-   It will then print the names of the four variables that were randomly selected."
   ]
  },
  {
   "cell_type": "code",
   "execution_count": 5,
   "metadata": {},
   "outputs": [
    {
     "name": "stdout",
     "output_type": "stream",
     "text": [
      "Selected Variables: ['kne_di', 'kne_gi', 'cal_gi', 'wri_gi']\n"
     ]
    }
   ],
   "source": [
    "import random\n",
    "\n",
    "column_titles = [\"bia_di\", \"bii_di\", \"bit_di\",\"che_de\",\"che_di\",\"elb_di\",\"wri_di\",\"kne_di\",\"ank_di\",\"sho_gi\",\"che_gi\",\"wai_gi\",\"nav_gi\",\"hip_gi\",\"thi_gi\",\"bic_gi\",\"for_gi\",\"kne_gi\",\"cal_gi\",\"ank_gi\",\"wri_gi\",\"age\",\"hgt\"]\n",
    "\n",
    "# Randomly select 4 titles from the first 22 columns\n",
    "selected_columns = random.sample(column_titles, 4)\n",
    "\n",
    "# Print the four variables that were randomly selected\n",
    "print(\"Selected Variables:\", selected_columns)"
   ]
  },
  {
   "cell_type": "code",
   "execution_count": 6,
   "metadata": {},
   "outputs": [
    {
     "data": {
      "image/png": "[encoded data removed]",
      "text/plain": [
       "<Figure size 640x480 with 1 Axes>"
      ]
     },
     "metadata": {},
     "output_type": "display_data"
    },
    {
     "name": "stdout",
     "output_type": "stream",
     "text": [
      "Descriptive Statistics for kne_di:\n",
      "count    100.000000\n",
      "mean      18.915000\n",
      "std        1.489517\n",
      "min       15.900000\n",
      "25%       17.800000\n",
      "50%       18.900000\n",
      "75%       19.850000\n",
      "max       24.300000\n",
      "Name: kne_di, dtype: float64\n"
     ]
    },
    {
     "data": {
      "image/png": "[encoded data removed]",
      "text/plain": [
       "<Figure size 640x480 with 1 Axes>"
      ]
     },
     "metadata": {},
     "output_type": "display_data"
    },
    {
     "name": "stdout",
     "output_type": "stream",
     "text": [
      "Descriptive Statistics for kne_gi:\n",
      "count    100.000000\n",
      "mean      36.065000\n",
      "std        2.927383\n",
      "min       30.400000\n",
      "25%       34.350000\n",
      "50%       35.600000\n",
      "75%       37.550000\n",
      "max       49.000000\n",
      "Name: kne_gi, dtype: float64\n"
     ]
    },
    {
     "data": {
      "image/png": "[encoded data removed]",
      "text/plain": [
       "<Figure size 640x480 with 1 Axes>"
      ]
     },
     "metadata": {},
     "output_type": "display_data"
    },
    {
     "name": "stdout",
     "output_type": "stream",
     "text": [
      "Descriptive Statistics for cal_gi:\n",
      "count    100.000000\n",
      "mean      36.104000\n",
      "std        2.940828\n",
      "min       28.400000\n",
      "25%       34.000000\n",
      "50%       36.050000\n",
      "75%       37.975000\n",
      "max       45.400000\n",
      "Name: cal_gi, dtype: float64\n"
     ]
    },
    {
     "data": {
      "image/png": "[encoded data removed]",
      "text/plain": [
       "<Figure size 640x480 with 1 Axes>"
      ]
     },
     "metadata": {},
     "output_type": "display_data"
    },
    {
     "name": "stdout",
     "output_type": "stream",
     "text": [
      "Descriptive Statistics for wri_gi:\n",
      "count    100.000000\n",
      "mean      16.081000\n",
      "std        1.399401\n",
      "min       13.000000\n",
      "25%       14.975000\n",
      "50%       16.150000\n",
      "75%       17.300000\n",
      "max       18.800000\n",
      "Name: wri_gi, dtype: float64\n"
     ]
    }
   ],
   "source": [
    "import matplotlib.pyplot as plt\n",
    "\n",
    "# Plot histograms for each selected column\n",
    "for col in selected_columns:\n",
    "    # Plot the histogram\n",
    "    plt.hist(df[col], bins=20)  # You can adjust the number of bins as needed\n",
    "\n",
    "    # Add title and labels\n",
    "    plt.title(f'{col} Distribution')\n",
    "    plt.xlabel('Value')\n",
    "    plt.ylabel('Frequency')\n",
    "\n",
    "    # Show plot\n",
    "    plt.show()\n",
    "\n",
    "    # Descriptive statistics\n",
    "    print(f\"Descriptive Statistics for {col}:\")\n",
    "    print(df[col].describe())\n"
   ]
  },
  {
   "cell_type": "markdown",
   "metadata": {},
   "source": [
    "1. **kne_di (Knee Diameter)**:\n",
    "   - **Shape**: The symmetric distribution suggests that knee diameter measurements are evenly distributed around the average value. This could indicate that knee sizes among the sample population vary but are balanced on both sides of the average.\n",
    "   - **Center**: With a mean and median both close to 18.9 centimeters, it implies that the typical knee diameter in the sample is around this value.\n",
    "   - **Spread**: The moderate variability (standard deviation of 1.49 centimeters) indicates that while most knee diameters are close to the average, there is some deviation from this central value.\n",
    "   - **Outliers**: Absence of outliers suggests that there are no extreme knee diameter measurements that significantly deviate from the rest of the data, indicating a relatively homogeneous sample.\n",
    "\n",
    "2. **kne_gi (Knee Girth)**:\n",
    "   - **Shape**: The slight right skewness implies that there are relatively more individuals with larger knee girth measurements compared to smaller ones. This could reflect natural variations in body types within the sample.\n",
    "   - **Center**: The mean and median knee girth measurements are around 36.1 centimeters, indicating that this is the typical size within the sample.\n",
    "   - **Spread**: The standard deviation of approximately 2.93 centimeters suggests that while most measurements are close to the average, there is some variability in knee girth within the sample.\n",
    "   - **Outliers**: The presence of potential outliers on the higher values side indicates that some individuals have notably larger knee girth measurements compared to the majority, which could be due to factors like muscle mass or body composition.\n",
    "\n",
    "3. **cal_gi (Calf Girth)**:\n",
    "   - **Shape**: The symmetric distribution suggests that calf girth measurements are evenly distributed around the average, indicating a balance between smaller and larger measurements.\n",
    "   - **Center**: Both mean and median calf girth measurements are around 36.1 centimeters, indicating that this is the typical size within the sample.\n",
    "   - **Spread**: The standard deviation of approximately 2.94 centimeters indicates moderate variability in calf girth within the sample population.\n",
    "   - **Outliers**: Absence of outliers suggests that there are no extreme calf girth measurements that significantly deviate from the rest of the data, similar to knee diameter.\n",
    "\n",
    "4. **wri_gi (Wrist Girth)**:\n",
    "   - **Shape**: The symmetric distribution indicates that wrist girth measurements are evenly distributed around the average, suggesting a balanced distribution of wrist sizes within the sample.\n",
    "   - **Center**: Both mean and median wrist girth measurements are around 16.1 centimeters, indicating that this is the typical size within the sample.\n",
    "   - **Spread**: The standard deviation of approximately 1.40 centimeters suggests moderate variability in wrist girth within the sample population.\n",
    "   - **Outliers**: Absence of outliers suggests that there are no extreme wrist girth measurements that significantly deviate from the rest of the data, similar to knee diameter and calf girth."
   ]
  },
  {
   "cell_type": "code",
   "execution_count": null,
   "metadata": {},
   "outputs": [],
   "source": []
  }
 ],
 "metadata": {
  "kernelspec": {
   "display_name": "base",
   "language": "python",
   "name": "python3"
  },
  "language_info": {
   "codemirror_mode": {
    "name": "ipython",
    "version": 3
   },
   "file_extension": ".py",
   "mimetype": "text/x-python",
   "name": "python",
   "nbconvert_exporter": "python",
   "pygments_lexer": "ipython3",
   "version": "3.11.5"
  }
 },
 "nbformat": 4,
 "nbformat_minor": 2
}
