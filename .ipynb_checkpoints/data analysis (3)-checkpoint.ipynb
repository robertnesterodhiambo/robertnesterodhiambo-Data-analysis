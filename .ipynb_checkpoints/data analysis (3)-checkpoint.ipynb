{
 "cells": [
  {
   "cell_type": "code",
   "execution_count": 1,
   "id": "af007f95-f426-49e9-922b-18bdb6141aa3",
   "metadata": {
    "tags": []
   },
   "outputs": [],
   "source": [
    "import pandas as pd\n",
    "import matplotlib.pyplot as plt\n",
    "import matplotlib.cm as cm\n",
    "import numpy as np\n",
    "import statsmodels.api as sm\n",
    "import seaborn as sns\n",
    "from statsmodels.graphics.tsaplots import plot_acf\n",
    "from statsmodels.graphics.tsaplots import plot_pacf"
   ]
  },
  {
   "cell_type": "code",
   "execution_count": 2,
   "id": "6d8a643b-792c-421c-9a32-8edd0aa9fd06",
   "metadata": {
    "tags": []
   },
   "outputs": [],
   "source": [
    "# Path to the CSV file\n",
    "file_path = r'C:\\Users\\neste\\Downloads\\Compressed\\dft_traffic_counts_raw_counts\\dft_traffic_counts_raw_counts.csv'"
   ]
  },
  {
   "cell_type": "code",
   "execution_count": 3,
   "id": "46b53333-2428-463a-af54-108eb4e15b66",
   "metadata": {
    "tags": []
   },
   "outputs": [],
   "source": [
    "data = pd.read_csv(file_path)"
   ]
  },
  {
   "cell_type": "code",
   "execution_count": 4,
   "id": "5d26555f-7f9c-4d58-9349-ffd84fda4d9a",
   "metadata": {
    "tags": []
   },
   "outputs": [],
   "source": [
    "mean_value = data['All_motor_vehicles'].mean()  # You can use .median() if you prefer median imputation\n",
    "\n",
    "# Impute missing values with the mean value\n",
    "data['All_motor_vehicles'].fillna(mean_value, inplace=True)"
   ]
  },
  {
   "cell_type": "code",
   "execution_count": 5,
   "id": "13024076-e44e-411e-81e7-0d079d8440ac",
   "metadata": {
    "tags": []
   },
   "outputs": [
    {
     "data": {
      "text/html": [
       "<div>\n",
       "<style scoped>\n",
       "    .dataframe tbody tr th:only-of-type {\n",
       "        vertical-align: middle;\n",
       "    }\n",
       "\n",
       "    .dataframe tbody tr th {\n",
       "        vertical-align: top;\n",
       "    }\n",
       "\n",
       "    .dataframe thead th {\n",
       "        text-align: right;\n",
       "    }\n",
       "</style>\n",
       "<table border=\"1\" class=\"dataframe\">\n",
       "  <thead>\n",
       "    <tr style=\"text-align: right;\">\n",
       "      <th></th>\n",
       "      <th>Count_date</th>\n",
       "      <th>hour</th>\n",
       "      <th>Year</th>\n",
       "      <th>Direction_of_travel</th>\n",
       "      <th>All_motor_vehicles</th>\n",
       "    </tr>\n",
       "  </thead>\n",
       "  <tbody>\n",
       "    <tr>\n",
       "      <th>0</th>\n",
       "      <td>2014-06-25 00:00:00</td>\n",
       "      <td>7</td>\n",
       "      <td>2014</td>\n",
       "      <td>E</td>\n",
       "      <td>935.0</td>\n",
       "    </tr>\n",
       "    <tr>\n",
       "      <th>1</th>\n",
       "      <td>2014-06-25 00:00:00</td>\n",
       "      <td>8</td>\n",
       "      <td>2014</td>\n",
       "      <td>E</td>\n",
       "      <td>1102.0</td>\n",
       "    </tr>\n",
       "    <tr>\n",
       "      <th>2</th>\n",
       "      <td>2014-06-25 00:00:00</td>\n",
       "      <td>9</td>\n",
       "      <td>2014</td>\n",
       "      <td>E</td>\n",
       "      <td>773.0</td>\n",
       "    </tr>\n",
       "    <tr>\n",
       "      <th>3</th>\n",
       "      <td>2014-06-25 00:00:00</td>\n",
       "      <td>10</td>\n",
       "      <td>2014</td>\n",
       "      <td>E</td>\n",
       "      <td>778.0</td>\n",
       "    </tr>\n",
       "    <tr>\n",
       "      <th>4</th>\n",
       "      <td>2014-06-25 00:00:00</td>\n",
       "      <td>11</td>\n",
       "      <td>2014</td>\n",
       "      <td>E</td>\n",
       "      <td>875.0</td>\n",
       "    </tr>\n",
       "    <tr>\n",
       "      <th>...</th>\n",
       "      <td>...</td>\n",
       "      <td>...</td>\n",
       "      <td>...</td>\n",
       "      <td>...</td>\n",
       "      <td>...</td>\n",
       "    </tr>\n",
       "    <tr>\n",
       "      <th>4815499</th>\n",
       "      <td>2020-06-05 00:00:00</td>\n",
       "      <td>14</td>\n",
       "      <td>2020</td>\n",
       "      <td>E</td>\n",
       "      <td>57.0</td>\n",
       "    </tr>\n",
       "    <tr>\n",
       "      <th>4815500</th>\n",
       "      <td>2020-06-05 00:00:00</td>\n",
       "      <td>15</td>\n",
       "      <td>2020</td>\n",
       "      <td>E</td>\n",
       "      <td>74.0</td>\n",
       "    </tr>\n",
       "    <tr>\n",
       "      <th>4815501</th>\n",
       "      <td>2020-06-05 00:00:00</td>\n",
       "      <td>16</td>\n",
       "      <td>2020</td>\n",
       "      <td>E</td>\n",
       "      <td>69.0</td>\n",
       "    </tr>\n",
       "    <tr>\n",
       "      <th>4815502</th>\n",
       "      <td>2020-06-05 00:00:00</td>\n",
       "      <td>17</td>\n",
       "      <td>2020</td>\n",
       "      <td>E</td>\n",
       "      <td>73.0</td>\n",
       "    </tr>\n",
       "    <tr>\n",
       "      <th>4815503</th>\n",
       "      <td>2020-06-05 00:00:00</td>\n",
       "      <td>18</td>\n",
       "      <td>2020</td>\n",
       "      <td>E</td>\n",
       "      <td>49.0</td>\n",
       "    </tr>\n",
       "  </tbody>\n",
       "</table>\n",
       "<p>4815504 rows × 5 columns</p>\n",
       "</div>"
      ],
      "text/plain": [
       "                  Count_date  hour  Year Direction_of_travel  \\\n",
       "0        2014-06-25 00:00:00     7  2014                   E   \n",
       "1        2014-06-25 00:00:00     8  2014                   E   \n",
       "2        2014-06-25 00:00:00     9  2014                   E   \n",
       "3        2014-06-25 00:00:00    10  2014                   E   \n",
       "4        2014-06-25 00:00:00    11  2014                   E   \n",
       "...                      ...   ...   ...                 ...   \n",
       "4815499  2020-06-05 00:00:00    14  2020                   E   \n",
       "4815500  2020-06-05 00:00:00    15  2020                   E   \n",
       "4815501  2020-06-05 00:00:00    16  2020                   E   \n",
       "4815502  2020-06-05 00:00:00    17  2020                   E   \n",
       "4815503  2020-06-05 00:00:00    18  2020                   E   \n",
       "\n",
       "         All_motor_vehicles  \n",
       "0                     935.0  \n",
       "1                    1102.0  \n",
       "2                     773.0  \n",
       "3                     778.0  \n",
       "4                     875.0  \n",
       "...                     ...  \n",
       "4815499                57.0  \n",
       "4815500                74.0  \n",
       "4815501                69.0  \n",
       "4815502                73.0  \n",
       "4815503                49.0  \n",
       "\n",
       "[4815504 rows x 5 columns]"
      ]
     },
     "execution_count": 5,
     "metadata": {},
     "output_type": "execute_result"
    }
   ],
   "source": [
    "columns_to_select = ['Count_date', 'hour' ,'Year','Direction_of_travel','All_motor_vehicles']\n",
    "\n",
    "# Create a new DataFrame with the selected columns\n",
    "selected_columns_df = data[columns_to_select]\n",
    "selected_columns_df"
   ]
  },
  {
   "cell_type": "code",
   "execution_count": 6,
   "id": "b8069a44-83e7-47c2-a2cc-466eb42acd39",
   "metadata": {
    "tags": []
   },
   "outputs": [
    {
     "data": {
      "text/html": [
       "<div>\n",
       "<style scoped>\n",
       "    .dataframe tbody tr th:only-of-type {\n",
       "        vertical-align: middle;\n",
       "    }\n",
       "\n",
       "    .dataframe tbody tr th {\n",
       "        vertical-align: top;\n",
       "    }\n",
       "\n",
       "    .dataframe thead th {\n",
       "        text-align: right;\n",
       "    }\n",
       "</style>\n",
       "<table border=\"1\" class=\"dataframe\">\n",
       "  <thead>\n",
       "    <tr style=\"text-align: right;\">\n",
       "      <th></th>\n",
       "      <th>Count_date</th>\n",
       "      <th>Year</th>\n",
       "      <th>All_motor_vehicles</th>\n",
       "    </tr>\n",
       "  </thead>\n",
       "  <tbody>\n",
       "    <tr>\n",
       "      <th>0</th>\n",
       "      <td>2000-03-17 00:00:00</td>\n",
       "      <td>2000</td>\n",
       "      <td>1395788.0</td>\n",
       "    </tr>\n",
       "    <tr>\n",
       "      <th>1</th>\n",
       "      <td>2000-03-20 00:00:00</td>\n",
       "      <td>2000</td>\n",
       "      <td>1163281.0</td>\n",
       "    </tr>\n",
       "    <tr>\n",
       "      <th>2</th>\n",
       "      <td>2000-03-21 00:00:00</td>\n",
       "      <td>2000</td>\n",
       "      <td>1498590.0</td>\n",
       "    </tr>\n",
       "    <tr>\n",
       "      <th>3</th>\n",
       "      <td>2000-03-22 00:00:00</td>\n",
       "      <td>2000</td>\n",
       "      <td>1375484.0</td>\n",
       "    </tr>\n",
       "    <tr>\n",
       "      <th>4</th>\n",
       "      <td>2000-03-23 00:00:00</td>\n",
       "      <td>2000</td>\n",
       "      <td>1247304.0</td>\n",
       "    </tr>\n",
       "    <tr>\n",
       "      <th>...</th>\n",
       "      <td>...</td>\n",
       "      <td>...</td>\n",
       "      <td>...</td>\n",
       "    </tr>\n",
       "    <tr>\n",
       "      <th>2562</th>\n",
       "      <td>2022-10-19 00:00:00</td>\n",
       "      <td>2022</td>\n",
       "      <td>303337.0</td>\n",
       "    </tr>\n",
       "    <tr>\n",
       "      <th>2563</th>\n",
       "      <td>2022-10-20 00:00:00</td>\n",
       "      <td>2022</td>\n",
       "      <td>193820.0</td>\n",
       "    </tr>\n",
       "    <tr>\n",
       "      <th>2564</th>\n",
       "      <td>2022-10-21 00:00:00</td>\n",
       "      <td>2022</td>\n",
       "      <td>141446.0</td>\n",
       "    </tr>\n",
       "    <tr>\n",
       "      <th>2565</th>\n",
       "      <td>2022-11-01 00:00:00</td>\n",
       "      <td>2022</td>\n",
       "      <td>30928.0</td>\n",
       "    </tr>\n",
       "    <tr>\n",
       "      <th>2566</th>\n",
       "      <td>2022-11-02 00:00:00</td>\n",
       "      <td>2022</td>\n",
       "      <td>30795.0</td>\n",
       "    </tr>\n",
       "  </tbody>\n",
       "</table>\n",
       "<p>2567 rows × 3 columns</p>\n",
       "</div>"
      ],
      "text/plain": [
       "               Count_date  Year  All_motor_vehicles\n",
       "0     2000-03-17 00:00:00  2000           1395788.0\n",
       "1     2000-03-20 00:00:00  2000           1163281.0\n",
       "2     2000-03-21 00:00:00  2000           1498590.0\n",
       "3     2000-03-22 00:00:00  2000           1375484.0\n",
       "4     2000-03-23 00:00:00  2000           1247304.0\n",
       "...                   ...   ...                 ...\n",
       "2562  2022-10-19 00:00:00  2022            303337.0\n",
       "2563  2022-10-20 00:00:00  2022            193820.0\n",
       "2564  2022-10-21 00:00:00  2022            141446.0\n",
       "2565  2022-11-01 00:00:00  2022             30928.0\n",
       "2566  2022-11-02 00:00:00  2022             30795.0\n",
       "\n",
       "[2567 rows x 3 columns]"
      ]
     },
     "execution_count": 6,
     "metadata": {},
     "output_type": "execute_result"
    }
   ],
   "source": [
    "# Group the DataFrame by 'Count_date' and 'Year' (assuming 'Year' is also needed for differentiation)\n",
    "grouped = data.groupby(['Count_date', 'Year'])\n",
    "\n",
    "# Calculate the sum of 'All_motor_vehicles' for each date\n",
    "sum_of_vehicles_per_date = grouped['All_motor_vehicles'].sum().reset_index()\n",
    "sum_of_vehicles_per_date"
   ]
  },
  {
   "cell_type": "code",
   "execution_count": 7,
   "id": "1d5fd07e-ce09-4754-9532-d562ee8a0854",
   "metadata": {
    "tags": []
   },
   "outputs": [
    {
     "data": {
      "image/png": "[encoded data removed]",
      "text/plain": [
       "<Figure size 1200x600 with 1 Axes>"
      ]
     },
     "metadata": {},
     "output_type": "display_data"
    }
   ],
   "source": [
    "\n",
    "# Group the DataFrame by 'Count_date' and 'Year' and sum 'All_motor_vehicles'\n",
    "grouped = data.groupby(['Count_date', 'Year'])['All_motor_vehicles'].sum().reset_index()\n",
    "\n",
    "# Create a color palette with unique colors for each year\n",
    "palette = sns.color_palette(\"husl\", n_colors=len(grouped['Year'].unique()))\n",
    "\n",
    "# Plot the data, assigning a unique color to each year\n",
    "plt.figure(figsize=(12, 6))\n",
    "for i, year in enumerate(grouped['Year'].unique()):\n",
    "    data = grouped[grouped['Year'] == year]\n",
    "    plt.plot(data['Count_date'], data['All_motor_vehicles'], label=str(year), color=palette[i])\n",
    "\n",
    "# Customize the plot\n",
    "plt.xlabel('Date')\n",
    "plt.ylabel('All Motor Vehicles')\n",
    "plt.title('All Motor Vehicles vs. Date (Grouped by Year)')\n",
    "plt.legend(title='Year', loc='upper left', bbox_to_anchor=(1, 1))\n",
    "\n",
    "# Display the plot\n",
    "plt.tight_layout()\n",
    "plt.show()"
   ]
  },
  {
   "cell_type": "code",
   "execution_count": 8,
   "id": "c8c85b8e-8922-4855-8e83-63ed161ffd06",
   "metadata": {
    "tags": []
   },
   "outputs": [
    {
     "name": "stderr",
     "output_type": "stream",
     "text": [
      "C:\\Users\\neste\\AppData\\Local\\Temp\\ipykernel_2280\\1770173407.py:2: SettingWithCopyWarning: \n",
      "A value is trying to be set on a copy of a slice from a DataFrame.\n",
      "Try using .loc[row_indexer,col_indexer] = value instead\n",
      "\n",
      "See the caveats in the documentation: https://pandas.pydata.org/pandas-docs/stable/user_guide/indexing.html#returning-a-view-versus-a-copy\n",
      "  data['Month'] = pd.to_datetime(data['Count_date']).dt.month\n",
      "C:\\Users\\neste\\AppData\\Local\\Temp\\ipykernel_2280\\1770173407.py:8: MatplotlibDeprecationWarning: The get_cmap function was deprecated in Matplotlib 3.7 and will be removed two minor releases later. Use ``matplotlib.colormaps[name]`` or ``matplotlib.colormaps.get_cmap(obj)`` instead.\n",
      "  colors = cm.get_cmap('tab20', len(grouped))(np.arange(len(grouped)))\n"
     ]
    },
    {
     "data": {
      "image/png": "[encoded data removed]",
      "text/plain": [
       "<Figure size 1000x600 with 1 Axes>"
      ]
     },
     "metadata": {},
     "output_type": "display_data"
    }
   ],
   "source": [
    "# Extract the month from the 'Count_date' column\n",
    "data['Month'] = pd.to_datetime(data['Count_date']).dt.month\n",
    "\n",
    "# Group the DataFrame by 'Month' and sum 'All_motor_vehicles'\n",
    "grouped = data.groupby('Month')['All_motor_vehicles'].sum()\n",
    "\n",
    "# Create a color map for the months\n",
    "colors = cm.get_cmap('tab20', len(grouped))(np.arange(len(grouped)))\n",
    "\n",
    "# Plot the data as a bar plot\n",
    "plt.figure(figsize=(10, 6))\n",
    "grouped.plot(kind='bar', color=colors)\n",
    "\n",
    "# Customize the plot\n",
    "plt.xlabel('Month')\n",
    "plt.ylabel('Total All Motor Vehicles')\n",
    "plt.title('Total All Motor Vehicles by Month')\n",
    "plt.xticks(range(len(grouped.index)), grouped.index, rotation=0)\n",
    "plt.tight_layout()\n",
    "\n",
    "# Display the plot\n",
    "plt.show()"
   ]
  },
  {
   "cell_type": "code",
   "execution_count": 9,
   "id": "6bcc26a5-6ea3-4340-92fd-c32f14297ceb",
   "metadata": {
    "tags": []
   },
   "outputs": [
    {
     "data": {
      "text/html": [
       "<div>\n",
       "<style scoped>\n",
       "    .dataframe tbody tr th:only-of-type {\n",
       "        vertical-align: middle;\n",
       "    }\n",
       "\n",
       "    .dataframe tbody tr th {\n",
       "        vertical-align: top;\n",
       "    }\n",
       "\n",
       "    .dataframe thead th {\n",
       "        text-align: right;\n",
       "    }\n",
       "</style>\n",
       "<table border=\"1\" class=\"dataframe\">\n",
       "  <thead>\n",
       "    <tr style=\"text-align: right;\">\n",
       "      <th></th>\n",
       "      <th>Count_date</th>\n",
       "      <th>Year</th>\n",
       "      <th>All_motor_vehicles</th>\n",
       "    </tr>\n",
       "  </thead>\n",
       "  <tbody>\n",
       "    <tr>\n",
       "      <th>0</th>\n",
       "      <td>2022-03-18 00:00:00</td>\n",
       "      <td>2022</td>\n",
       "      <td>79599.0</td>\n",
       "    </tr>\n",
       "    <tr>\n",
       "      <th>1</th>\n",
       "      <td>2022-03-21 00:00:00</td>\n",
       "      <td>2022</td>\n",
       "      <td>110038.0</td>\n",
       "    </tr>\n",
       "    <tr>\n",
       "      <th>2</th>\n",
       "      <td>2022-03-22 00:00:00</td>\n",
       "      <td>2022</td>\n",
       "      <td>97502.0</td>\n",
       "    </tr>\n",
       "    <tr>\n",
       "      <th>3</th>\n",
       "      <td>2022-03-23 00:00:00</td>\n",
       "      <td>2022</td>\n",
       "      <td>53358.0</td>\n",
       "    </tr>\n",
       "    <tr>\n",
       "      <th>4</th>\n",
       "      <td>2022-03-24 00:00:00</td>\n",
       "      <td>2022</td>\n",
       "      <td>145677.0</td>\n",
       "    </tr>\n",
       "    <tr>\n",
       "      <th>...</th>\n",
       "      <td>...</td>\n",
       "      <td>...</td>\n",
       "      <td>...</td>\n",
       "    </tr>\n",
       "    <tr>\n",
       "      <th>108</th>\n",
       "      <td>2022-10-19 00:00:00</td>\n",
       "      <td>2022</td>\n",
       "      <td>303337.0</td>\n",
       "    </tr>\n",
       "    <tr>\n",
       "      <th>109</th>\n",
       "      <td>2022-10-20 00:00:00</td>\n",
       "      <td>2022</td>\n",
       "      <td>193820.0</td>\n",
       "    </tr>\n",
       "    <tr>\n",
       "      <th>110</th>\n",
       "      <td>2022-10-21 00:00:00</td>\n",
       "      <td>2022</td>\n",
       "      <td>141446.0</td>\n",
       "    </tr>\n",
       "    <tr>\n",
       "      <th>111</th>\n",
       "      <td>2022-11-01 00:00:00</td>\n",
       "      <td>2022</td>\n",
       "      <td>30928.0</td>\n",
       "    </tr>\n",
       "    <tr>\n",
       "      <th>112</th>\n",
       "      <td>2022-11-02 00:00:00</td>\n",
       "      <td>2022</td>\n",
       "      <td>30795.0</td>\n",
       "    </tr>\n",
       "  </tbody>\n",
       "</table>\n",
       "<p>113 rows × 3 columns</p>\n",
       "</div>"
      ],
      "text/plain": [
       "              Count_date  Year  All_motor_vehicles\n",
       "0    2022-03-18 00:00:00  2022             79599.0\n",
       "1    2022-03-21 00:00:00  2022            110038.0\n",
       "2    2022-03-22 00:00:00  2022             97502.0\n",
       "3    2022-03-23 00:00:00  2022             53358.0\n",
       "4    2022-03-24 00:00:00  2022            145677.0\n",
       "..                   ...   ...                 ...\n",
       "108  2022-10-19 00:00:00  2022            303337.0\n",
       "109  2022-10-20 00:00:00  2022            193820.0\n",
       "110  2022-10-21 00:00:00  2022            141446.0\n",
       "111  2022-11-01 00:00:00  2022             30928.0\n",
       "112  2022-11-02 00:00:00  2022             30795.0\n",
       "\n",
       "[113 rows x 3 columns]"
      ]
     },
     "execution_count": 9,
     "metadata": {},
     "output_type": "execute_result"
    }
   ],
   "source": [
    "grouped = data.groupby(['Count_date', 'Year'])['All_motor_vehicles'].sum().reset_index()\n",
    "grouped"
   ]
  },
  {
   "cell_type": "code",
   "execution_count": null,
   "id": "c6215fc1-51b1-4a89-a182-b6ce02943f57",
   "metadata": {
    "tags": []
   },
   "outputs": [],
   "source": [
    "# Convert 'Count_date' to a DateTime object\n",
    "\n",
    "grouped['Count_date'] = pd.to_datetime(grouped['Count_date'])\n",
    "\n",
    "# Format the date column as a date without the time\n",
    "grouped['Count_date'] = grouped['Count_date'].dt.strftime('%Y-%m-%d')\n",
    "\n",
    "# Now, the 'Count_date' column will only contain dates in the 'YYYY-MM-DD' format\n",
    "grouped\n",
    "\n",
    "sum_of_vehicles_per_date['Count_date'] = pd.to_datetime(sum_of_vehicles_per_date['Count_date'])\n",
    "sort = sum_of_vehicles_per_date.sort_values(by = 'Count_date', ascending = True)\n",
    "sort\n",
    "sort['month'] = sort['Count_date'].dt.strftime('%B')\n",
    "ready = sort.groupby(['Year','month'])['All_motor_vehicles'].sum().reset_index()\n",
    "#ready"
   ]
  },
  {
   "cell_type": "code",
   "execution_count": null,
   "id": "16c7223c-931b-48d4-88c6-e6c9bcb3ef22",
   "metadata": {
    "tags": []
   },
   "outputs": [],
   "source": [
    "data = ready\n",
    "data\n",
    "decomposition = sm.tsa.seasonal_decompose(data['All_motor_vehicles'], model='additive', period = 12)"
   ]
  },
  {
   "cell_type": "code",
   "execution_count": null,
   "id": "153a2d3f-7e89-459e-9abf-7248ed9e518a",
   "metadata": {},
   "outputs": [],
   "source": [
    "sum_of_vehicles_per_date['Count_date'] = pd.to_datetime(sum_of_vehicles_per_date['Count_date'])\n",
    "sort = sum_of_vehicles_per_date.sort_values(by = 'Count_date', ascending = True)\n",
    "#sort\n",
    "sort['month'] = sort['Count_date'].dt.strftime('%B')\n",
    "ready = sort.groupby(['Year','month'])['All_motor_vehicles'].sum().reset_index()\n"
   ]
  },
  {
   "cell_type": "code",
   "execution_count": null,
   "id": "9021b35c-017d-4900-8cf9-ae121c5ddc90",
   "metadata": {
    "tags": []
   },
   "outputs": [],
   "source": [
    "import pandas as pd\n",
    "import numpy as np\n",
    "import matplotlib.pyplot as plt\n",
    "from statsmodels.tsa.seasonal import seasonal_decompose\n",
    "\n",
    "# Create a sample time series\n",
    "date_rng = sort['Count_date']\n",
    "data = sort['All_motor_vehicles']\n",
    "df = pd.DataFrame({'Date': date_rng, 'All_motor_vehicles': data})\n",
    "df.set_index('Date', inplace=True)\n",
    "\n",
    "# Plot the original time series\n",
    "plt.figure(figsize=(12, 6))\n",
    "plt.plot(df.index, df['All_motor_vehicles'], label='Original Time Series')\n",
    "plt.xlabel('Date')\n",
    "plt.ylabel('All_motor_vehicles')\n",
    "plt.title('Original Time Series')\n",
    "plt.legend()\n",
    "plt.show()\n"
   ]
  },
  {
   "cell_type": "code",
   "execution_count": null,
   "id": "56997be8-338b-4fc1-83d2-c72d889d04bb",
   "metadata": {
    "tags": []
   },
   "outputs": [],
   "source": [
    "# Decompose the time series into trend, seasonal, and residual components\n",
    "result = seasonal_decompose(df['All_motor_vehicles'], model='additive', period=365)\n",
    "\n",
    "# Plot the decomposed components\n",
    "plt.figure(figsize=(12, 8))\n",
    "\n",
    "plt.subplot(411)\n",
    "plt.plot(result.trend, label='Trend')\n",
    "plt.legend(loc='upper left')\n",
    "plt.title('Trend')\n",
    "\n",
    "plt.subplot(412)\n",
    "plt.plot(result.seasonal, label='Seasonal')\n",
    "plt.legend(loc='upper left')\n",
    "plt.title('Seasonal')\n",
    "\n",
    "plt.subplot(413)\n",
    "plt.plot(result.resid, label='Residual')\n",
    "plt.legend(loc='upper left')\n",
    "plt.title('Residual')\n",
    "\n",
    "plt.subplot(414)\n",
    "plt.plot(df['All_motor_vehicles'], label='Original')\n",
    "plt.legend(loc='upper left')\n",
    "plt.title('Original')\n",
    "\n",
    "plt.tight_layout()\n",
    "plt.show()\n"
   ]
  },
  {
   "cell_type": "raw",
   "id": "1f44ca6e-5fdd-4038-b761-cb9a394184cc",
   "metadata": {},
   "source": [
    "there are so many missing days on the daily chart this will prompt the use of monthly data by grouping it to monthly first"
   ]
  },
  {
   "cell_type": "code",
   "execution_count": null,
   "id": "da472e83-24b3-4378-9538-6393a9c22b11",
   "metadata": {
    "tags": []
   },
   "outputs": [],
   "source": [
    "import pandas as pd\n",
    "import numpy as np\n",
    "import matplotlib.pyplot as plt\n",
    "from statsmodels.tsa.seasonal import seasonal_decompose\n",
    "\n",
    "# Sample DataFrame with monthly data spanning multiple years\n",
    "data = ready\n",
    "\n",
    "# Create a DataFrame\n",
    "df = pd.DataFrame(data)\n",
    "\n",
    "# Create a numerical index for the months (1 for January, 2 for February, etc.)\n",
    "month_mapping = {\n",
    "    'January': 1, 'February': 2, 'March': 3, 'April': 4,\n",
    "    'May': 5, 'June': 6, 'July': 7, 'August': 8,\n",
    "    'September': 9, 'October': 10, 'November': 11, 'December': 12\n",
    "}\n",
    "\n",
    "df['Month_Index'] = df['month'].map(month_mapping)\n",
    "\n",
    "# Create a date index combining 'Year' and 'Month_Index'\n",
    "df['Date'] = pd.to_datetime(df['Year'].astype(str) + '-' + df['Month_Index'].astype(str), format='%Y-%m')\n",
    "df.set_index('Date', inplace=True)\n",
    "\n",
    "# Sort the DataFrame by the date index to ensure chronological order\n",
    "df.sort_index(inplace=True)\n",
    "\n",
    "# Perform the time series decomposition\n",
    "result = seasonal_decompose(df['All_motor_vehicles'], model='additive', period=12)  # Assuming monthly data with a yearly (12-month) seasonal pattern\n",
    "\n",
    "# Plot the decomposed components\n",
    "plt.figure(figsize=(12, 8))\n",
    "\n",
    "plt.subplot(411)\n",
    "plt.plot(result.trend, label='Trend')\n",
    "plt.legend(loc='upper left')\n",
    "plt.title('Trend')\n",
    "\n",
    "plt.subplot(412)\n",
    "plt.plot(result.seasonal, label='Seasonal')\n",
    "plt.legend(loc='upper left')\n",
    "plt.title('Seasonal')\n",
    "\n",
    "plt.subplot(413)\n",
    "plt.plot(result.resid, label='Residual')\n",
    "plt.legend(loc='upper left')\n",
    "plt.title('Residual')\n",
    "\n",
    "plt.subplot(414)\n",
    "plt.plot(df['All_motor_vehicles'], label='Original')\n",
    "plt.legend(loc='upper left')\n",
    "plt.title('Original')\n",
    "\n",
    "plt.tight_layout()\n",
    "plt.show()\n"
   ]
  },
  {
   "cell_type": "code",
   "execution_count": null,
   "id": "f8069107-a0d1-4dbe-bc45-52abe37a3ead",
   "metadata": {
    "tags": []
   },
   "outputs": [],
   "source": [
    "from statsmodels.tsa.stattools import adfuller\n",
    "from statsmodels.tsa.arima.model import ARIMA\n",
    "\n",
    "# Plot the ACF and PACF to determine the order of differencing (d) and the AR and MA components (p, q)\n",
    "plt.figure(figsize=(12, 6))\n",
    "plt.subplot(211)\n",
    "plot_acf(df['All_motor_vehicles'], ax=plt.gca(), lags=40)\n",
    "plt.subplot(212)\n",
    "plot_pacf(df['All_motor_vehicles'], ax=plt.gca(), lags=40)\n",
    "plt.show()\n",
    "\n",
    "# Check for stationarity using the Augmented Dickey-Fuller test\n",
    "adf_result = adfuller(df['All_motor_vehicles'])\n",
    "print(f'ADF Statistic: {adf_result[0]}')\n",
    "print(f'p-value: {adf_result[1]}')\n",
    "print('Critical Values:')\n",
    "for key, value in adf_result[4].items():\n",
    "    print(f'{key}: {value}')\n",
    "\n",
    "# Based on the ACF, PACF, and ADF test results, determine the values of p, d, and q\n",
    "p = 1  # AR component (lag order)\n",
    "d = 1  # Differencing order (based on the ADF test)\n",
    "q = 1  # MA component (lag order)\n",
    "\n",
    "# Fit the ARIMA model\n",
    "model = ARIMA(df['All_motor_vehicles'], order=(p, d, q))\n",
    "results = model.fit()\n",
    "\n",
    "# Print the model summary\n",
    "print(results.summary())\n",
    "\n",
    "# Plot the observed vs. fitted values\n",
    "plt.figure(figsize=(12, 6))\n",
    "plt.plot(df.index, df['All_motor_vehicles'], label='Observed')\n",
    "plt.plot(df.index, results.fittedvalues, color='red', label='Fitted', linestyle='--')\n",
    "plt.legend()\n",
    "plt.title('Observed vs. Fitted Values')\n",
    "plt.show()"
   ]
  },
  {
   "cell_type": "code",
   "execution_count": null,
   "id": "21b783fc-e754-4872-8781-586e1c08eafd",
   "metadata": {
    "tags": []
   },
   "outputs": [],
   "source": [
    "ready"
   ]
  },
  {
   "cell_type": "raw",
   "id": "0150e3c5-21b1-41f5-80f0-8980cb7e6ede",
   "metadata": {},
   "source": [
    "# lstm"
   ]
  },
  {
   "cell_type": "code",
   "execution_count": 18,
   "id": "8e5bc767-b6f8-4d2b-9db8-380a574fd6ec",
   "metadata": {
    "tags": []
   },
   "outputs": [],
   "source": [
    "data['All_motor_vehicles'] = data['All_motor_vehicles'].astype(int)\n",
    "data = pd.read_csv(file_path)"
   ]
  },
  {
   "cell_type": "code",
   "execution_count": 19,
   "id": "d5df1b17-f582-48fa-9c42-709bc49cc610",
   "metadata": {
    "tags": []
   },
   "outputs": [
    {
     "data": {
      "text/plain": [
       "0           935\n",
       "1          1102\n",
       "2           773\n",
       "3           778\n",
       "4           875\n",
       "           ... \n",
       "4815499      57\n",
       "4815500      74\n",
       "4815501      69\n",
       "4815502      73\n",
       "4815503      49\n",
       "Name: All_motor_vehicles, Length: 4815504, dtype: int32"
      ]
     },
     "execution_count": 19,
     "metadata": {},
     "output_type": "execute_result"
    }
   ],
   "source": [
    "\n",
    "\n",
    "# Replace NA and infinite values with 0\n",
    "data['All_motor_vehicles'].fillna(0, inplace=True)\n",
    "data['All_motor_vehicles'].replace([np.inf, -np.inf], 0, inplace=True)\n",
    "data['All_motor_vehicles'] = data['All_motor_vehicles'].astype(int)\n",
    "motor = data['All_motor_vehicles']\n",
    "motor\n"
   ]
  },
  {
   "cell_type": "code",
   "execution_count": 20,
   "id": "c1a61527-ad81-4dc8-9279-cb966c2d53cf",
   "metadata": {
    "tags": []
   },
   "outputs": [],
   "source": [
    "def df_to_x_y(data, window_size = 12):\n",
    "    df_as_np = data.to_numpy()\n",
    "    X = []\n",
    "    y = []\n",
    "    for i in range(len(df_as_np) - window_size):\n",
    "        row = [[a] for a in df_as_np[i:i + 12]]\n",
    "        X.append(row)\n",
    "        label = df_as_np[i + 12]\n",
    "        y.append(label)\n",
    "    return np.array(X),np.array(y)"
   ]
  },
  {
   "cell_type": "markdown",
   "id": "1332d21b",
   "metadata": {},
   "source": []
  },
  {
   "cell_type": "code",
   "execution_count": 21,
   "id": "23433be8-bc21-4851-9420-7b2c12090e52",
   "metadata": {
    "tags": []
   },
   "outputs": [
    {
     "data": {
      "text/plain": [
       "((4815492, 12, 1), (4815492,))"
      ]
     },
     "execution_count": 21,
     "metadata": {},
     "output_type": "execute_result"
    }
   ],
   "source": [
    "WINDOW_SIZE = 12\n",
    "X, y = df_to_x_y(motor, WINDOW_SIZE)\n",
    "X.shape, y.shape"
   ]
  },
  {
   "cell_type": "code",
   "execution_count": 22,
   "id": "c1b72522-870c-465f-81d3-1fa85fd1720a",
   "metadata": {
    "tags": []
   },
   "outputs": [
    {
     "name": "stdout",
     "output_type": "stream",
     "text": [
      "WARNING:tensorflow:From C:\\Users\\neste\\AppData\\Local\\anaconda3\\Lib\\site-packages\\keras\\src\\losses.py:2976: The name tf.losses.sparse_softmax_cross_entropy is deprecated. Please use tf.compat.v1.losses.sparse_softmax_cross_entropy instead.\n",
      "\n"
     ]
    }
   ],
   "source": [
    "from tensorflow.keras.models import Sequential\n",
    "from tensorflow.keras.layers import *\n",
    "from tensorflow.keras.callbacks import ModelCheckpoint\n",
    "from tensorflow.keras.losses import MeanSquaredError\n",
    "from tensorflow.keras.metrics import RootMeanSquaredError\n",
    "from tensorflow.keras.optimizers import Adam"
   ]
  },
  {
   "cell_type": "code",
   "execution_count": 23,
   "id": "5134092e-43bd-42df-b3ff-c1781c77e043",
   "metadata": {
    "tags": []
   },
   "outputs": [],
   "source": [
    "X_train, y_train = X[:4000000],y [:4000000]\n",
    "X_val, y_val = X[4000000:4815492], y[4000000:4815492]\n",
    "X_test, y_test = X[4500000:], y[45000000:]"
   ]
  },
  {
   "cell_type": "code",
   "execution_count": 24,
   "id": "649a71bc-7b54-4252-913b-e39bb6eef59c",
   "metadata": {
    "tags": []
   },
   "outputs": [
    {
     "name": "stdout",
     "output_type": "stream",
     "text": [
      "WARNING:tensorflow:From C:\\Users\\neste\\AppData\\Local\\anaconda3\\Lib\\site-packages\\keras\\src\\backend.py:873: The name tf.get_default_graph is deprecated. Please use tf.compat.v1.get_default_graph instead.\n",
      "\n",
      "Model: \"sequential\"\n",
      "_________________________________________________________________\n",
      " Layer (type)                Output Shape              Param #   \n",
      "=================================================================\n",
      " lstm (LSTM)                 (None, 64)                16896     \n",
      "                                                                 \n",
      " dense (Dense)               (None, 8)                 520       \n",
      "                                                                 \n",
      " dense_1 (Dense)             (None, 1)                 9         \n",
      "                                                                 \n",
      "=================================================================\n",
      "Total params: 17425 (68.07 KB)\n",
      "Trainable params: 17425 (68.07 KB)\n",
      "Non-trainable params: 0 (0.00 Byte)\n",
      "_________________________________________________________________\n"
     ]
    }
   ],
   "source": [
    "model1 = Sequential()\n",
    "model1.add(InputLayer((12,1)))\n",
    "model1.add(LSTM(64))\n",
    "model1.add(Dense(8,'relu'))\n",
    "model1.add(Dense(1,'linear'))\n",
    "model1.summary()"
   ]
  },
  {
   "cell_type": "code",
   "execution_count": 25,
   "id": "28d688e9-492f-4202-8b4d-7e60fdca3e1c",
   "metadata": {
    "tags": []
   },
   "outputs": [],
   "source": [
    "from tensorflow.keras.metrics import RootMeanSquaredError\n",
    "\n",
    "# Create an instance of the RootMeanSquaredError metric\n",
    "rmse_metric = RootMeanSquaredError()\n",
    "\n",
    "# Compile the model with the metric\n",
    "model1.compile(loss=MeanSquaredError(), optimizer=Adam(learning_rate=0.001), metrics=[rmse_metric])\n"
   ]
  },
  {
   "cell_type": "code",
   "execution_count": 26,
   "id": "adc50623-1ced-46f0-b800-d817f2dc29c9",
   "metadata": {
    "tags": []
   },
   "outputs": [
    {
     "name": "stdout",
     "output_type": "stream",
     "text": [
      "Epoch 1/10\n",
      "WARNING:tensorflow:From C:\\Users\\neste\\AppData\\Local\\anaconda3\\Lib\\site-packages\\keras\\src\\utils\\tf_utils.py:492: The name tf.ragged.RaggedTensorValue is deprecated. Please use tf.compat.v1.ragged.RaggedTensorValue instead.\n",
      "\n",
      "124994/125000 [============================>.] - ETA: 0s - loss: 170955.7031 - root_mean_squared_error: 413.4679\n",
      "Epoch 1: val_loss improved from inf to 118178.72656, saving model to C:\\Users\\neste\\Documents\\selenium\\your_model_checkpoint.h5\n",
      "125000/125000 [==============================] - 941s 7ms/step - loss: 170955.1250 - root_mean_squared_error: 413.4672 - val_loss: 118178.7266 - val_root_mean_squared_error: 343.7713\n",
      "Epoch 2/10\n",
      "     8/125000 [..............................] - ETA: 16:21 - loss: 256088.5625 - root_mean_squared_error: 506.0519"
     ]
    },
    {
     "name": "stderr",
     "output_type": "stream",
     "text": [
      "C:\\Users\\neste\\AppData\\Local\\anaconda3\\Lib\\site-packages\\keras\\src\\engine\\training.py:3103: UserWarning: You are saving your model as an HDF5 file via `model.save()`. This file format is considered legacy. We recommend using instead the native Keras format, e.g. `model.save('my_model.keras')`.\n",
      "  saving_api.save_model(\n"
     ]
    },
    {
     "name": "stdout",
     "output_type": "stream",
     "text": [
      "124994/125000 [============================>.] - ETA: 0s - loss: 154830.0625 - root_mean_squared_error: 393.4845\n",
      "Epoch 2: val_loss improved from 118178.72656 to 112097.30469, saving model to C:\\Users\\neste\\Documents\\selenium\\your_model_checkpoint.h5\n",
      "125000/125000 [==============================] - 999s 8ms/step - loss: 154829.9375 - root_mean_squared_error: 393.4843 - val_loss: 112097.3047 - val_root_mean_squared_error: 334.8094\n",
      "Epoch 3/10\n",
      "124997/125000 [============================>.] - ETA: 0s - loss: 154808.5938 - root_mean_squared_error: 393.4572\n",
      "Epoch 3: val_loss did not improve from 112097.30469\n",
      "125000/125000 [==============================] - 1038s 8ms/step - loss: 154809.2656 - root_mean_squared_error: 393.4581 - val_loss: 146530.0156 - val_root_mean_squared_error: 382.7924\n",
      "Epoch 4/10\n",
      "124998/125000 [============================>.] - ETA: 0s - loss: 147579.6562 - root_mean_squared_error: 384.1610\n",
      "Epoch 4: val_loss did not improve from 112097.30469\n",
      "125000/125000 [==============================] - 1140s 9ms/step - loss: 147578.9531 - root_mean_squared_error: 384.1601 - val_loss: 148115.6562 - val_root_mean_squared_error: 384.8580\n",
      "Epoch 5/10\n",
      "124998/125000 [============================>.] - ETA: 0s - loss: 150771.9219 - root_mean_squared_error: 388.2936\n",
      "Epoch 5: val_loss did not improve from 112097.30469\n",
      "125000/125000 [==============================] - 959s 8ms/step - loss: 150772.6406 - root_mean_squared_error: 388.2945 - val_loss: 135280.6875 - val_root_mean_squared_error: 367.8052\n",
      "Epoch 6/10\n",
      "124997/125000 [============================>.] - ETA: 0s - loss: 145836.7812 - root_mean_squared_error: 381.8858\n",
      "Epoch 6: val_loss did not improve from 112097.30469\n",
      "125000/125000 [==============================] - 964s 8ms/step - loss: 145839.4219 - root_mean_squared_error: 381.8893 - val_loss: 158825.6875 - val_root_mean_squared_error: 398.5294\n",
      "Epoch 7/10\n",
      "124996/125000 [============================>.] - ETA: 0s - loss: 153529.5781 - root_mean_squared_error: 391.8285\n",
      "Epoch 7: val_loss did not improve from 112097.30469\n",
      "125000/125000 [==============================] - 985s 8ms/step - loss: 153529.2031 - root_mean_squared_error: 391.8280 - val_loss: 161058.2344 - val_root_mean_squared_error: 401.3206\n",
      "Epoch 8/10\n",
      "124995/125000 [============================>.] - ETA: 0s - loss: 155884.9375 - root_mean_squared_error: 394.8227\n",
      "Epoch 8: val_loss did not improve from 112097.30469\n",
      "125000/125000 [==============================] - 974s 8ms/step - loss: 155883.4375 - root_mean_squared_error: 394.8208 - val_loss: 172694.0000 - val_root_mean_squared_error: 415.5647\n",
      "Epoch 9/10\n",
      "124995/125000 [============================>.] - ETA: 0s - loss: 136277.4062 - root_mean_squared_error: 369.1577\n",
      "Epoch 9: val_loss did not improve from 112097.30469\n",
      "125000/125000 [==============================] - 1070s 9ms/step - loss: 136274.6562 - root_mean_squared_error: 369.1540 - val_loss: 120612.3984 - val_root_mean_squared_error: 347.2930\n",
      "Epoch 10/10\n",
      "124997/125000 [============================>.] - ETA: 0s - loss: 138262.9844 - root_mean_squared_error: 371.8373\n",
      "Epoch 10: val_loss improved from 112097.30469 to 88116.71875, saving model to C:\\Users\\neste\\Documents\\selenium\\your_model_checkpoint.h5\n",
      "125000/125000 [==============================] - 1370s 11ms/step - loss: 138264.2188 - root_mean_squared_error: 371.8390 - val_loss: 88116.7188 - val_root_mean_squared_error: 296.8446\n"
     ]
    },
    {
     "data": {
      "text/plain": [
       "<keras.src.callbacks.History at 0x23b7fcd5b90>"
      ]
     },
     "execution_count": 26,
     "metadata": {},
     "output_type": "execute_result"
    }
   ],
   "source": [
    "# Define a ModelCheckpoint callback\n",
    "cp = ModelCheckpoint(filepath='C:\\\\Users\\\\neste\\\\Documents\\\\selenium\\\\your_model_checkpoint.h5', save_best_only=True, verbose=1)\n",
    "model1.fit(X_train,y_train, validation_data = (X_val,y_val), epochs = 10,callbacks = [cp])"
   ]
  },
  {
   "cell_type": "code",
   "execution_count": 27,
   "id": "dbee05cc",
   "metadata": {},
   "outputs": [
    {
     "name": "stdout",
     "output_type": "stream",
     "text": [
      "Epoch 1/10\n",
      "124999/125000 [============================>.] - ETA: 0s - loss: 151026.5469 - root_mean_squared_error: 388.6213\n",
      "Epoch 1: val_loss did not improve from 88116.71875\n",
      "125000/125000 [==============================] - 1308s 10ms/step - loss: 151025.7500 - root_mean_squared_error: 388.6203 - val_loss: 88562.0547 - val_root_mean_squared_error: 297.5938\n",
      "Epoch 2/10\n",
      "124997/125000 [============================>.] - ETA: 0s - loss: 129875.7891 - root_mean_squared_error: 360.3828\n",
      "Epoch 2: val_loss did not improve from 88116.71875\n",
      "125000/125000 [==============================] - 1414s 11ms/step - loss: 129874.7969 - root_mean_squared_error: 360.3815 - val_loss: 91449.1328 - val_root_mean_squared_error: 302.4056\n",
      "Epoch 3/10\n",
      "124999/125000 [============================>.] - ETA: 0s - loss: 124671.7188 - root_mean_squared_error: 353.0888\n",
      "Epoch 3: val_loss did not improve from 88116.71875\n",
      "125000/125000 [==============================] - 1233s 10ms/step - loss: 124671.5234 - root_mean_squared_error: 353.0886 - val_loss: 95881.2969 - val_root_mean_squared_error: 309.6471\n",
      "Epoch 4/10\n",
      "124999/125000 [============================>.] - ETA: 0s - loss: 119586.6328 - root_mean_squared_error: 345.8130\n",
      "Epoch 4: val_loss did not improve from 88116.71875\n",
      "125000/125000 [==============================] - 1435s 11ms/step - loss: 119587.0078 - root_mean_squared_error: 345.8135 - val_loss: 114362.9922 - val_root_mean_squared_error: 338.1760\n",
      "Epoch 5/10\n",
      "125000/125000 [==============================] - ETA: 0s - loss: 125279.0391 - root_mean_squared_error: 353.9478\n",
      "Epoch 5: val_loss did not improve from 88116.71875\n",
      "125000/125000 [==============================] - 1547s 12ms/step - loss: 125279.0391 - root_mean_squared_error: 353.9478 - val_loss: 101952.0234 - val_root_mean_squared_error: 319.2993\n",
      "Epoch 6/10\n",
      "124997/125000 [============================>.] - ETA: 0s - loss: 120992.4219 - root_mean_squared_error: 347.8397\n",
      "Epoch 6: val_loss did not improve from 88116.71875\n",
      "125000/125000 [==============================] - 1449s 12ms/step - loss: 120990.6641 - root_mean_squared_error: 347.8371 - val_loss: 97689.8594 - val_root_mean_squared_error: 312.5538\n",
      "Epoch 7/10\n",
      "124995/125000 [============================>.] - ETA: 0s - loss: 124167.6797 - root_mean_squared_error: 352.3744\n",
      "Epoch 7: val_loss did not improve from 88116.71875\n",
      "125000/125000 [==============================] - 1448s 12ms/step - loss: 124167.8125 - root_mean_squared_error: 352.3745 - val_loss: 99507.7266 - val_root_mean_squared_error: 315.4485\n",
      "Epoch 8/10\n",
      "124998/125000 [============================>.] - ETA: 0s - loss: 118072.5938 - root_mean_squared_error: 343.6169\n",
      "Epoch 8: val_loss did not improve from 88116.71875\n",
      "125000/125000 [==============================] - 1533s 12ms/step - loss: 118072.6562 - root_mean_squared_error: 343.6170 - val_loss: 102937.5703 - val_root_mean_squared_error: 320.8389\n",
      "Epoch 9/10\n",
      "124998/125000 [============================>.] - ETA: 0s - loss: 121546.2578 - root_mean_squared_error: 348.6349\n",
      "Epoch 9: val_loss did not improve from 88116.71875\n",
      "125000/125000 [==============================] - 1594s 13ms/step - loss: 121548.2031 - root_mean_squared_error: 348.6376 - val_loss: 96623.0781 - val_root_mean_squared_error: 310.8425\n",
      "Epoch 10/10\n",
      "124994/125000 [============================>.] - ETA: 0s - loss: 140102.5312 - root_mean_squared_error: 374.3027\n",
      "Epoch 10: val_loss did not improve from 88116.71875\n",
      "125000/125000 [==============================] - 1668s 13ms/step - loss: 140140.5000 - root_mean_squared_error: 374.3535 - val_loss: 775765.0625 - val_root_mean_squared_error: 880.7753\n"
     ]
    },
    {
     "data": {
      "text/plain": [
       "<keras.src.callbacks.History at 0x23b7fcd54d0>"
      ]
     },
     "execution_count": 27,
     "metadata": {},
     "output_type": "execute_result"
    }
   ],
   "source": [
    "\n",
    "# Train your model using the subset\n",
    "model1.fit(X_train, y_train, validation_data=(X_val, y_val), epochs=10, callbacks=[cp])"
   ]
  },
  {
   "cell_type": "code",
   "execution_count": 28,
   "id": "0d1ff596",
   "metadata": {},
   "outputs": [
    {
     "name": "stdout",
     "output_type": "stream",
     "text": [
      "Current working directory: C:\\Users\\neste\\3D Objects\\Gitrepos\\robertnesterodhiambo-Data-analysis\n",
      "File path for saving the model: your_model_checkpoint.h5\n"
     ]
    }
   ],
   "source": [
    "import os\n",
    "print(\"Current working directory:\", os.getcwd())\n",
    "print(\"File path for saving the model:\", 'your_model_checkpoint.h5')"
   ]
  },
  {
   "cell_type": "code",
   "execution_count": 29,
   "id": "30c51284-fc7b-450e-b8a5-d664f2915e15",
   "metadata": {
    "tags": []
   },
   "outputs": [
    {
     "ename": "OSError",
     "evalue": "No file or directory found at your_model_checkpoint.h5",
     "output_type": "error",
     "traceback": [
      "\u001b[1;31m---------------------------------------------------------------------------\u001b[0m",
      "\u001b[1;31mOSError\u001b[0m                                   Traceback (most recent call last)",
      "Cell \u001b[1;32mIn[29], line 3\u001b[0m\n\u001b[0;32m      1\u001b[0m \u001b[38;5;28;01mimport\u001b[39;00m \u001b[38;5;21;01mtensorflow\u001b[39;00m\u001b[38;5;21;01m.\u001b[39;00m\u001b[38;5;21;01mkeras\u001b[39;00m \u001b[38;5;28;01mas\u001b[39;00m \u001b[38;5;21;01mkeras\u001b[39;00m\n\u001b[1;32m----> 3\u001b[0m model1 \u001b[38;5;241m=\u001b[39m keras\u001b[38;5;241m.\u001b[39mmodels\u001b[38;5;241m.\u001b[39mload_model(\u001b[38;5;124m'\u001b[39m\u001b[38;5;124myour_model_checkpoint.h5\u001b[39m\u001b[38;5;124m'\u001b[39m)\n",
      "File \u001b[1;32m~\\AppData\\Local\\anaconda3\\Lib\\site-packages\\keras\\src\\saving\\saving_api.py:262\u001b[0m, in \u001b[0;36mload_model\u001b[1;34m(filepath, custom_objects, compile, safe_mode, **kwargs)\u001b[0m\n\u001b[0;32m    254\u001b[0m     \u001b[38;5;28;01mreturn\u001b[39;00m saving_lib\u001b[38;5;241m.\u001b[39mload_model(\n\u001b[0;32m    255\u001b[0m         filepath,\n\u001b[0;32m    256\u001b[0m         custom_objects\u001b[38;5;241m=\u001b[39mcustom_objects,\n\u001b[0;32m    257\u001b[0m         \u001b[38;5;28mcompile\u001b[39m\u001b[38;5;241m=\u001b[39m\u001b[38;5;28mcompile\u001b[39m,\n\u001b[0;32m    258\u001b[0m         safe_mode\u001b[38;5;241m=\u001b[39msafe_mode,\n\u001b[0;32m    259\u001b[0m     )\n\u001b[0;32m    261\u001b[0m \u001b[38;5;66;03m# Legacy case.\u001b[39;00m\n\u001b[1;32m--> 262\u001b[0m \u001b[38;5;28;01mreturn\u001b[39;00m legacy_sm_saving_lib\u001b[38;5;241m.\u001b[39mload_model(\n\u001b[0;32m    263\u001b[0m     filepath, custom_objects\u001b[38;5;241m=\u001b[39mcustom_objects, \u001b[38;5;28mcompile\u001b[39m\u001b[38;5;241m=\u001b[39m\u001b[38;5;28mcompile\u001b[39m, \u001b[38;5;241m*\u001b[39m\u001b[38;5;241m*\u001b[39mkwargs\n\u001b[0;32m    264\u001b[0m )\n",
      "File \u001b[1;32m~\\AppData\\Local\\anaconda3\\Lib\\site-packages\\keras\\src\\utils\\traceback_utils.py:70\u001b[0m, in \u001b[0;36mfilter_traceback.<locals>.error_handler\u001b[1;34m(*args, **kwargs)\u001b[0m\n\u001b[0;32m     67\u001b[0m     filtered_tb \u001b[38;5;241m=\u001b[39m _process_traceback_frames(e\u001b[38;5;241m.\u001b[39m__traceback__)\n\u001b[0;32m     68\u001b[0m     \u001b[38;5;66;03m# To get the full stack trace, call:\u001b[39;00m\n\u001b[0;32m     69\u001b[0m     \u001b[38;5;66;03m# `tf.debugging.disable_traceback_filtering()`\u001b[39;00m\n\u001b[1;32m---> 70\u001b[0m     \u001b[38;5;28;01mraise\u001b[39;00m e\u001b[38;5;241m.\u001b[39mwith_traceback(filtered_tb) \u001b[38;5;28;01mfrom\u001b[39;00m \u001b[38;5;28;01mNone\u001b[39;00m\n\u001b[0;32m     71\u001b[0m \u001b[38;5;28;01mfinally\u001b[39;00m:\n\u001b[0;32m     72\u001b[0m     \u001b[38;5;28;01mdel\u001b[39;00m filtered_tb\n",
      "File \u001b[1;32m~\\AppData\\Local\\anaconda3\\Lib\\site-packages\\keras\\src\\saving\\legacy\\save.py:234\u001b[0m, in \u001b[0;36mload_model\u001b[1;34m(filepath, custom_objects, compile, options)\u001b[0m\n\u001b[0;32m    232\u001b[0m \u001b[38;5;28;01mif\u001b[39;00m \u001b[38;5;28misinstance\u001b[39m(filepath_str, \u001b[38;5;28mstr\u001b[39m):\n\u001b[0;32m    233\u001b[0m     \u001b[38;5;28;01mif\u001b[39;00m \u001b[38;5;129;01mnot\u001b[39;00m tf\u001b[38;5;241m.\u001b[39mio\u001b[38;5;241m.\u001b[39mgfile\u001b[38;5;241m.\u001b[39mexists(filepath_str):\n\u001b[1;32m--> 234\u001b[0m         \u001b[38;5;28;01mraise\u001b[39;00m \u001b[38;5;167;01mIOError\u001b[39;00m(\n\u001b[0;32m    235\u001b[0m             \u001b[38;5;124mf\u001b[39m\u001b[38;5;124m\"\u001b[39m\u001b[38;5;124mNo file or directory found at \u001b[39m\u001b[38;5;132;01m{\u001b[39;00mfilepath_str\u001b[38;5;132;01m}\u001b[39;00m\u001b[38;5;124m\"\u001b[39m\n\u001b[0;32m    236\u001b[0m         )\n\u001b[0;32m    238\u001b[0m     \u001b[38;5;28;01mif\u001b[39;00m tf\u001b[38;5;241m.\u001b[39mio\u001b[38;5;241m.\u001b[39mgfile\u001b[38;5;241m.\u001b[39misdir(filepath_str):\n\u001b[0;32m    239\u001b[0m         \u001b[38;5;28;01mreturn\u001b[39;00m saved_model_load\u001b[38;5;241m.\u001b[39mload(\n\u001b[0;32m    240\u001b[0m             filepath_str, \u001b[38;5;28mcompile\u001b[39m, options\n\u001b[0;32m    241\u001b[0m         )\n",
      "\u001b[1;31mOSError\u001b[0m: No file or directory found at your_model_checkpoint.h5"
     ]
    }
   ],
   "source": [
    "import tensorflow.keras as keras\n",
    "\n",
    "model1 = keras.models.load_model('your_model_checkpoint.h5')  # Replace 'your_model_checkpoint.h5' with the actual filename and extension of your model\n"
   ]
  },
  {
   "cell_type": "code",
   "execution_count": 30,
   "id": "4f1f8ce2-34f5-4cea-97a9-4355ab809096",
   "metadata": {},
   "outputs": [
    {
     "name": "stdout",
     "output_type": "stream",
     "text": [
      "125000/125000 [==============================] - 788s 6ms/step\n"
     ]
    },
    {
     "data": {
      "text/html": [
       "<div>\n",
       "<style scoped>\n",
       "    .dataframe tbody tr th:only-of-type {\n",
       "        vertical-align: middle;\n",
       "    }\n",
       "\n",
       "    .dataframe tbody tr th {\n",
       "        vertical-align: top;\n",
       "    }\n",
       "\n",
       "    .dataframe thead th {\n",
       "        text-align: right;\n",
       "    }\n",
       "</style>\n",
       "<table border=\"1\" class=\"dataframe\">\n",
       "  <thead>\n",
       "    <tr style=\"text-align: right;\">\n",
       "      <th></th>\n",
       "      <th>Train predictions</th>\n",
       "      <th>Actuals</th>\n",
       "    </tr>\n",
       "  </thead>\n",
       "  <tbody>\n",
       "    <tr>\n",
       "      <th>0</th>\n",
       "      <td>101.635742</td>\n",
       "      <td>987</td>\n",
       "    </tr>\n",
       "    <tr>\n",
       "      <th>1</th>\n",
       "      <td>101.635742</td>\n",
       "      <td>1208</td>\n",
       "    </tr>\n",
       "    <tr>\n",
       "      <th>2</th>\n",
       "      <td>101.635742</td>\n",
       "      <td>1104</td>\n",
       "    </tr>\n",
       "    <tr>\n",
       "      <th>3</th>\n",
       "      <td>101.635742</td>\n",
       "      <td>786</td>\n",
       "    </tr>\n",
       "    <tr>\n",
       "      <th>4</th>\n",
       "      <td>101.635742</td>\n",
       "      <td>778</td>\n",
       "    </tr>\n",
       "    <tr>\n",
       "      <th>...</th>\n",
       "      <td>...</td>\n",
       "      <td>...</td>\n",
       "    </tr>\n",
       "    <tr>\n",
       "      <th>3999995</th>\n",
       "      <td>101.635742</td>\n",
       "      <td>165</td>\n",
       "    </tr>\n",
       "    <tr>\n",
       "      <th>3999996</th>\n",
       "      <td>101.635742</td>\n",
       "      <td>147</td>\n",
       "    </tr>\n",
       "    <tr>\n",
       "      <th>3999997</th>\n",
       "      <td>101.635742</td>\n",
       "      <td>118</td>\n",
       "    </tr>\n",
       "    <tr>\n",
       "      <th>3999998</th>\n",
       "      <td>101.635742</td>\n",
       "      <td>139</td>\n",
       "    </tr>\n",
       "    <tr>\n",
       "      <th>3999999</th>\n",
       "      <td>101.635742</td>\n",
       "      <td>165</td>\n",
       "    </tr>\n",
       "  </tbody>\n",
       "</table>\n",
       "<p>4000000 rows × 2 columns</p>\n",
       "</div>"
      ],
      "text/plain": [
       "         Train predictions  Actuals\n",
       "0               101.635742      987\n",
       "1               101.635742     1208\n",
       "2               101.635742     1104\n",
       "3               101.635742      786\n",
       "4               101.635742      778\n",
       "...                    ...      ...\n",
       "3999995         101.635742      165\n",
       "3999996         101.635742      147\n",
       "3999997         101.635742      118\n",
       "3999998         101.635742      139\n",
       "3999999         101.635742      165\n",
       "\n",
       "[4000000 rows x 2 columns]"
      ]
     },
     "execution_count": 30,
     "metadata": {},
     "output_type": "execute_result"
    }
   ],
   "source": [
    "train_predictions =  model1.predict(X_train).flatten()\n",
    "train_results = pd.DataFrame(data = {'Train predictions' : train_predictions, 'Actuals' : y_train})\n",
    "train_results"
   ]
  },
  {
   "cell_type": "code",
   "execution_count": 31,
   "id": "c3c25b13-6737-4929-8df3-f04a6b81e5a5",
   "metadata": {},
   "outputs": [
    {
     "data": {
      "text/plain": [
       "[<matplotlib.lines.Line2D at 0x23bcadd0fd0>]"
      ]
     },
     "execution_count": 31,
     "metadata": {},
     "output_type": "execute_result"
    },
    {
     "data": {
      "image/png": "[encoded data removed]",
      "text/plain": [
       "<Figure size 640x480 with 1 Axes>"
      ]
     },
     "metadata": {},
     "output_type": "display_data"
    }
   ],
   "source": [
    "import matplotlib.pyplot as plt\n",
    "plt.plot(train_results['Train predictions'][:100])\n",
    "plt.plot(train_results['Actuals'][:100])"
   ]
  },
  {
   "cell_type": "code",
   "execution_count": null,
   "id": "d24fc358-31d1-4afd-99fc-c9a420b8be09",
   "metadata": {},
   "outputs": [],
   "source": [
    "val_predictions =  model1.predict(X_val).flatten()\n",
    "val_results = pd.DataFrame(data = {'val predictions' : val_predictions, 'Actuals' : y_val})\n",
    "val_results"
   ]
  },
  {
   "cell_type": "code",
   "execution_count": null,
   "id": "29cc9bc8-f9cc-45b8-a09f-7e8f36835d7b",
   "metadata": {
    "tags": []
   },
   "outputs": [],
   "source": [
    "# GARCH MODEL START \n",
    "import arch\n",
    "from arch import arch_model"
   ]
  },
  {
   "cell_type": "code",
   "execution_count": null,
   "id": "2816d1c3-cd9f-46db-a324-fb5de30bca54",
   "metadata": {
    "tags": []
   },
   "outputs": [],
   "source": [
    "data = pd.read_csv(file_path)\n",
    "mean_value = data['All_motor_vehicles'].mean()  # You can use .median() if you prefer median imputation\n",
    "\n",
    "# Impute missing values with the mean value\n",
    "data['All_motor_vehicles'].fillna(mean_value, inplace=True)"
   ]
  },
  {
   "cell_type": "code",
   "execution_count": null,
   "id": "7ac93c0e-7177-46f7-8c11-aceb37bdb9e6",
   "metadata": {
    "tags": []
   },
   "outputs": [],
   "source": [
    "returns = data['All_motor_vehicles']\n",
    "\n",
    "# Create a GARCH(1,1) model\n",
    "model = arch_model(returns, vol='Garch', p=1, q=1)\n",
    "\n",
    "# Fit the model\n",
    "results = model.fit()"
   ]
  },
  {
   "cell_type": "code",
   "execution_count": null,
   "id": "1d96d1f9",
   "metadata": {},
   "outputs": [],
   "source": [
    "import pandas as pd\n",
    "import matplotlib.pyplot as plt\n",
    "from arch import arch_model\n",
    "from statsmodels.stats.diagnostic import acorr_ljungbox\n",
    "\n",
    "\n",
    "\n",
    "# Forecast future volatility\n",
    "forecast_horizon = 5  # Adjust the horizon as needed\n",
    "forecast = results.forecast(start=0, horizon=forecast_horizon)\n",
    "forecast_variance = forecast.variance.iloc[-1, :]\n"
   ]
  },
  {
   "cell_type": "code",
   "execution_count": null,
   "id": "678b45f3",
   "metadata": {},
   "outputs": [],
   "source": [
    "# Get model residuals\n",
    "residuals = results.resid\n",
    "\n",
    "# Plot the residuals\n",
    "plt.figure(figsize=(12, 6))\n",
    "plt.plot(residuals)\n",
    "plt.title('Residuals')\n",
    "plt.show()\n",
    "\n",
    "# Check for autocorrelation in residuals using Ljung-Box test\n",
    "lb_test = acorr_ljungbox(residuals, lags=[10], return_df=True)\n",
    "p_value = lb_test.loc[10, \"lb_pvalue\"]\n",
    "\n",
    "if p_value < 0.05:\n",
    "    print(\"Autocorrelation detected in residuals (p-value < 0.05).\")\n",
    "else:\n",
    "    print(\"No significant autocorrelation in residuals (p-value >= 0.05).\")\n"
   ]
  },
  {
   "cell_type": "code",
   "execution_count": null,
   "id": "4e839b9a",
   "metadata": {},
   "outputs": [],
   "source": [
    "conditional_volatility = results.conditional_volatility\n"
   ]
  },
  {
   "cell_type": "code",
   "execution_count": null,
   "id": "080aa728",
   "metadata": {},
   "outputs": [],
   "source": [
    "\n",
    "# Compare the forecasted volatility to the actual data\n",
    "actual_volatility = conditional_volatility[-forecast_horizon:]\n",
    "plt.figure(figsize=(12, 6))\n",
    "plt.plot(actual_volatility, label='Actual Volatility', color='blue')\n",
    "plt.plot(forecast_variance, label='Forecasted Volatility', color='red')\n",
    "plt.title('Volatility Forecast vs. Actual')\n",
    "plt.legend()\n",
    "plt.show()"
   ]
  },
  {
   "cell_type": "code",
   "execution_count": null,
   "id": "4c3e4b86-a17a-4cec-8dce-9f62337315e4",
   "metadata": {
    "tags": []
   },
   "outputs": [],
   "source": [
    "results.summary()\n",
    "#GARCH MODEL END"
   ]
  },
  {
   "cell_type": "markdown",
   "id": "e1c5401c",
   "metadata": {},
   "source": [
    "# grach mape"
   ]
  },
  {
   "cell_type": "code",
   "execution_count": null,
   "id": "e20f0cc8",
   "metadata": {},
   "outputs": [],
   "source": [
    "import pandas as pd\n",
    "import numpy as np\n",
    "from sklearn.linear_model import LinearRegression\n",
    "from sklearn.preprocessing import PolynomialFeatures\n",
    "from sklearn.pipeline import make_pipeline\n",
    "from sklearn.metrics import mean_absolute_error, mean_squared_error\n",
    "\n",
    "# Load the data\n",
    "data = pd.read_csv(file_path)\n",
    "\n",
    "# Rename columns\n",
    "data.rename(columns={\"Count_date\": \"ds\", 'All_motor_vehicles': 'y'}, inplace=True)\n",
    "\n",
    "# Convert 'ds' column to datetime format\n",
    "data['ds'] = pd.to_datetime(data['ds'])\n",
    "\n",
    "# Extract day-of-week and month-of-year features\n",
    "data['day_of_week'] = data['ds'].dt.dayofweek\n",
    "data['month'] = data['ds'].dt.month\n",
    "\n",
    "# Add Fourier series terms for seasonality\n",
    "def fourier_series(datum, K, freq):\n",
    "    x = np.array(range(K))\n",
    "    for i in range(K):\n",
    "        datum[f'fourier_{i+1}'] = np.sin(2 * np.pi * (i + 1) * datum[f'ds'].dt.dayofyear / freq)\n",
    "        datum[f'fourier_{i+K+1}'] = np.cos(2 * np.pi * (i + 1) * datum[f'ds'].dt.dayofyear / freq)\n",
    "    return datum\n",
    "\n",
    "# Add Fourier series terms for seasonality (adjust K and freq as needed)\n",
    "data = fourier_series(data, K=10, freq=365.25)\n",
    "\n",
    "# Define features and target variable\n",
    "X = data[['day_of_week', 'month'] + [f'fourier_{i}' for i in range(1, 21)]]\n",
    "y = data['y']\n",
    "\n",
    "# Initialize and fit the linear regression model with reduced polynomial degree\n",
    "model = make_pipeline(PolynomialFeatures(degree=2), LinearRegression())\n",
    "model.fit(X, y)\n",
    "\n",
    "# Make predictions\n",
    "predictions = model.predict(X)\n",
    "\n",
    "# Calculate Mean Absolute Error (MAE)\n",
    "mae = mean_absolute_error(y, predictions)\n",
    "\n",
    "# Calculate Root Mean Squared Error (RMSE)\n",
    "rmse = np.sqrt(mean_squared_error(y, predictions))\n",
    "\n",
    "# Print the metrics\n",
    "print(\"Mean Absolute Error (MAE):\", mae)\n",
    "print(\"Root Mean Squared Error (RMSE):\", rmse)\n"
   ]
  },
  {
   "cell_type": "code",
   "execution_count": null,
   "id": "6dd0aaa3-f17b-416a-8b78-723cb6346c35",
   "metadata": {
    "tags": []
   },
   "outputs": [],
   "source": [
    "from prophet import Prophet"
   ]
  },
  {
   "cell_type": "code",
   "execution_count": null,
   "id": "dbcc7a8d-c883-49be-bd64-4d4255f794f3",
   "metadata": {},
   "outputs": [],
   "source": [
    "data = pd.read_csv(file_path)"
   ]
  },
  {
   "cell_type": "code",
   "execution_count": null,
   "id": "f872ac36-e77e-4b4a-a851-70a5420cbfad",
   "metadata": {
    "tags": []
   },
   "outputs": [],
   "source": [
    "data.rename(columns = {\"Count_date\":\"ds\",'All_motor_vehicles':'y'}, inplace = True)\n",
    "data"
   ]
  },
  {
   "cell_type": "code",
   "execution_count": null,
   "id": "f9f472e0-534f-4729-a14d-acc7c9bf410a",
   "metadata": {
    "tags": []
   },
   "outputs": [],
   "source": [
    "model = Prophet()\n",
    "model.fit(data)"
   ]
  },
  {
   "cell_type": "code",
   "execution_count": null,
   "id": "659f63a0-196f-4037-a673-cbe93f88b5f2",
   "metadata": {
    "tags": []
   },
   "outputs": [],
   "source": [
    "# Define a future DataFrame for forecasting (adjust 'periods' as needed)\n",
    "future = model.make_future_dataframe(periods=365)  # Forecast for an additional 365 days"
   ]
  },
  {
   "cell_type": "code",
   "execution_count": null,
   "id": "047e48ff-e030-4d92-9cc5-0e52821d1fa3",
   "metadata": {
    "tags": []
   },
   "outputs": [],
   "source": [
    "# Make predictions\n",
    "forecast = model.predict(future)\n",
    "\n",
    "# Display the forecast\n",
    "print(forecast[['ds', 'yhat', 'yhat_lower', 'yhat_upper']].tail())\n"
   ]
  },
  {
   "cell_type": "code",
   "execution_count": null,
   "id": "2f877c98-fd0a-41b9-8bfc-de6395900966",
   "metadata": {
    "tags": []
   },
   "outputs": [],
   "source": [
    "# Visualize the forecast\n",
    "from prophet.plot import plot\n",
    "fig = model.plot(forecast)\n"
   ]
  },
  {
   "cell_type": "markdown",
   "id": "7d2bc8d6",
   "metadata": {},
   "source": [
    "# prophet mape"
   ]
  },
  {
   "cell_type": "code",
   "execution_count": 19,
   "id": "9d1a1027",
   "metadata": {},
   "outputs": [
    {
     "ename": "MemoryError",
     "evalue": "Unable to allocate 82.5 GiB for an array with shape (4815504, 2300) and data type float64",
     "output_type": "error",
     "traceback": [
      "\u001b[1;31m---------------------------------------------------------------------------\u001b[0m",
      "\u001b[1;31mMemoryError\u001b[0m                               Traceback (most recent call last)",
      "Cell \u001b[1;32mIn[19], line 38\u001b[0m\n\u001b[0;32m     36\u001b[0m \u001b[38;5;66;03m# Initialize and fit the linear regression model\u001b[39;00m\n\u001b[0;32m     37\u001b[0m model \u001b[38;5;241m=\u001b[39m make_pipeline(PolynomialFeatures(degree\u001b[38;5;241m=\u001b[39m\u001b[38;5;241m3\u001b[39m), LinearRegression())\n\u001b[1;32m---> 38\u001b[0m model\u001b[38;5;241m.\u001b[39mfit(X, y)\n\u001b[0;32m     40\u001b[0m \u001b[38;5;66;03m# Make predictions\u001b[39;00m\n\u001b[0;32m     41\u001b[0m predictions \u001b[38;5;241m=\u001b[39m model\u001b[38;5;241m.\u001b[39mpredict(X)\n",
      "File \u001b[1;32m~\\AppData\\Local\\anaconda3\\Lib\\site-packages\\sklearn\\base.py:1151\u001b[0m, in \u001b[0;36m_fit_context.<locals>.decorator.<locals>.wrapper\u001b[1;34m(estimator, *args, **kwargs)\u001b[0m\n\u001b[0;32m   1144\u001b[0m     estimator\u001b[38;5;241m.\u001b[39m_validate_params()\n\u001b[0;32m   1146\u001b[0m \u001b[38;5;28;01mwith\u001b[39;00m config_context(\n\u001b[0;32m   1147\u001b[0m     skip_parameter_validation\u001b[38;5;241m=\u001b[39m(\n\u001b[0;32m   1148\u001b[0m         prefer_skip_nested_validation \u001b[38;5;129;01mor\u001b[39;00m global_skip_validation\n\u001b[0;32m   1149\u001b[0m     )\n\u001b[0;32m   1150\u001b[0m ):\n\u001b[1;32m-> 1151\u001b[0m     \u001b[38;5;28;01mreturn\u001b[39;00m fit_method(estimator, \u001b[38;5;241m*\u001b[39margs, \u001b[38;5;241m*\u001b[39m\u001b[38;5;241m*\u001b[39mkwargs)\n",
      "File \u001b[1;32m~\\AppData\\Local\\anaconda3\\Lib\\site-packages\\sklearn\\pipeline.py:416\u001b[0m, in \u001b[0;36mPipeline.fit\u001b[1;34m(self, X, y, **fit_params)\u001b[0m\n\u001b[0;32m    390\u001b[0m \u001b[38;5;250m\u001b[39m\u001b[38;5;124;03m\"\"\"Fit the model.\u001b[39;00m\n\u001b[0;32m    391\u001b[0m \n\u001b[0;32m    392\u001b[0m \u001b[38;5;124;03mFit all the transformers one after the other and transform the\u001b[39;00m\n\u001b[1;32m   (...)\u001b[0m\n\u001b[0;32m    413\u001b[0m \u001b[38;5;124;03m    Pipeline with fitted steps.\u001b[39;00m\n\u001b[0;32m    414\u001b[0m \u001b[38;5;124;03m\"\"\"\u001b[39;00m\n\u001b[0;32m    415\u001b[0m fit_params_steps \u001b[38;5;241m=\u001b[39m \u001b[38;5;28mself\u001b[39m\u001b[38;5;241m.\u001b[39m_check_fit_params(\u001b[38;5;241m*\u001b[39m\u001b[38;5;241m*\u001b[39mfit_params)\n\u001b[1;32m--> 416\u001b[0m Xt \u001b[38;5;241m=\u001b[39m \u001b[38;5;28mself\u001b[39m\u001b[38;5;241m.\u001b[39m_fit(X, y, \u001b[38;5;241m*\u001b[39m\u001b[38;5;241m*\u001b[39mfit_params_steps)\n\u001b[0;32m    417\u001b[0m \u001b[38;5;28;01mwith\u001b[39;00m _print_elapsed_time(\u001b[38;5;124m\"\u001b[39m\u001b[38;5;124mPipeline\u001b[39m\u001b[38;5;124m\"\u001b[39m, \u001b[38;5;28mself\u001b[39m\u001b[38;5;241m.\u001b[39m_log_message(\u001b[38;5;28mlen\u001b[39m(\u001b[38;5;28mself\u001b[39m\u001b[38;5;241m.\u001b[39msteps) \u001b[38;5;241m-\u001b[39m \u001b[38;5;241m1\u001b[39m)):\n\u001b[0;32m    418\u001b[0m     \u001b[38;5;28;01mif\u001b[39;00m \u001b[38;5;28mself\u001b[39m\u001b[38;5;241m.\u001b[39m_final_estimator \u001b[38;5;241m!=\u001b[39m \u001b[38;5;124m\"\u001b[39m\u001b[38;5;124mpassthrough\u001b[39m\u001b[38;5;124m\"\u001b[39m:\n",
      "File \u001b[1;32m~\\AppData\\Local\\anaconda3\\Lib\\site-packages\\sklearn\\pipeline.py:370\u001b[0m, in \u001b[0;36mPipeline._fit\u001b[1;34m(self, X, y, **fit_params_steps)\u001b[0m\n\u001b[0;32m    368\u001b[0m     cloned_transformer \u001b[38;5;241m=\u001b[39m clone(transformer)\n\u001b[0;32m    369\u001b[0m \u001b[38;5;66;03m# Fit or load from cache the current transformer\u001b[39;00m\n\u001b[1;32m--> 370\u001b[0m X, fitted_transformer \u001b[38;5;241m=\u001b[39m fit_transform_one_cached(\n\u001b[0;32m    371\u001b[0m     cloned_transformer,\n\u001b[0;32m    372\u001b[0m     X,\n\u001b[0;32m    373\u001b[0m     y,\n\u001b[0;32m    374\u001b[0m     \u001b[38;5;28;01mNone\u001b[39;00m,\n\u001b[0;32m    375\u001b[0m     message_clsname\u001b[38;5;241m=\u001b[39m\u001b[38;5;124m\"\u001b[39m\u001b[38;5;124mPipeline\u001b[39m\u001b[38;5;124m\"\u001b[39m,\n\u001b[0;32m    376\u001b[0m     message\u001b[38;5;241m=\u001b[39m\u001b[38;5;28mself\u001b[39m\u001b[38;5;241m.\u001b[39m_log_message(step_idx),\n\u001b[0;32m    377\u001b[0m     \u001b[38;5;241m*\u001b[39m\u001b[38;5;241m*\u001b[39mfit_params_steps[name],\n\u001b[0;32m    378\u001b[0m )\n\u001b[0;32m    379\u001b[0m \u001b[38;5;66;03m# Replace the transformer of the step with the fitted\u001b[39;00m\n\u001b[0;32m    380\u001b[0m \u001b[38;5;66;03m# transformer. This is necessary when loading the transformer\u001b[39;00m\n\u001b[0;32m    381\u001b[0m \u001b[38;5;66;03m# from the cache.\u001b[39;00m\n\u001b[0;32m    382\u001b[0m \u001b[38;5;28mself\u001b[39m\u001b[38;5;241m.\u001b[39msteps[step_idx] \u001b[38;5;241m=\u001b[39m (name, fitted_transformer)\n",
      "File \u001b[1;32m~\\AppData\\Local\\anaconda3\\Lib\\site-packages\\joblib\\memory.py:349\u001b[0m, in \u001b[0;36mNotMemorizedFunc.__call__\u001b[1;34m(self, *args, **kwargs)\u001b[0m\n\u001b[0;32m    348\u001b[0m \u001b[38;5;28;01mdef\u001b[39;00m \u001b[38;5;21m__call__\u001b[39m(\u001b[38;5;28mself\u001b[39m, \u001b[38;5;241m*\u001b[39margs, \u001b[38;5;241m*\u001b[39m\u001b[38;5;241m*\u001b[39mkwargs):\n\u001b[1;32m--> 349\u001b[0m     \u001b[38;5;28;01mreturn\u001b[39;00m \u001b[38;5;28mself\u001b[39m\u001b[38;5;241m.\u001b[39mfunc(\u001b[38;5;241m*\u001b[39margs, \u001b[38;5;241m*\u001b[39m\u001b[38;5;241m*\u001b[39mkwargs)\n",
      "File \u001b[1;32m~\\AppData\\Local\\anaconda3\\Lib\\site-packages\\sklearn\\pipeline.py:950\u001b[0m, in \u001b[0;36m_fit_transform_one\u001b[1;34m(transformer, X, y, weight, message_clsname, message, **fit_params)\u001b[0m\n\u001b[0;32m    948\u001b[0m \u001b[38;5;28;01mwith\u001b[39;00m _print_elapsed_time(message_clsname, message):\n\u001b[0;32m    949\u001b[0m     \u001b[38;5;28;01mif\u001b[39;00m \u001b[38;5;28mhasattr\u001b[39m(transformer, \u001b[38;5;124m\"\u001b[39m\u001b[38;5;124mfit_transform\u001b[39m\u001b[38;5;124m\"\u001b[39m):\n\u001b[1;32m--> 950\u001b[0m         res \u001b[38;5;241m=\u001b[39m transformer\u001b[38;5;241m.\u001b[39mfit_transform(X, y, \u001b[38;5;241m*\u001b[39m\u001b[38;5;241m*\u001b[39mfit_params)\n\u001b[0;32m    951\u001b[0m     \u001b[38;5;28;01melse\u001b[39;00m:\n\u001b[0;32m    952\u001b[0m         res \u001b[38;5;241m=\u001b[39m transformer\u001b[38;5;241m.\u001b[39mfit(X, y, \u001b[38;5;241m*\u001b[39m\u001b[38;5;241m*\u001b[39mfit_params)\u001b[38;5;241m.\u001b[39mtransform(X)\n",
      "File \u001b[1;32m~\\AppData\\Local\\anaconda3\\Lib\\site-packages\\sklearn\\utils\\_set_output.py:140\u001b[0m, in \u001b[0;36m_wrap_method_output.<locals>.wrapped\u001b[1;34m(self, X, *args, **kwargs)\u001b[0m\n\u001b[0;32m    138\u001b[0m \u001b[38;5;129m@wraps\u001b[39m(f)\n\u001b[0;32m    139\u001b[0m \u001b[38;5;28;01mdef\u001b[39;00m \u001b[38;5;21mwrapped\u001b[39m(\u001b[38;5;28mself\u001b[39m, X, \u001b[38;5;241m*\u001b[39margs, \u001b[38;5;241m*\u001b[39m\u001b[38;5;241m*\u001b[39mkwargs):\n\u001b[1;32m--> 140\u001b[0m     data_to_wrap \u001b[38;5;241m=\u001b[39m f(\u001b[38;5;28mself\u001b[39m, X, \u001b[38;5;241m*\u001b[39margs, \u001b[38;5;241m*\u001b[39m\u001b[38;5;241m*\u001b[39mkwargs)\n\u001b[0;32m    141\u001b[0m     \u001b[38;5;28;01mif\u001b[39;00m \u001b[38;5;28misinstance\u001b[39m(data_to_wrap, \u001b[38;5;28mtuple\u001b[39m):\n\u001b[0;32m    142\u001b[0m         \u001b[38;5;66;03m# only wrap the first output for cross decomposition\u001b[39;00m\n\u001b[0;32m    143\u001b[0m         return_tuple \u001b[38;5;241m=\u001b[39m (\n\u001b[0;32m    144\u001b[0m             _wrap_data_with_container(method, data_to_wrap[\u001b[38;5;241m0\u001b[39m], X, \u001b[38;5;28mself\u001b[39m),\n\u001b[0;32m    145\u001b[0m             \u001b[38;5;241m*\u001b[39mdata_to_wrap[\u001b[38;5;241m1\u001b[39m:],\n\u001b[0;32m    146\u001b[0m         )\n",
      "File \u001b[1;32m~\\AppData\\Local\\anaconda3\\Lib\\site-packages\\sklearn\\base.py:918\u001b[0m, in \u001b[0;36mTransformerMixin.fit_transform\u001b[1;34m(self, X, y, **fit_params)\u001b[0m\n\u001b[0;32m    915\u001b[0m     \u001b[38;5;28;01mreturn\u001b[39;00m \u001b[38;5;28mself\u001b[39m\u001b[38;5;241m.\u001b[39mfit(X, \u001b[38;5;241m*\u001b[39m\u001b[38;5;241m*\u001b[39mfit_params)\u001b[38;5;241m.\u001b[39mtransform(X)\n\u001b[0;32m    916\u001b[0m \u001b[38;5;28;01melse\u001b[39;00m:\n\u001b[0;32m    917\u001b[0m     \u001b[38;5;66;03m# fit method of arity 2 (supervised transformation)\u001b[39;00m\n\u001b[1;32m--> 918\u001b[0m     \u001b[38;5;28;01mreturn\u001b[39;00m \u001b[38;5;28mself\u001b[39m\u001b[38;5;241m.\u001b[39mfit(X, y, \u001b[38;5;241m*\u001b[39m\u001b[38;5;241m*\u001b[39mfit_params)\u001b[38;5;241m.\u001b[39mtransform(X)\n",
      "File \u001b[1;32m~\\AppData\\Local\\anaconda3\\Lib\\site-packages\\sklearn\\utils\\_set_output.py:140\u001b[0m, in \u001b[0;36m_wrap_method_output.<locals>.wrapped\u001b[1;34m(self, X, *args, **kwargs)\u001b[0m\n\u001b[0;32m    138\u001b[0m \u001b[38;5;129m@wraps\u001b[39m(f)\n\u001b[0;32m    139\u001b[0m \u001b[38;5;28;01mdef\u001b[39;00m \u001b[38;5;21mwrapped\u001b[39m(\u001b[38;5;28mself\u001b[39m, X, \u001b[38;5;241m*\u001b[39margs, \u001b[38;5;241m*\u001b[39m\u001b[38;5;241m*\u001b[39mkwargs):\n\u001b[1;32m--> 140\u001b[0m     data_to_wrap \u001b[38;5;241m=\u001b[39m f(\u001b[38;5;28mself\u001b[39m, X, \u001b[38;5;241m*\u001b[39margs, \u001b[38;5;241m*\u001b[39m\u001b[38;5;241m*\u001b[39mkwargs)\n\u001b[0;32m    141\u001b[0m     \u001b[38;5;28;01mif\u001b[39;00m \u001b[38;5;28misinstance\u001b[39m(data_to_wrap, \u001b[38;5;28mtuple\u001b[39m):\n\u001b[0;32m    142\u001b[0m         \u001b[38;5;66;03m# only wrap the first output for cross decomposition\u001b[39;00m\n\u001b[0;32m    143\u001b[0m         return_tuple \u001b[38;5;241m=\u001b[39m (\n\u001b[0;32m    144\u001b[0m             _wrap_data_with_container(method, data_to_wrap[\u001b[38;5;241m0\u001b[39m], X, \u001b[38;5;28mself\u001b[39m),\n\u001b[0;32m    145\u001b[0m             \u001b[38;5;241m*\u001b[39mdata_to_wrap[\u001b[38;5;241m1\u001b[39m:],\n\u001b[0;32m    146\u001b[0m         )\n",
      "File \u001b[1;32m~\\AppData\\Local\\anaconda3\\Lib\\site-packages\\sklearn\\preprocessing\\_polynomial.py:507\u001b[0m, in \u001b[0;36mPolynomialFeatures.transform\u001b[1;34m(self, X)\u001b[0m\n\u001b[0;32m    503\u001b[0m     XP \u001b[38;5;241m=\u001b[39m sparse\u001b[38;5;241m.\u001b[39mhstack(columns, dtype\u001b[38;5;241m=\u001b[39mX\u001b[38;5;241m.\u001b[39mdtype)\u001b[38;5;241m.\u001b[39mtocsc()\n\u001b[0;32m    504\u001b[0m \u001b[38;5;28;01melse\u001b[39;00m:\n\u001b[0;32m    505\u001b[0m     \u001b[38;5;66;03m# Do as if _min_degree = 0 and cut down array after the\u001b[39;00m\n\u001b[0;32m    506\u001b[0m     \u001b[38;5;66;03m# computation, i.e. use _n_out_full instead of n_output_features_.\u001b[39;00m\n\u001b[1;32m--> 507\u001b[0m     XP \u001b[38;5;241m=\u001b[39m np\u001b[38;5;241m.\u001b[39mempty(\n\u001b[0;32m    508\u001b[0m         shape\u001b[38;5;241m=\u001b[39m(n_samples, \u001b[38;5;28mself\u001b[39m\u001b[38;5;241m.\u001b[39m_n_out_full), dtype\u001b[38;5;241m=\u001b[39mX\u001b[38;5;241m.\u001b[39mdtype, order\u001b[38;5;241m=\u001b[39m\u001b[38;5;28mself\u001b[39m\u001b[38;5;241m.\u001b[39morder\n\u001b[0;32m    509\u001b[0m     )\n\u001b[0;32m    511\u001b[0m     \u001b[38;5;66;03m# What follows is a faster implementation of:\u001b[39;00m\n\u001b[0;32m    512\u001b[0m     \u001b[38;5;66;03m# for i, comb in enumerate(combinations):\u001b[39;00m\n\u001b[0;32m    513\u001b[0m     \u001b[38;5;66;03m#     XP[:, i] = X[:, comb].prod(1)\u001b[39;00m\n\u001b[1;32m   (...)\u001b[0m\n\u001b[0;32m    523\u001b[0m \n\u001b[0;32m    524\u001b[0m     \u001b[38;5;66;03m# degree 0 term\u001b[39;00m\n\u001b[0;32m    525\u001b[0m     \u001b[38;5;28;01mif\u001b[39;00m \u001b[38;5;28mself\u001b[39m\u001b[38;5;241m.\u001b[39minclude_bias:\n",
      "\u001b[1;31mMemoryError\u001b[0m: Unable to allocate 82.5 GiB for an array with shape (4815504, 2300) and data type float64"
     ]
    }
   ],
   "source": [
    "import pandas as pd\n",
    "import numpy as np\n",
    "from sklearn.linear_model import LinearRegression\n",
    "from sklearn.preprocessing import PolynomialFeatures\n",
    "from sklearn.pipeline import make_pipeline\n",
    "from sklearn.metrics import mean_absolute_error, mean_squared_error\n",
    "\n",
    "# Load the data\n",
    "data = pd.read_csv(file_path)\n",
    "\n",
    "# Rename columns\n",
    "data.rename(columns={\"Count_date\": \"ds\", 'All_motor_vehicles': 'y'}, inplace=True)\n",
    "\n",
    "# Extract day-of-week and month-of-year features\n",
    "data['day_of_week'] = data['ds'].dt.dayofweek\n",
    "data['month'] = data['ds'].dt.month\n",
    "\n",
    "# Add Fourier series terms for seasonality\n",
    "def fourier_series(datum, K, freq):\n",
    "    x = np.array(range(K))\n",
    "    for i in range(K):\n",
    "        datum[f'fourier_{i+1}'] = np.sin(2 * np.pi * (i + 1) * datum[f'ds'].dt.dayofyear / freq)\n",
    "        datum[f'fourier_{i+K+1}'] = np.cos(2 * np.pi * (i + 1) * datum[f'ds'].dt.dayofyear / freq)\n",
    "    return datum\n",
    "\n",
    "# Add Fourier series terms for seasonality (adjust K and freq as needed)\n",
    "data = fourier_series(data, K=10, freq=365.25)\n",
    "\n",
    "# Define features and target variable\n",
    "X = data[['day_of_week', 'month'] + [f'fourier_{i}' for i in range(1, 21)]]\n",
    "y = data['y']\n",
    "\n",
    "# Initialize and fit the linear regression model\n",
    "model = make_pipeline(PolynomialFeatures(degree=3), LinearRegression())\n",
    "model.fit(X, y)\n",
    "\n",
    "# Make predictions\n",
    "predictions = model.predict(X)\n",
    "\n",
    "# Calculate Mean Absolute Error (MAE)\n",
    "mae = mean_absolute_error(y, predictions)\n",
    "\n",
    "# Calculate Root Mean Squared Error (RMSE)\n",
    "rmse = np.sqrt(mean_squared_error(y, predictions))\n",
    "\n",
    "# Print the metrics\n",
    "print(\"Mean Absolute Error (MAE):\", mae)\n",
    "print(\"Root Mean Squared Error (RMSE):\", rmse)\n"
   ]
  },
  {
   "cell_type": "markdown",
   "id": "01032621-98c1-4b7e-9993-7e6c7eb4eadc",
   "metadata": {},
   "source": [
    "# LSTM model accuracy\n"
   ]
  },
  {
   "cell_type": "code",
   "execution_count": null,
   "id": "f628315a-a742-44f9-98eb-bfbad0d6ef28",
   "metadata": {
    "tags": []
   },
   "outputs": [],
   "source": [
    "from sklearn.metrics import r2_score\n",
    "\n",
    "# Calculate R-squared score\n",
    "r2 = r2_score(y_test, y_pred)\n",
    "\n",
    "# Convert R-squared to percentage\n",
    "accuracy_percentage = r2 * 100\n",
    "\n",
    "print(\"Accuracy:\", accuracy_percentage, \"%\")\n"
   ]
  }
 ],
 "metadata": {
  "kernelspec": {
   "display_name": "Python 3 (ipykernel)",
   "language": "python",
   "name": "python3"
  },
  "language_info": {
   "codemirror_mode": {
    "name": "ipython",
    "version": 3
   },
   "file_extension": ".py",
   "mimetype": "text/x-python",
   "name": "python",
   "nbconvert_exporter": "python",
   "pygments_lexer": "ipython3",
   "version": "3.11.5"
  }
 },
 "nbformat": 4,
 "nbformat_minor": 5
}
