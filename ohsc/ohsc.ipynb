{
 "cells": [
  {
   "cell_type": "code",
   "execution_count": null,
   "metadata": {},
   "outputs": [],
   "source": [
    "import pandas as pd\n",
    "\n",
    "# Define the file paths\n",
    "file_path_ohs = '/home/dragon/Git/Data/ohs-hc-template_v11.xlsx'\n",
    "file_path_nte = '/home/dragon/Git/Data/nte-report-41724.xlsx'\n",
    "\n",
    "# Read the specific sheet from the OHS HC Template file\n",
    "positions_df = pd.read_excel(file_path_ohs, sheet_name='Positions Data Template', engine='openpyxl')\n",
    "\n",
    "# Clean up column names by stripping any leading/trailing whitespace or newline characters\n",
    "positions_df.columns = positions_df.columns.str.strip().str.replace('\\n', '')\n",
    "\n",
    "# Read the NTE REPORT file starting from the second row\n",
    "nte_df = pd.read_excel(file_path_nte, skiprows=1, engine='openpyxl')\n",
    "\n",
    "# Create a new DataFrame with specific columns from positions_df\n",
    "position = positions_df[[\n",
    "    'OHS PIN', 'FY Position Authorization', 'Supervisor PIN',\n",
    "     'Division', 'Branch/Program', 'Position Type',\n",
    "    'Encumbered Position', 'Position Status', 'Employee Status',\n",
    "    'Employee ID', 'Employee Name', 'Preferred Name', 'Position Title',\n",
    "    'Position Description Title', 'Pay Plan', 'Minimum Grade',\n",
    "    'Maximum Grade', 'Career Ladder Position','Hiring Type','Lapse in Appropriations Status',\n",
    "    'Official Workplace Flexibility (Position)', 'Position Clearance','Position DOE Clearance', 'Notes'\n",
    "]].copy()\n",
    "\n",
    "\n",
    "\n",
    "# Add a new column 'Supervisor Role'       \n",
    "position['Supervisor Role'] = position['OHS PIN'].map(position['Supervisor PIN'].value_counts())\n",
    "\n",
    "# Fill NaN values with 0\n",
    "position['Supervisor Role'].fillna(0, inplace=True)\n",
    "\n",
    "# Rearrange columns so 'Supervisor Role' comes immediately after 'Supervisor PIN'                \n",
    "\n",
    "\n",
    "# Function to check if Pay Plan is within position grade range\n",
    "def check_grade_range(row):\n",
    "    try:\n",
    "        pay_plan = float(row['Pay Plan'])\n",
    "        min_grade = float(row['Minimum Grade'])\n",
    "        max_grade = float(row['Maximum Grade'])\n",
    "        \n",
    "        if pay_plan >= min_grade and pay_plan <= max_grade:\n",
    "            return 'Within Position Grade Range'\n",
    "        else:\n",
    "            return 'Outside of Position Grade Range'\n",
    "    except ValueError:\n",
    "        return 'Error: Non-numeric value'\n",
    "\n",
    "\n",
    "# Apply the function to create a new column 'Grade Range Status'\n",
    "position['Grade Range Status'] = position.apply(check_grade_range, axis=1)\n",
    "\n",
    "position = position[['OHS PIN', 'FY Position Authorization', 'Supervisor PIN','Supervisor Role',\n",
    "                     'Division', 'Branch/Program', 'Position Type',\n",
    "                     'Encumbered Position', 'Position Status', 'Employee Status',\n",
    "                     'Employee ID', 'Employee Name', 'Preferred Name', 'Position Title',\n",
    "                     'Position Description Title', 'Pay Plan', 'Minimum Grade',\n",
    "                     'Maximum Grade', 'Career Ladder Position','Grade Range Status','Hiring Type',\n",
    "                     'Lapse in Appropriations Status','Official Workplace Flexibility (Position)', \n",
    "                     'Position Clearance','Position DOE Clearance', 'Notes'\n",
    "                     ]]\n",
    "\n",
    "# Set pandas options to display all rows and columns\n",
    "pd.set_option('display.max_rows', None)\n",
    "pd.set_option('display.max_columns', None)\n",
    "\n",
    "\n",
    "# Display the new DataFrame\n",
    "print(\"Position DataFrame with rearranged columns and Supervisor Role:\")\n",
    "position\n"
   ]
  },
  {
   "cell_type": "code",
   "execution_count": null,
   "metadata": {},
   "outputs": [],
   "source": [
    "positions_df.columns"
   ]
  },
  {
   "cell_type": "markdown",
   "metadata": {},
   "source": [
    "# Chapter 2"
   ]
  },
  {
   "cell_type": "code",
   "execution_count": null,
   "metadata": {},
   "outputs": [],
   "source": [
    "pd.set_option('display.max_rows', None)\n",
    "pd.set_option('display.max_columns', None)"
   ]
  },
  {
   "cell_type": "code",
   "execution_count": null,
   "metadata": {},
   "outputs": [],
   "source": [
    "import pandas as pd\n",
    "import numpy as np\n",
    "from datetime import datetime\n",
    "\n",
    "# Define the file path for the OHS HC Template\n",
    "file_path_ohs = '/home/dragon/Git/Data/ohs-hc-template_v11.xlsx'\n",
    "\n",
    "# Read the 'Vacancy Data' sheet from the Excel file\n",
    "vacancy_df = pd.read_excel(file_path_ohs, sheet_name='Vacancy Data', engine='openpyxl')\n",
    "\n",
    "# Extract specific columns from vacancy_df\n",
    "columns_to_add = [\n",
    "    'Hire Manager', 'HC Servicing Specialists', 'FedHR Navigation Number', \n",
    "    'Nature of Action', 'Current Status', 'Action Owner', 'USA Jobs', \n",
    "    '1. PND PRF Submission', '2. PRF Approved', '3. Budget Certification Complete', \n",
    "    '4. Recruitment Request Submitted to OCHCO', '5. PD Classification Complete', \n",
    "    '6. Recruitment Package Routed to HRMS Staffing POC', '7. Draft Job Analysis Received', \n",
    "    '8. Job Analysis Returned', '9. Draft Vacancy Announcement Documents Received', \n",
    "    '10. Vacancy Announcement Documents Returned', '11. Vacancy Announcement Open', \n",
    "    '12. Vacancy Announcement Closed', '13. Certificate Issued', '14. Certificate Returned', \n",
    "    '15. TJO Issued', '16. Security', '17. FJO Issued', '18. EOD Set or Cancellation Date', \n",
    "    'EOD Set or Cancellation', 'Certificate Expiration Date','Honorific Title', 'Selectee Legal Last Name',\n",
    "    'Selectee Legal First Name', 'Suffix', 'Notes'\n",
    "]\n",
    "\n",
    "# Select only the required columns from vacancy_df\n",
    "additional_data = vacancy_df[columns_to_add].copy()\n",
    "\n",
    "# Concatenate vacancy_df and additional_data horizontally (side by side)\n",
    "vacancy = pd.concat([vacancy_df, additional_data], axis=1)\n",
    "\n",
    "# Convert 'Vacant Date' to datetime format\n",
    "vacancy['Vacant Date'] = pd.to_datetime(vacancy['Vacant Date'], errors='coerce')\n",
    "\n",
    "# Calculate 'Length of Vacancy (Days)'\n",
    "vacancy['Length of Vacancy (Days)'] = (datetime.now() - vacancy['Vacant Date']).dt.days\n",
    "\n",
    "# Extract columns of interest for date calculation\n",
    "date_columns = vacancy.columns[vacancy.columns.str.startswith('1.') & vacancy.columns.str.endswith('Date')]\n",
    "\n",
    "# Convert date columns to datetime format\n",
    "vacancy[date_columns] = vacancy[date_columns].apply(pd.to_datetime, errors='coerce')\n",
    "\n",
    "# Find the furthest date recorded to the right\n",
    "vacancy['LastDate'] = vacancy[date_columns].max(axis=1)\n",
    "\n",
    "# Calculate the number of workdays between 'LastDate' and today's date, excluding weekends\n",
    "valid_dates = vacancy['LastDate'].notna()\n",
    "vacancy.loc[valid_dates, 'Days in Stage'] = np.busday_count(vacancy.loc[valid_dates, 'LastDate'].values.astype('datetime64[D]'), np.datetime64('today'))\n",
    "\n",
    "vacancy = vacancy[[\n",
    "    'Hire Manager', 'HC Servicing Specialists', 'FedHR Navigation Number', \n",
    "    'Nature of Action', 'Current Status', 'Action Owner', 'USA Jobs', \n",
    "    '1. PND PRF Submission', '2. PRF Approved', '3. Budget Certification Complete', \n",
    "    '4. Recruitment Request Submitted to OCHCO', '5. PD Classification Complete', \n",
    "    '6. Recruitment Package Routed to HRMS Staffing POC', '7. Draft Job Analysis Received', \n",
    "    '8. Job Analysis Returned', '9. Draft Vacancy Announcement Documents Received', \n",
    "    '10. Vacancy Announcement Documents Returned', '11. Vacancy Announcement Open', \n",
    "    '12. Vacancy Announcement Closed', '13. Certificate Issued', '14. Certificate Returned', \n",
    "    '15. TJO Issued', '16. Security', '17. FJO Issued', '18. EOD Set or Cancellation Date', \n",
    "    'EOD Set or Cancellation', 'Certificate Expiration Date','Vacant Date', 'Length of Vacancy (Days)',\n",
    "    'LastDate','Days in Stage','Honorific Title', 'Selectee Legal Last Name','Selectee Legal First Name', \n",
    "    'Suffix', 'Notes'\n",
    "]]\n",
    "\n",
    "# Display the updated DataFrame with the new columns\n",
    "vacancy.head()\n"
   ]
  },
  {
   "cell_type": "markdown",
   "metadata": {},
   "source": [
    "# chapter 3"
   ]
  },
  {
   "cell_type": "code",
   "execution_count": null,
   "metadata": {},
   "outputs": [],
   "source": [
    "import pandas as pd\n",
    "\n",
    "# Define the file path\n",
    "file_path_ohs = '/home/dragon/Git/Data/ohs-hc-template_v11.xlsx'\n",
    "\n",
    "# Read specific sheets into DataFrames\n",
    "individual_data_template = pd.read_excel(file_path_ohs, sheet_name='Individual Data Template')\n",
    "external_detailee_data_template = pd.read_excel(file_path_ohs, sheet_name='External Detailee Data Template')\n",
    "direct_support_ctr_template = pd.read_excel(file_path_ohs, sheet_name='Direct Support CTR Template')\n",
    "positions_data_template = pd.read_excel(file_path_ohs, sheet_name='Positions Data Template')\n",
    "\n",
    "# Display the first few rows of each DataFrame to confirm successful loading\n",
    "print(\"Individual Data Template:\")\n",
    "print(individual_data_template.head())\n",
    "\n",
    "print(\"\\nExternal Detailee Data Template:\")\n",
    "print(external_detailee_data_template.head())\n",
    "\n",
    "print(\"\\nDirect Support CTR Template:\")\n",
    "print(direct_support_ctr_template.head())\n",
    "\n",
    "print(\"\\nPositions Data Template:\")\n",
    "print(positions_data_template.head())\n"
   ]
  },
  {
   "cell_type": "code",
   "execution_count": 15,
   "metadata": {},
   "outputs": [
    {
     "name": "stdout",
     "output_type": "stream",
     "text": [
      "Employees Data with Employee ID, Honorific Title, and Employee Legal Last Name:\n"
     ]
    },
    {
     "data": {
      "text/html": [
       "<div>\n",
       "<style scoped>\n",
       "    .dataframe tbody tr th:only-of-type {\n",
       "        vertical-align: middle;\n",
       "    }\n",
       "\n",
       "    .dataframe tbody tr th {\n",
       "        vertical-align: top;\n",
       "    }\n",
       "\n",
       "    .dataframe thead th {\n",
       "        text-align: right;\n",
       "    }\n",
       "</style>\n",
       "<table border=\"1\" class=\"dataframe\">\n",
       "  <thead>\n",
       "    <tr style=\"text-align: right;\">\n",
       "      <th></th>\n",
       "      <th>EmployeeID</th>\n",
       "      <th>Honorific Title</th>\n",
       "      <th>Employee Legal Last Name</th>\n",
       "    </tr>\n",
       "  </thead>\n",
       "  <tbody>\n",
       "    <tr>\n",
       "      <th>0</th>\n",
       "      <td>P100001</td>\n",
       "      <td>NaN</td>\n",
       "      <td>Anderson</td>\n",
       "    </tr>\n",
       "    <tr>\n",
       "      <th>1</th>\n",
       "      <td>P100002</td>\n",
       "      <td>NaN</td>\n",
       "      <td>Backer-Krisel</td>\n",
       "    </tr>\n",
       "    <tr>\n",
       "      <th>2</th>\n",
       "      <td>P100003</td>\n",
       "      <td>NaN</td>\n",
       "      <td>Ballering</td>\n",
       "    </tr>\n",
       "    <tr>\n",
       "      <th>3</th>\n",
       "      <td>P100004</td>\n",
       "      <td>NaN</td>\n",
       "      <td>Biles</td>\n",
       "    </tr>\n",
       "    <tr>\n",
       "      <th>4</th>\n",
       "      <td>P100005</td>\n",
       "      <td>NaN</td>\n",
       "      <td>Blount</td>\n",
       "    </tr>\n",
       "    <tr>\n",
       "      <th>...</th>\n",
       "      <td>...</td>\n",
       "      <td>...</td>\n",
       "      <td>...</td>\n",
       "    </tr>\n",
       "    <tr>\n",
       "      <th>86</th>\n",
       "      <td>C100009</td>\n",
       "      <td>NaN</td>\n",
       "      <td>Miranda</td>\n",
       "    </tr>\n",
       "    <tr>\n",
       "      <th>87</th>\n",
       "      <td>C100010</td>\n",
       "      <td>NaN</td>\n",
       "      <td>Robinson</td>\n",
       "    </tr>\n",
       "    <tr>\n",
       "      <th>88</th>\n",
       "      <td>C100011</td>\n",
       "      <td>NaN</td>\n",
       "      <td>Staats</td>\n",
       "    </tr>\n",
       "    <tr>\n",
       "      <th>89</th>\n",
       "      <td>C100012</td>\n",
       "      <td>NaN</td>\n",
       "      <td>Tillman</td>\n",
       "    </tr>\n",
       "    <tr>\n",
       "      <th>90</th>\n",
       "      <td>C100013</td>\n",
       "      <td>NaN</td>\n",
       "      <td>Yancey</td>\n",
       "    </tr>\n",
       "  </tbody>\n",
       "</table>\n",
       "<p>91 rows × 3 columns</p>\n",
       "</div>"
      ],
      "text/plain": [
       "   EmployeeID Honorific Title Employee Legal Last Name\n",
       "0     P100001             NaN                 Anderson\n",
       "1     P100002             NaN            Backer-Krisel\n",
       "2     P100003             NaN                Ballering\n",
       "3     P100004             NaN                    Biles\n",
       "4     P100005             NaN                   Blount\n",
       "..        ...             ...                      ...\n",
       "86    C100009             NaN                  Miranda\n",
       "87    C100010             NaN                 Robinson\n",
       "88    C100011             NaN                   Staats\n",
       "89    C100012             NaN                  Tillman\n",
       "90    C100013             NaN                   Yancey\n",
       "\n",
       "[91 rows x 3 columns]"
      ]
     },
     "execution_count": 15,
     "metadata": {},
     "output_type": "execute_result"
    }
   ],
   "source": [
    "import pandas as pd\n",
    "\n",
    "# File path\n",
    "file_path_ohs = '/home/dragon/Git/Data/ohs-hc-template_v11.xlsx'\n",
    "\n",
    "# Read specific sheets into DataFrames\n",
    "individual_data_template = pd.read_excel(file_path_ohs, sheet_name='Individual Data Template')\n",
    "external_detailee_data_template = pd.read_excel(file_path_ohs, sheet_name='External Detailee Data Template')\n",
    "direct_support_ctr_template = pd.read_excel(file_path_ohs, sheet_name='Direct Support CTR Template')\n",
    "positions_data_template = pd.read_excel(file_path_ohs, sheet_name='Positions Data Template')\n",
    "\n",
    "# Extract relevant columns and rename them\n",
    "individual_data = individual_data_template[['Employee ID', 'Honorific Title', 'Employee Legal Last Name', 'Employee Legal First Name']].rename(\n",
    "    columns={'Employee ID': 'EmployeeID', 'Honorific Title': 'Honorific Title', 'Employee Legal Last Name': 'Employee Legal Last Name', 'Employee Legal First Name': 'Employee Legal First Name'}\n",
    ")\n",
    "external_detailee_data = external_detailee_data_template[['Detailee ID', 'Honorific Title', 'Detailee Legal Last Name', 'Detailee Legal First Name']].rename(\n",
    "    columns={'Detailee ID': 'EmployeeID', 'Honorific Title': 'Honorific Title', 'Detailee Legal Last Name': 'Employee Legal Last Name', 'Detailee Legal First Name': 'Employee Legal First Name'}\n",
    ")\n",
    "contractor_data = direct_support_ctr_template[['Contractor ID', 'Honorific Title', 'Contractor Legal Last Name', 'Contractor Legal First Name']].rename(\n",
    "    columns={'Contractor ID': 'EmployeeID', 'Honorific Title': 'Honorific Title', 'Contractor Legal Last Name': 'Employee Legal Last Name', 'Contractor Legal First Name': 'Employee Legal First Name'}\n",
    ")\n",
    "\n",
    "# Concatenate these DataFrames into a new DataFrame\n",
    "employees_data = pd.concat([individual_data, external_detailee_data, contractor_data], ignore_index=True)\n",
    "\n",
    "# Display the new DataFrame\n",
    "print(\"Employees Data with Employee ID, Honorific Title, Employee Legal Last Name, and Employee Legal First Name:\")\n",
    "employees_data"
   ]
  },
  {
   "cell_type": "code",
   "execution_count": 8,
   "metadata": {},
   "outputs": [
    {
     "data": {
      "text/plain": [
       "Index(['Employee ID', 'Honorific Title', 'Employee Legal Last Name',\n",
       "       'Employee Legal First Name', 'Suffix', 'Preferred Name', 'OHS EOD Date',\n",
       "       'Separation Date', 'Reason for Separation', 'Email Address Username',\n",
       "       'Desk Phone', 'Mobile Phone', 'Office Number', 'Schedule A',\n",
       "       'Employee WPF Status', 'Security Clearance', 'DOE Clearance',\n",
       "       'Security Reinvestigation Date', 'Notes'],\n",
       "      dtype='object')"
      ]
     },
     "execution_count": 8,
     "metadata": {},
     "output_type": "execute_result"
    }
   ],
   "source": [
    "individual_data_template.columns"
   ]
  },
  {
   "cell_type": "code",
   "execution_count": 9,
   "metadata": {},
   "outputs": [
    {
     "data": {
      "text/plain": [
       "Index(['Detailee ID', 'Honorific Title', 'Detailee Legal Last Name',\n",
       "       'Detailee Legal First Name', 'Suffix', 'Preferred Name',\n",
       "       'Detail EOD Date', 'Detail End Date', 'Date Not to Exceed',\n",
       "       'Email Address', 'Desk Phone', 'Mobile Phone', 'Office Number',\n",
       "       'Detailee Location City ', 'Detailee Location State',\n",
       "       'Detailee WPF Status', 'Home Organization2', 'Security Clearance',\n",
       "       'DOE Clearance', 'Pay Plan', 'Grade', 'Reimbusable', 'Notes'],\n",
       "      dtype='object')"
      ]
     },
     "execution_count": 9,
     "metadata": {},
     "output_type": "execute_result"
    }
   ],
   "source": [
    "external_detailee_data_template.columns"
   ]
  },
  {
   "cell_type": "code",
   "execution_count": 10,
   "metadata": {},
   "outputs": [
    {
     "data": {
      "text/plain": [
       "Index(['Contractor ID', 'Honorific Title', 'Contractor Legal Last Name',\n",
       "       'Contractor Legal First Name', 'Suffix', 'Preferred Name',\n",
       "       'Email Address', 'GFE Mobile Phone', 'GFE Mobile Phone ID Number',\n",
       "       'GFE Laptop ID Number', 'Office Number', 'PIV Card', 'Clearance',\n",
       "       'DOE Clearance', 'Contractor WPF Status', 'Onboard Date',\n",
       "       'Offboard Date', 'Contract End Date', 'Notes '],\n",
       "      dtype='object')"
      ]
     },
     "execution_count": 10,
     "metadata": {},
     "output_type": "execute_result"
    }
   ],
   "source": [
    "direct_support_ctr_template.columns"
   ]
  },
  {
   "cell_type": "code",
   "execution_count": 11,
   "metadata": {},
   "outputs": [
    {
     "data": {
      "text/plain": [
       "Index(['OHS PIN', 'FY Position Authorization', 'Supervisor PIN', ' ',\n",
       "       'Division\\n', 'Branch/Program', 'Position Type', 'Encumbered Position',\n",
       "       'Position Status', 'Employee Status', 'Employee ID', 'Employee Name',\n",
       "       'Preferred Name', 'Position Title', 'Position Description Title',\n",
       "       'Pay Plan', 'Minimum Grade', 'Maximum Grade', 'Career Ladder Position',\n",
       "       'Hiring Type', 'Lapse in Appropriations Status',\n",
       "       'Official Workplace Flexibility (Position)', 'Position Clearance ',\n",
       "       'Position DOE Clearance', 'Notes'],\n",
       "      dtype='object')"
      ]
     },
     "execution_count": 11,
     "metadata": {},
     "output_type": "execute_result"
    }
   ],
   "source": [
    "positions_data_template.columns"
   ]
  }
 ],
 "metadata": {
  "kernelspec": {
   "display_name": "Python 3",
   "language": "python",
   "name": "python3"
  },
  "language_info": {
   "codemirror_mode": {
    "name": "ipython",
    "version": 3
   },
   "file_extension": ".py",
   "mimetype": "text/x-python",
   "name": "python",
   "nbconvert_exporter": "python",
   "pygments_lexer": "ipython3",
   "version": "3.11.9"
  }
 },
 "nbformat": 4,
 "nbformat_minor": 2
}
