{
 "cells": [
  {
   "cell_type": "markdown",
   "metadata": {},
   "source": [
    "#   QUESTION 1\n",
    "\n",
    "*SET UP*"
   ]
  },
  {
   "cell_type": "code",
   "execution_count": 1,
   "metadata": {},
   "outputs": [],
   "source": [
    "\n",
    "import numpy as np\n",
    "import pandas as pd\n",
    "import matplotlib.pyplot as plt\n",
    "import random\n",
    "import scipy.stats as stats\n",
    "import random\n"
   ]
  },
  {
   "cell_type": "code",
   "execution_count": 3,
   "metadata": {},
   "outputs": [
    {
     "data": {
      "text/html": [
       "<div>\n",
       "<style scoped>\n",
       "    .dataframe tbody tr th:only-of-type {\n",
       "        vertical-align: middle;\n",
       "    }\n",
       "\n",
       "    .dataframe tbody tr th {\n",
       "        vertical-align: top;\n",
       "    }\n",
       "\n",
       "    .dataframe thead th {\n",
       "        text-align: right;\n",
       "    }\n",
       "</style>\n",
       "<table border=\"1\" class=\"dataframe\">\n",
       "  <thead>\n",
       "    <tr style=\"text-align: right;\">\n",
       "      <th></th>\n",
       "      <th>Unnamed: 0</th>\n",
       "      <th>Age</th>\n",
       "      <th>Gender</th>\n",
       "      <th>Occupation</th>\n",
       "      <th>Days_Indoors</th>\n",
       "      <th>Growing_Stress</th>\n",
       "      <th>Quarantine_Frustrations</th>\n",
       "      <th>Changes_Habits</th>\n",
       "      <th>Mental_Health_History</th>\n",
       "      <th>Weight_Change</th>\n",
       "      <th>Mood_Swings</th>\n",
       "      <th>Coping_Struggles</th>\n",
       "      <th>Work_Interest</th>\n",
       "      <th>Social_Weakness</th>\n",
       "    </tr>\n",
       "  </thead>\n",
       "  <tbody>\n",
       "    <tr>\n",
       "      <th>0</th>\n",
       "      <td>339</td>\n",
       "      <td>30-Above</td>\n",
       "      <td>Male</td>\n",
       "      <td>Business</td>\n",
       "      <td>Go out Every day</td>\n",
       "      <td>Yes</td>\n",
       "      <td>No</td>\n",
       "      <td>Yes</td>\n",
       "      <td>Yes</td>\n",
       "      <td>Yes</td>\n",
       "      <td>High</td>\n",
       "      <td>Yes</td>\n",
       "      <td>Yes</td>\n",
       "      <td>No</td>\n",
       "    </tr>\n",
       "    <tr>\n",
       "      <th>1</th>\n",
       "      <td>628</td>\n",
       "      <td>25-30</td>\n",
       "      <td>Female</td>\n",
       "      <td>Corporate</td>\n",
       "      <td>1-14 days</td>\n",
       "      <td>Yes</td>\n",
       "      <td>No</td>\n",
       "      <td>Yes</td>\n",
       "      <td>Yes</td>\n",
       "      <td>Yes</td>\n",
       "      <td>Medium</td>\n",
       "      <td>No</td>\n",
       "      <td>Yes</td>\n",
       "      <td>Yes</td>\n",
       "    </tr>\n",
       "    <tr>\n",
       "      <th>2</th>\n",
       "      <td>186</td>\n",
       "      <td>20-25</td>\n",
       "      <td>Female</td>\n",
       "      <td>Corporate</td>\n",
       "      <td>1-14 days</td>\n",
       "      <td>No</td>\n",
       "      <td>Yes</td>\n",
       "      <td>Yes</td>\n",
       "      <td>Yes</td>\n",
       "      <td>Yes</td>\n",
       "      <td>High</td>\n",
       "      <td>Yes</td>\n",
       "      <td>Yes</td>\n",
       "      <td>No</td>\n",
       "    </tr>\n",
       "    <tr>\n",
       "      <th>3</th>\n",
       "      <td>211</td>\n",
       "      <td>30-Above</td>\n",
       "      <td>Male</td>\n",
       "      <td>Business</td>\n",
       "      <td>31-60 days</td>\n",
       "      <td>Yes</td>\n",
       "      <td>Yes</td>\n",
       "      <td>Yes</td>\n",
       "      <td>Yes</td>\n",
       "      <td>Yes</td>\n",
       "      <td>Low</td>\n",
       "      <td>No</td>\n",
       "      <td>Yes</td>\n",
       "      <td>Yes</td>\n",
       "    </tr>\n",
       "    <tr>\n",
       "      <th>4</th>\n",
       "      <td>506</td>\n",
       "      <td>25-30</td>\n",
       "      <td>Female</td>\n",
       "      <td>Housewife</td>\n",
       "      <td>15-30 days</td>\n",
       "      <td>No</td>\n",
       "      <td>Yes</td>\n",
       "      <td>Yes</td>\n",
       "      <td>Yes</td>\n",
       "      <td>Yes</td>\n",
       "      <td>Medium</td>\n",
       "      <td>No</td>\n",
       "      <td>No</td>\n",
       "      <td>No</td>\n",
       "    </tr>\n",
       "  </tbody>\n",
       "</table>\n",
       "</div>"
      ],
      "text/plain": [
       "   Unnamed: 0       Age  Gender Occupation      Days_Indoors Growing_Stress  \\\n",
       "0         339  30-Above    Male   Business  Go out Every day            Yes   \n",
       "1         628     25-30  Female  Corporate         1-14 days            Yes   \n",
       "2         186     20-25  Female  Corporate         1-14 days             No   \n",
       "3         211  30-Above    Male   Business        31-60 days            Yes   \n",
       "4         506     25-30  Female  Housewife        15-30 days             No   \n",
       "\n",
       "  Quarantine_Frustrations Changes_Habits Mental_Health_History Weight_Change  \\\n",
       "0                      No            Yes                   Yes           Yes   \n",
       "1                      No            Yes                   Yes           Yes   \n",
       "2                     Yes            Yes                   Yes           Yes   \n",
       "3                     Yes            Yes                   Yes           Yes   \n",
       "4                     Yes            Yes                   Yes           Yes   \n",
       "\n",
       "  Mood_Swings Coping_Struggles Work_Interest Social_Weakness  \n",
       "0        High              Yes           Yes              No  \n",
       "1      Medium               No           Yes             Yes  \n",
       "2        High              Yes           Yes              No  \n",
       "3         Low               No           Yes             Yes  \n",
       "4      Medium               No            No              No  "
      ]
     },
     "execution_count": 3,
     "metadata": {},
     "output_type": "execute_result"
    }
   ],
   "source": [
    "# Load the following libraries so that they can be applied in the subsequent code blocks\n",
    "\n",
    "import numpy as np\n",
    "import pandas as pd\n",
    "import matplotlib.pyplot as plt\n",
    "import random\n",
    "import scipy.stats as stats\n",
    "\n",
    "# Run this code. It will create a csv file containing a random sample of 300 respondents. You will answer the questions below based on this sample.\n",
    "\n",
    "# Look at the code below. Now replace 'Name.csv' with your actual name (e.g., 'Sara.csv'). The code will generate a csv file that you need to submit in the zip folder as secondary file.\n",
    "\n",
    "try:\n",
    "    df = pd.read_csv('Eman.csv')        # replace Name with your own name\n",
    "except FileNotFoundError:\n",
    "    original_data = pd.read_csv(\"https://raw.githubusercontent.com/DanaSaleh1003/IDS-103-Spring-2024/main/mental_health_finaldata_1.csv\")\n",
    "    df1=original_data.sample(300)\n",
    "    df1.to_csv('Eman.csv')                   \n",
    "    df = pd.read_csv('Eman.csv')             \n",
    "    df = pd.DataFrame(df)\n",
    "    df.to_csv('Eman.csv')                    \n",
    "\n",
    "df.head()"
   ]
  },
  {
   "cell_type": "code",
   "execution_count": 6,
   "metadata": {},
   "outputs": [
    {
     "name": "stdout",
     "output_type": "stream",
     "text": [
      "Variable 1: Quarantine_Frustrations\n",
      "Variable 2: Work_Interest\n"
     ]
    }
   ],
   "source": [
    "\n",
    "# Load the following libraries so that they can be applied in the subsequent code blocks\n",
    "\n",
    "import numpy as np\n",
    "import pandas as pd\n",
    "import matplotlib.pyplot as plt\n",
    "import random\n",
    "import scipy.stats as stats\n",
    "import random\n",
    "\n",
    "column_titles = [\"Growing_Stress\"  ,\"Quarantine_Frustrations\"  ,\"Changes_Habits\" ,\"Mental_Health_History\", \"Weight_Change\" ,\"Mood_Swings\", \"Coping_Struggles\",\"Work_Interest\",\"Social_Weakness\"]\n",
    "\n",
    "# Randomly select 2 variables\n",
    "selected_columns = random.sample(column_titles, 2)\n",
    "\n",
    "\n",
    "# Print the 2 variables that were randomly selected\n",
    "variable_1, variable_2 = selected_columns\n",
    "print(\"Variable 1:\", variable_1)\n",
    "print(\"Variable 2:\", variable_2)"
   ]
  },
  {
   "cell_type": "code",
   "execution_count": null,
   "metadata": {},
   "outputs": [],
   "source": [
    "df.columns"
   ]
  },
  {
   "cell_type": "markdown",
   "metadata": {},
   "source": [
    "**Question 1a**.\n",
    "Is each of these two variables independent of being **female**? Explain your reasoning. Make sure to include a two-way table for each of these two variables with gender, and show all your calculations to support your answers.\n",
    "\n",
    "------------------\n",
    "\n",
    "The chi-squared tests were conducted to assess the independence of Quarantine_Frustrations and Work_Interest from gender. Quarantine_Frustrations exhibited a significant association with gender (p < 0.05), while Work_Interest showed no significant association (p > 0.05). This suggests a gender-related influence on Quarantine_Frustrations.\n",
    "\n",
    "------------------\n"
   ]
  },
  {
   "cell_type": "code",
   "execution_count": 7,
   "metadata": {},
   "outputs": [
    {
     "name": "stdout",
     "output_type": "stream",
     "text": [
      "Two-way table for Variable 1 (Quarantine_Frustrations) with Gender:\n",
      "Quarantine_Frustrations  No  Yes  All\n",
      "Gender                               \n",
      "Female                   44  129  173\n",
      "Male                     38   89  127\n",
      "All                      82  218  300\n",
      "\n",
      "Two-way table for Variable 2 (Work_Interest) with Gender:\n",
      "Work_Interest   No  Yes  All\n",
      "Gender                      \n",
      "Female          57  116  173\n",
      "Male            43   84  127\n",
      "All            100  200  300\n"
     ]
    }
   ],
   "source": [
    "# Create a two-way table for Variable 1 (Quarantine_Frustrations) with Gender\n",
    "variable_1_table = pd.crosstab(df['Gender'], df[variable_1], margins=True)\n",
    "\n",
    "# Print the observed frequencies\n",
    "print(\"Two-way table for Variable 1 (Quarantine_Frustrations) with Gender:\")\n",
    "print(variable_1_table)\n",
    "\n",
    "# Create a two-way table for Variable 2 (Work_Interest) with Gender\n",
    "variable_2_table = pd.crosstab(df['Gender'], df[variable_2], margins=True)\n",
    "\n",
    "# Print the observed frequencies\n",
    "print(\"\\nTwo-way table for Variable 2 (Work_Interest) with Gender:\")\n",
    "print(variable_2_table)\n"
   ]
  },
  {
   "cell_type": "markdown",
   "metadata": {},
   "source": [
    "**Question 1b**.\n",
    "Is there a relationship between the two variables returned by the code? Explain your reasoning. Make sure you include a two-way table, a stacked bar graph, and all your probability calculations in your answer.\n",
    "\n",
    "----------------------\n",
    "The conditional probabilities suggest a potential relationship between Quarantine_Frustrations and Work_Interest. When Quarantine_Frustrations is present, individuals are more likely to express interest in work. This indicates a possible association, implying that quarantine experiences may influence work-related attitudes or motivations.\n",
    "\n",
    "----------------"
   ]
  },
  {
   "cell_type": "code",
   "execution_count": 9,
   "metadata": {},
   "outputs": [
    {
     "name": "stdout",
     "output_type": "stream",
     "text": [
      "Two-way table for Quarantine_Frustrations and Work_Interest :\n",
      "Work_Interest             No  Yes  All\n",
      "Quarantine_Frustrations               \n",
      "No                        29   53   82\n",
      "Yes                       71  147  218\n",
      "All                      100  200  300\n"
     ]
    },
    {
     "data": {
      "image/png": "[encoded data removed]",
      "text/plain": [
       "<Figure size 640x480 with 1 Axes>"
      ]
     },
     "metadata": {},
     "output_type": "display_data"
    },
    {
     "name": "stdout",
     "output_type": "stream",
     "text": [
      "\n",
      "Conditional Probabilities ( Work_Interest given Quarantine_Frustrations ):\n",
      "Work_Interest                  No       Yes  All\n",
      "Quarantine_Frustrations                         \n",
      "No                       0.353659  0.646341  1.0\n",
      "Yes                      0.325688  0.674312  1.0\n",
      "All                      0.333333  0.666667  1.0\n"
     ]
    }
   ],
   "source": [
    "# Create a two-way table for Variable 1 (Quarantine_Frustrations) and Variable 2 (Work_Interest)\n",
    "variable1_variable2_table = pd.crosstab(df[variable_1], df[variable_2], margins=True)\n",
    "\n",
    "# Print the observed frequencies\n",
    "print(\"Two-way table for\", variable_1, \"and\", variable_2, \":\")\n",
    "print(variable1_variable2_table)\n",
    "\n",
    "# Plot a stacked bar graph\n",
    "variable1_variable2_table.drop('All', axis=1).plot(kind='bar', stacked=True)\n",
    "plt.title('Relationship between ' + variable_1 + ' and ' + variable_2)\n",
    "plt.xlabel(variable_1)\n",
    "plt.ylabel('Count')\n",
    "plt.legend(title=variable_2)\n",
    "plt.xticks(rotation=0)\n",
    "plt.show()\n",
    "\n",
    "# Calculate conditional probabilities\n",
    "prob_variable2_given_variable1 = variable1_variable2_table.div(variable1_variable2_table['All'], axis=0)\n",
    "print(\"\\nConditional Probabilities (\", variable_2, \"given\", variable_1, \"):\")\n",
    "print(prob_variable2_given_variable1)\n"
   ]
  },
  {
   "cell_type": "markdown",
   "metadata": {},
   "source": [
    "**Question 1c**.\n",
    "Does the existence of Variable 1 increase the likelihood of experiencing Variable 2? If so, by how much? Explain your reasoning. Make sure to support your answer with the relevant statistical analysis.\n",
    "\n",
    "-----------------\n",
    "\n",
    "### Conditional Probabilities (Work_Interest given Quarantine_Frustrations):\n",
    "\n",
    "| Quarantine_Frustrations | No       | Yes      |\n",
    "|-------------------------|----------|----------|\n",
    "| Work_Interest No        | 0.353659 | 0.646341 |\n",
    "| Work_Interest Yes       | 0.325688 | 0.674312 |\n",
    "\n",
    "The conditional probability of experiencing Work_Interest given Quarantine_Frustrations is higher when Quarantine_Frustrations is present (0.674) compared to when it is absent (0.646). This suggests that the existence of Quarantine_Frustrations increases the likelihood of experiencing Work_Interest. Specifically, the likelihood of experiencing Work_Interest increases by approximately 2.8% when Quarantine_Frustrations is present. This conclusion is supported by the statistical analysis of the conditional probabilities.\n",
    "\n",
    "-----------\n",
    "\n",
    "\n"
   ]
  },
  {
   "cell_type": "markdown",
   "metadata": {},
   "source": [
    "**Question 1d**.\n",
    "Look back at your **answers to Questions 1a-c**. Now use what you learned to answer the following question:\n",
    "\n",
    "Imagine ZU wanted to use the insights from this research to improve its mental health support program. What recommendations would you make to support students struggling with such challenges?\n",
    "\n",
    "----------------\n",
    "\n",
    "Based on the findings, I would recommend Zu University to tailor mental health support programs to address gender-specific challenges. By recognizing the impact of quarantine experiences on work interest, interventions can be implemented to foster motivation and engagement. Integrating gender-sensitive approaches and offering diverse resources, such as counseling services and peer support groups, can empower students to manage stressors effectively. Additionally, providing flexible work arrangements and promoting social connections can enhance well-being. By implementing these recommendations, Zu University can create a supportive environment that meets the diverse needs of students and promotes holistic mental health and resilience.\n",
    "\n",
    "--------------------"
   ]
  },
  {
   "cell_type": "markdown",
   "metadata": {},
   "source": [
    "# QUESTION 2\n",
    "\n",
    "*Set up*"
   ]
  },
  {
   "cell_type": "markdown",
   "metadata": {},
   "source": [
    "Imagine you are the manager of an Electronic store in Dubai mall. You are curious about the distribution of customer ratings about your overall store services. So you ask random customers who visit the store to complete a short survey, recording variables such as their age group, and overall experience rating.\n",
    "\n",
    "**To Begin**\n",
    "\n",
    "Run the code below. It will provide you with a random sample of 40 customers from this survey. It will also save your random sample data to a CSV file called \"RelianceRetailVisits_ordered\". Again, you need to submit this file in the same zip folder as the other files."
   ]
  },
  {
   "cell_type": "code",
   "execution_count": 12,
   "metadata": {},
   "outputs": [
    {
     "data": {
      "text/html": [
       "<div>\n",
       "<style scoped>\n",
       "    .dataframe tbody tr th:only-of-type {\n",
       "        vertical-align: middle;\n",
       "    }\n",
       "\n",
       "    .dataframe tbody tr th {\n",
       "        vertical-align: top;\n",
       "    }\n",
       "\n",
       "    .dataframe thead th {\n",
       "        text-align: right;\n",
       "    }\n",
       "</style>\n",
       "<table border=\"1\" class=\"dataframe\">\n",
       "  <thead>\n",
       "    <tr style=\"text-align: right;\">\n",
       "      <th></th>\n",
       "      <th>Customer Index</th>\n",
       "      <th>Age Group</th>\n",
       "      <th>OverallExperienceRatin</th>\n",
       "    </tr>\n",
       "  </thead>\n",
       "  <tbody>\n",
       "    <tr>\n",
       "      <th>165</th>\n",
       "      <td>166</td>\n",
       "      <td>26  To  35 years</td>\n",
       "      <td>2</td>\n",
       "    </tr>\n",
       "    <tr>\n",
       "      <th>114</th>\n",
       "      <td>115</td>\n",
       "      <td>26  To  35 years</td>\n",
       "      <td>4</td>\n",
       "    </tr>\n",
       "    <tr>\n",
       "      <th>117</th>\n",
       "      <td>118</td>\n",
       "      <td>26  To  35 years</td>\n",
       "      <td>5</td>\n",
       "    </tr>\n",
       "    <tr>\n",
       "      <th>118</th>\n",
       "      <td>119</td>\n",
       "      <td>26  To  35 years</td>\n",
       "      <td>5</td>\n",
       "    </tr>\n",
       "    <tr>\n",
       "      <th>172</th>\n",
       "      <td>173</td>\n",
       "      <td>26  To  35 years</td>\n",
       "      <td>5</td>\n",
       "    </tr>\n",
       "  </tbody>\n",
       "</table>\n",
       "</div>"
      ],
      "text/plain": [
       "     Customer Index         Age Group  OverallExperienceRatin\n",
       "165             166  26  To  35 years                       2\n",
       "114             115  26  To  35 years                       4\n",
       "117             118  26  To  35 years                       5\n",
       "118             119  26  To  35 years                       5\n",
       "172             173  26  To  35 years                       5"
      ]
     },
     "execution_count": 12,
     "metadata": {},
     "output_type": "execute_result"
    }
   ],
   "source": [
    "# Load the following libraries so that they can be applied in the subsequent code blocks\n",
    "\n",
    "try:\n",
    "    df = pd.read_csv('RelianceRetailVisits.csv')\n",
    "except FileNotFoundError:\n",
    "    original_data = pd.read_csv(\"https://raw.githubusercontent.com/DanaSaleh1003/IDS-103-Spring-2024/main/RelianceRetailVisits-1.csv\")\n",
    "\n",
    "    # Randomly sample 40 rows from the original dataset\n",
    "    df = original_data.sample(n=40, random_state=42)\n",
    "\n",
    "# Fill missing values for '46 To 60 years' age group with default values or remove NaN rows\n",
    "df.fillna({'Age Group': '46 To 60 years'}, inplace=True)\n",
    "\n",
    "# Sort the DataFrame based on the 'Age Group' column in the desired order\n",
    "desired_order = ['26  To  35 years', '16  To  25 years', '36  To  45 years', '46  To  60 years']  # Corrected unique values\n",
    "df['Age Group'] = pd.Categorical(df['Age Group'], categories=desired_order, ordered=True)\n",
    "df.sort_values(by='Age Group', inplace=True)\n",
    "\n",
    "# Save the sorted DataFrame to a new CSV file\n",
    "df.to_csv('RelianceRetailVisits_ordered.csv', index=False)\n",
    "\n",
    "df.head()\n"
   ]
  },
  {
   "cell_type": "markdown",
   "metadata": {},
   "source": [
    "**Question 2a.** Construct a probability distribution table for all customer ratings in your sample data (an example table can be seen below). Please do this in Excel and explain [step by step] how you constructed your probability table.\n"
   ]
  },
  {
   "cell_type": "markdown",
   "metadata": {},
   "source": [
    "1. **Data Import and Organization**:\n",
    "   - I began by importing my dataset into Microsoft Excel and organizing it into a new worksheet. Each customer's rating was recorded in a single column, ensuring clear data representation.\n",
    "\n",
    "2. **Identification of Unique Ratings**:\n",
    "   - Utilizing the `=UNIQUE()` function, I extracted the unique ratings adjacent to the customer data. This process generated a comprehensive list containing all distinct rating values present in the dataset.\n",
    "\n",
    "3. **Frequency Calculation**:\n",
    "   - Employing the `=COUNTIF()` function, I determined the frequency of occurrence for each unique rating. This method enabled me to discern the distribution of ratings by quantifying how often each value appeared in the dataset.\n",
    "\n",
    "4. **Total Ratings Calculation**:\n",
    "   - By employing the `=SUM()` function, I computed the total count of ratings encompassed within the dataset. This aggregate value represented the cumulative sum of all individual rating frequencies previously calculated.\n",
    "\n",
    "5. **Probability Computation**:\n",
    "   - In an adjacent column, I computed the probability associated with each rating. This involved dividing each rating's frequency by the total number of ratings using the formula `=COUNT/Total`. Consequently, I obtained a probabilistic assessment of the likelihood of encountering each rating within the dataset."
   ]
  },
  {
   "attachments": {
    "laugh.png": {
     "image/png": "[encoded data removed]"
    }
   },
   "cell_type": "markdown",
   "metadata": {},
   "source": [
    "![laugh.png](attachment:laugh.png)"
   ]
  },
  {
   "cell_type": "markdown",
   "metadata": {},
   "source": [
    "**Question 2b.**  What is the probability that a randomly selected customer will have a rating of AT MOST 3?\n",
    "\n",
    "----------\n",
    "\n",
    "$\n",
    "\\text{Probability of rating at most 3} = P(1) + P(2) + P(3)\n",
    "$\n",
    "$\n",
    "= 0.025 + 0.15 + 0.1\n",
    "$\n",
    "$\n",
    "= 0.275\n",
    "$\n",
    "\n",
    " = \\(0.275\\)\n",
    "-------"
   ]
  },
  {
   "cell_type": "markdown",
   "metadata": {},
   "source": [
    "\n",
    "**Question 2c.** Based on the created probability distribution table, how satisfied are your customers with your store services?\n",
    "\n",
    "---------------------------\n",
    "\n",
    "$\n",
    "\\text{Expected value} = E(X) = \\sum_{i=1}^{5} x_i \\times P(x_i)\n",
    "$\n",
    "\n",
    "Substituting the values from the provided probability distribution table:\n",
    "\n",
    "$\n",
    "E(X) = (1 \\times 0.025) + (2 \\times 0.15) + (3 \\times 0.1) + (4 \\times 0.425) + (5 \\times 0.3)\n",
    "$\n",
    "\n",
    "$\n",
    "= 0.025 + 0.3 + 0.3 + 1.7 + 1.5\n",
    "$\n",
    "\n",
    "$\n",
    "= 3.85\n",
    "$\n",
    "\n",
    "The expected value of the overall experience ratings is 3.85. \n",
    "\n",
    "Since the expected value is closer to the higher end of the rating scale (5), it suggests that customers, on average, are relatively satisfied with the store services.\n",
    ".\n",
    " \n",
    "------------------------\n",
    "\n"
   ]
  },
  {
   "cell_type": "markdown",
   "metadata": {},
   "source": [
    "**Question 2d.** Find the **expected rating** of your store. Show your work and interpret your answer in context.\n",
    "\n",
    "---------------------\n",
    "\n",
    "\n",
    "\n",
    "$\n",
    "\\text{Expected rating} = (1 \\times 0.025) + (2 \\times 0.15) + (3 \\times 0.1) + (4 \\times 0.425) + (5 \\times 0.3)\n",
    "$\n",
    "\n",
    "$\n",
    "= 0.025 + 0.3 + 0.3 + 1.7 + 1.5\n",
    "$\n",
    "\n",
    "$\n",
    "= 3.825\n",
    "$\n",
    "\n",
    "The expected rating of the store is 3.825.\n",
    "\n",
    "**`Interpretation:`** On average, customers are expected to rate their overall experience with the store as approximately 3.825 out of 5. This suggests that the majority of customers are likely to have a positive experience with the store's services, indicating a relatively high level of satisfaction.\n",
    "\n",
    "\n",
    "-------------------"
   ]
  },
  {
   "cell_type": "markdown",
   "metadata": {},
   "source": [
    "# Probability distribution  function graph"
   ]
  },
  {
   "cell_type": "code",
   "execution_count": 14,
   "metadata": {},
   "outputs": [
    {
     "data": {
      "image/png": "[encoded data removed]",
      "text/plain": [
       "<Figure size 800x600 with 1 Axes>"
      ]
     },
     "metadata": {},
     "output_type": "display_data"
    },
    {
     "name": "stdout",
     "output_type": "stream",
     "text": [
      "Standard Deviation (STD) of Customer Rating: 1.11\n",
      "\n"
     ]
    }
   ],
   "source": [
    "import numpy as np\n",
    "import pandas as pd\n",
    "import matplotlib.pyplot as plt\n",
    "import scipy.stats as stats\n",
    "from tabulate import tabulate\n",
    "\n",
    "# Load data\n",
    "try:\n",
    "    df = pd.read_csv('RelianceRetailVisits.csv')\n",
    "except FileNotFoundError:\n",
    "    original_data = pd.read_csv(\"https://raw.githubusercontent.com/DanaSaleh1003/IDS-103-Spring-2024/main/RelianceRetailVisits-1.csv\")\n",
    "    df = original_data.sample(n=40, random_state=42)\n",
    "\n",
    "# Fill missing values for '46 To 60 years' age group with default values or remove NaN rows\n",
    "df.fillna({'Age Group': '46 To 60 years'}, inplace=True)\n",
    "\n",
    "# Sort the DataFrame based on the 'Age Group' column in the desired order\n",
    "desired_order = ['26  To  35 years', '16  To  25 years', '36  To  45 years', '46  To  60 years']\n",
    "df['Age Group'] = pd.Categorical(df['Age Group'], categories=desired_order, ordered=True)\n",
    "df.sort_values(by='Age Group', inplace=True)\n",
    "\n",
    "# Save the sorted DataFrame to a new CSV file\n",
    "df.to_csv('RelianceRetailVisits_ordered.csv', index=False)\n",
    "\n",
    "# Probability distribution graph for customer rating\n",
    "plt.figure(figsize=(8, 6))\n",
    "rating_counts = df['OverallExperienceRatin'].value_counts(normalize=True).sort_index()\n",
    "plt.bar(rating_counts.index, rating_counts, alpha=0.7)\n",
    "plt.title('Probability Distribution of Customer Rating')\n",
    "plt.xlabel('Overall Experience Rating')\n",
    "plt.ylabel('Probability')\n",
    "plt.xticks(range(1, 6))\n",
    "plt.grid(axis='y', linestyle='--', alpha=0.7)\n",
    "plt.show()\n",
    "\n",
    "# Expected value and STD for rating for all customers\n",
    "mean_rating = df['OverallExperienceRatin'].mean()\n",
    "std_rating = df['OverallExperienceRatin'].std()\n",
    "print(f\"Standard Deviation (STD) of Customer Rating: {std_rating:.2f}\")\n",
    "print()"
   ]
  },
  {
   "cell_type": "markdown",
   "metadata": {},
   "source": [
    "**Question 2e.** Interpret the **Standard Deviation** in context. What rating is considered **unusual**? Explain."
   ]
  },
  {
   "cell_type": "markdown",
   "metadata": {},
   "source": [
    "**`Interpretation:`**\n",
    "The standard deviation (STD) of approximately 1.11 indicates the average amount of variability in customer ratings around the mean rating of 3.85. An \"unusual\" rating deviates significantly from the average by more than one standard deviation, around 1.11 points above or below the mean. Ratings falling outside this range, such as approximately 4.96 or 2.74, are considered unusual and may represent atypical customer experiences compared to the majority of ratings."
   ]
  },
  {
   "cell_type": "markdown",
   "metadata": {},
   "source": [
    "## PDF for each age group\n",
    "\n"
   ]
  },
  {
   "cell_type": "code",
   "execution_count": 15,
   "metadata": {},
   "outputs": [
    {
     "name": "stderr",
     "output_type": "stream",
     "text": [
      "/tmp/ipykernel_50551/1605697025.py:23: UserWarning: FixedFormatter should only be used together with FixedLocator\n",
      "  axs[i].set_yticklabels(['{:,.0%}'.format(x) for x in axs[i].get_yticks()])  # Format y-axis tick labels as percentages\n"
     ]
    },
    {
     "data": {
      "image/png": "[encoded data removed]",
      "text/plain": [
       "<Figure size 2000x600 with 4 Axes>"
      ]
     },
     "metadata": {},
     "output_type": "display_data"
    }
   ],
   "source": [
    "import numpy as np\n",
    "import pandas as pd\n",
    "import matplotlib.pyplot as plt\n",
    "import scipy.stats as stats\n",
    "\n",
    "# Assuming your data is stored in a CSV file named 'data.csv'\n",
    "data = pd.read_csv('RelianceRetailVisits_ordered.csv')\n",
    "\n",
    "# Define age groups including the new one\n",
    "age_groups = ['16  To  25 years', '26  To  35 years', '36  To  45 years', '46  To  60 years']  # Added new age group\n",
    "\n",
    "# Plot separate discrete probability distributions for each age group\n",
    "fig, axs = plt.subplots(1, 4, figsize=(20, 6), sharex=True, gridspec_kw={'hspace': 0.5})  # Adjusted size and spacing\n",
    "\n",
    "for i, age_group in enumerate(age_groups):\n",
    "    age_data = data[data['Age Group'] == age_group]\n",
    "    rating_counts = age_data['OverallExperienceRatin'].value_counts(normalize=True).sort_index()\n",
    "    bars = axs[i].bar(rating_counts.index, rating_counts, alpha=0.7)\n",
    "    axs[i].set_title(f'{age_group}\\nMean: {age_data[\"OverallExperienceRatin\"].mean():.2f} | SD: {age_data[\"OverallExperienceRatin\"].std():.2f}')  # Age group, Mean, and SD\n",
    "    axs[i].set_xlabel('Overall Experience Rating')\n",
    "    axs[i].set_ylabel('Probability (%)')  # Set y-axis label to Probability (%)\n",
    "    axs[i].set_xticks(range(1, 6))  # Set x-axis ticks from 1 to 5\n",
    "    axs[i].set_yticklabels(['{:,.0%}'.format(x) for x in axs[i].get_yticks()])  # Format y-axis tick labels as percentages\n",
    "\n",
    "    # Display percentages above each bar\n",
    "    for bar in bars:\n",
    "        height = bar.get_height()\n",
    "        rating = bar.get_x() + bar.get_width() / 2\n",
    "        if height == 0:  # If the height is 0%, display '0%'\n",
    "            axs[i].text(rating, height, '0%', ha='center', va='bottom', fontsize=8)\n",
    "        else:\n",
    "            axs[i].text(rating, height, f'{height:.0%}', ha='center', va='bottom', fontsize=8)\n",
    "\n",
    "    axs[i].grid(axis='y', linestyle='--', alpha=0.7)\n",
    "\n",
    "# Hide the warning about FixedFormatter\n",
    "import warnings\n",
    "warnings.filterwarnings(\"ignore\", category=UserWarning)\n",
    "\n",
    "plt.tight_layout()\n",
    "plt.show()\n"
   ]
  },
  {
   "cell_type": "markdown",
   "metadata": {},
   "source": [
    "**Question 2f.** Identify any trends or differences in customer satisfaction levels (and variability) among the different age groups.\n",
    "\n",
    "Now, using these insights, what concrete improvements would you make to your store to ensure that **all** customers are satisfied with your services?"
   ]
  },
  {
   "cell_type": "markdown",
   "metadata": {},
   "source": [
    "Custmer  Satisfaction follows a normal trend but for each age group the customer satisfaction is  skewed to the right showing higher customer satisfactions but for the 16 -25 years have the only ratings of 1."
   ]
  },
  {
   "cell_type": "markdown",
   "metadata": {},
   "source": [
    "# QUESTION 3\n",
    "\n",
    "**SET UP**"
   ]
  },
  {
   "cell_type": "code",
   "execution_count": 16,
   "metadata": {},
   "outputs": [
    {
     "name": "stdout",
     "output_type": "stream",
     "text": [
      "Mean score: 975.682\n",
      "Standard deviation: 118.07596202787767\n"
     ]
    },
    {
     "data": {
      "text/html": [
       "<div>\n",
       "<style scoped>\n",
       "    .dataframe tbody tr th:only-of-type {\n",
       "        vertical-align: middle;\n",
       "    }\n",
       "\n",
       "    .dataframe tbody tr th {\n",
       "        vertical-align: top;\n",
       "    }\n",
       "\n",
       "    .dataframe thead th {\n",
       "        text-align: right;\n",
       "    }\n",
       "</style>\n",
       "<table border=\"1\" class=\"dataframe\">\n",
       "  <thead>\n",
       "    <tr style=\"text-align: right;\">\n",
       "      <th></th>\n",
       "      <th>Scores</th>\n",
       "    </tr>\n",
       "  </thead>\n",
       "  <tbody>\n",
       "    <tr>\n",
       "      <th>0</th>\n",
       "      <td>666.0</td>\n",
       "    </tr>\n",
       "    <tr>\n",
       "      <th>1</th>\n",
       "      <td>1199.0</td>\n",
       "    </tr>\n",
       "    <tr>\n",
       "      <th>2</th>\n",
       "      <td>1039.0</td>\n",
       "    </tr>\n",
       "    <tr>\n",
       "      <th>3</th>\n",
       "      <td>898.0</td>\n",
       "    </tr>\n",
       "    <tr>\n",
       "      <th>4</th>\n",
       "      <td>888.0</td>\n",
       "    </tr>\n",
       "  </tbody>\n",
       "</table>\n",
       "</div>"
      ],
      "text/plain": [
       "   Scores\n",
       "0   666.0\n",
       "1  1199.0\n",
       "2  1039.0\n",
       "3   898.0\n",
       "4   888.0"
      ]
     },
     "execution_count": 16,
     "metadata": {},
     "output_type": "execute_result"
    }
   ],
   "source": [
    "# Load the following libraries so that they can be applied in the subsequent code blocks\n",
    "\n",
    "\n",
    "import pandas as pd\n",
    "import numpy as np\n",
    "import random\n",
    "\n",
    "try:\n",
    "    SATScores = pd.read_csv('Scores.csv')\n",
    "except FileNotFoundError:\n",
    "    num_samples = 1000\n",
    "    mean_score = random.randint(800, 1200)\n",
    "    std_deviation = random.randint(100, 300)\n",
    "    scores = np.random.normal(mean_score, std_deviation, num_samples)\n",
    "    scores = np.round(scores, 0)\n",
    "    SATScores = pd.DataFrame({'Scores': scores})\n",
    "    SATScores.to_csv('Scores.csv')\n",
    "\n",
    "# Calculate mean and standard deviation\n",
    "mean_score = SATScores['Scores'].mean()\n",
    "std_deviation = SATScores['Scores'].std()\n",
    "\n",
    "# Print mean score and standard deviation\n",
    "print(\"Mean score:\", mean_score)\n",
    "print(\"Standard deviation:\", std_deviation)\n",
    "\n",
    "# Display the dataset\n",
    "SATScores.head()\n"
   ]
  },
  {
   "cell_type": "markdown",
   "metadata": {},
   "source": [
    "**Question 3a**. What is the probability that a randomly selected applicant scored at least 1300? Show your work.\n",
    "\n",
    "-----------------------\n",
    "$z = \\frac{X - \\mu}{\\sigma} $\n",
    "\n",
    "where:\n",
    "- $ X $ is the score (1300),\n",
    "- $ \\mu $ is the mean score (975.682),\n",
    "- $ \\sigma $ is the standard deviation (118.076).\n",
    "\n",
    "Given:\n",
    "$X = 1300 $\n",
    "$\\mu = 975.682 $\n",
    "$\\sigma = 118.076 $\n",
    "\n",
    "Calculating the z-score:\n",
    "$z = \\frac{1300 - 975.682}{118.076} $\n",
    "$z \\approx \\frac{324.318}{118.076} $\n",
    "$z \\approx 2.747 $\n",
    "\n",
    "we find the probability associated with $ z = 2.747 $ using a standard normal distribution table or a calculator.\n",
    "\n",
    "From the standard normal distribution table or calculator, we find that the probability associated with $ z = 2.747 $ is approximately 0.9979.\n",
    "\n",
    "Therefore, the probability that a randomly selected applicant scored at least 1300 on the SAT is approximately $ 0.9979 $ or $ 99.79\\% $.\n",
    "---------------------------------------"
   ]
  },
  {
   "cell_type": "markdown",
   "metadata": {},
   "source": [
    "**Question 3b**. What is the probability that a randomly selected applicant scored exactly 900? Show your work.\n",
    "\n",
    "------------\n",
    "\n",
    "1. Calculate the z-score:\n",
    "$ z = \\frac{X - \\mu}{\\sigma} $\n",
    "$ z = \\frac{900 - 975.682}{118.076} $\n",
    "$ z \\approx -0.641 $\n",
    "\n",
    "2. Find the probability associated with $ z = -0.641 $ using a standard normal distribution table or calculator.\n",
    "\n",
    "3. The probability associated with $ z = -0.641 $ represents the area to the left of $ z = -0.641 $ on the standard normal distribution curve.\n",
    "\n",
    "4. However, we want the probability of scoring exactly 900, not less than 900. To find this, we need to find the difference between the probabilities of scoring less than 900 and less than 901.\n",
    "\n",
    "5. Subtract the probability of scoring less than 900 from the probability of scoring less than 901.\n",
    "\n",
    "6. Therefore, the probability that a randomly selected applicant scored exactly 900 on the SAT is the difference between the probabilities of scoring less than 901 and less than 900, which is approximately $ 0.2608 - 0.2394 = 0.0214 $ or $ 2.14\\% $.\n",
    "\n",
    "--------------"
   ]
  },
  {
   "cell_type": "markdown",
   "metadata": {},
   "source": [
    "**Question 3c**. What percentage of applicants scored between 900 and 1000? Show your work.\n",
    "\n",
    "---------------------------------------\n",
    "\n",
    "Certainly, let's complete the calculation step by step:\n",
    "\n",
    "1. **Calculate the z-scores**:\n",
    "   - For 900:\n",
    "     $ z_1 = \\frac{X_1 - \\mu}{\\sigma} $\n",
    "     $ z_1 = \\frac{900 - 975.682}{118.076} $\n",
    "     $ z_1 \\approx -0.641 $\n",
    "   \n",
    "   - For 1000:\n",
    "     $ z_2 = \\frac{X_2 - \\mu}{\\sigma} $\n",
    "     $ z_2 = \\frac{1000 - 975.682}{118.076} $\n",
    "     $ z_2 \\approx 0.206 $\n",
    "\n",
    "2. **Find the cumulative probabilities**:\n",
    "   - For $ z_1 = -0.641 $ and $ z_2 = 0.206 $, find the cumulative probabilities using a standard normal distribution table or calculator.\n",
    "\n",
    " **Find the cumulative probabilities**:\n",
    "   - Using a standard normal distribution table or calculator, we find:\n",
    "     - For $ z = -0.641 $, the cumulative probability for 900 is approximately 0.2608.\n",
    "     - For $ z = 0.206 $, the cumulative probability for 1000 is approximately 0.5828.\n",
    "\n",
    " **Calculate the percentage**:\n",
    "   - Subtracting the cumulative probability for 900 (0.2608) from the cumulative probability for 1000 (0.5828) gives us the difference in probabilities.\n",
    "   - The difference in probabilities represents the percentage of applicants who scored between 900 and 1000 on the SAT.\n",
    "\n",
    " **Final calculation**:\n",
    "   - Difference in probabilities = 0.5828 - 0.2608 = 0.3220.\n",
    "   - Therefore, the percentage of applicants who scored between 900 and 1000 on the SAT is 32.20%.\n",
    "\n",
    "= 32.20%\n",
    "\n",
    "-------------"
   ]
  },
  {
   "cell_type": "markdown",
   "metadata": {},
   "source": [
    "**Question 3d**. Calculate the 40th percentile of scores among the applicants. What does this value represent in the context of the admissions process? Show your work.\n",
    "\n",
    "----------------------------------------------\n",
    "\n",
    "To calculate the 40th percentile of scores among the applicants:\n",
    "\n",
    " **Find the z-score corresponding to the 40th percentile**:\n",
    "   - Using a standard normal distribution table or calculator, we find that the z-score corresponding to the 40th percentile is approximately -0.253.\n",
    "\n",
    " **Convert the z-score to the SAT score**:\n",
    "   - Using the formula:\n",
    "     $ X = \\mu + z \\times \\sigma $\n",
    "     where:\n",
    "     - $ X $ is the SAT score at the 40th percentile,\n",
    "     - $ \\mu $ is the mean score (975.682),\n",
    "     - $ \\sigma $ is the standard deviation (118.076),\n",
    "     - $ z $ is the z-score corresponding to the 40th percentile (-0.253).\n",
    "\n",
    "The calculation for the 40th percentile of scores among the applicants is:\n",
    "\n",
    "$ X = 975.682 + (-0.253) \\times 118.076 $\n",
    "$ X \\approx 975.682 - 29.839 $\n",
    "$ X \\approx 945.843 $\n",
    "\n",
    "= 945.843."
   ]
  },
  {
   "cell_type": "markdown",
   "metadata": {},
   "source": [
    "**Question 3e**. Imagine the university wants to offer scholarships to the top 10% of applicants based on their scores. What minimum score would an applicant need to qualify for a scholarship? Show your work.\n",
    "\n",
    "--------------------------\n",
    "\n",
    "**Convert the z-score to the SAT score**:\n",
    "   $ \\\\ X = \\mu + z \\times \\sigma \\\\ $\n",
    "   $\\\\  X = 975.682 + 1.282 \\times 118.076 \\\\ $\n",
    "\n",
    "$ \\\\ X = 975.682 + 1.282 \\times 118.076 \\\\  $\n",
    "$\\\\  X \\approx 975.682 + 151.229 \\\\ $\n",
    "$ \\\\ X \\approx 1126.911 \\\\ $\n",
    "\n",
    "the minimum SAT score required for the scholarship is approximately 1126.911.\n",
    "-------------"
   ]
  },
  {
   "cell_type": "markdown",
   "metadata": {},
   "source": [
    "**Question 3f**. Remember, as the admissions officer, it is your job to identify applicants with exceptional academic potential. Would you automatically recommend that applicants with SAT scores above 1400 to be admitted into the university? Or do you think additional criteria should also be considered? Explain your reasoning.\n",
    "\n",
    "------------------------------\n",
    "\n",
    "As the admissions officer, I wouldn't automatically recommend admitting applicants solely based on SAT scores above 1400. While high SAT scores can indicate strong academic potential, they don't provide a complete picture of an applicant's abilities or fit for the university. Additional criteria such as extracurricular activities, personal achievements, letters of recommendation, and personal statements should also be considered. These factors offer insight into an applicant's character, interests, and potential contributions to the university community. A holistic approach ensures that all aspects of an applicant's profile are evaluated, leading to a fair and comprehensive admissions process.\n",
    "\n",
    "----------"
   ]
  },
  {
   "cell_type": "markdown",
   "metadata": {},
   "source": [
    "# question 4"
   ]
  },
  {
   "cell_type": "code",
   "execution_count": 18,
   "metadata": {},
   "outputs": [
    {
     "data": {
      "text/html": [
       "<div>\n",
       "<style scoped>\n",
       "    .dataframe tbody tr th:only-of-type {\n",
       "        vertical-align: middle;\n",
       "    }\n",
       "\n",
       "    .dataframe tbody tr th {\n",
       "        vertical-align: top;\n",
       "    }\n",
       "\n",
       "    .dataframe thead th {\n",
       "        text-align: right;\n",
       "    }\n",
       "</style>\n",
       "<table border=\"1\" class=\"dataframe\">\n",
       "  <thead>\n",
       "    <tr style=\"text-align: right;\">\n",
       "      <th></th>\n",
       "      <th>Vaccinated</th>\n",
       "    </tr>\n",
       "  </thead>\n",
       "  <tbody>\n",
       "    <tr>\n",
       "      <th>0</th>\n",
       "      <td>No</td>\n",
       "    </tr>\n",
       "    <tr>\n",
       "      <th>1</th>\n",
       "      <td>Yes</td>\n",
       "    </tr>\n",
       "    <tr>\n",
       "      <th>2</th>\n",
       "      <td>No</td>\n",
       "    </tr>\n",
       "    <tr>\n",
       "      <th>3</th>\n",
       "      <td>No</td>\n",
       "    </tr>\n",
       "    <tr>\n",
       "      <th>4</th>\n",
       "      <td>Yes</td>\n",
       "    </tr>\n",
       "  </tbody>\n",
       "</table>\n",
       "</div>"
      ],
      "text/plain": [
       "  Vaccinated\n",
       "0         No\n",
       "1        Yes\n",
       "2         No\n",
       "3         No\n",
       "4        Yes"
      ]
     },
     "execution_count": 18,
     "metadata": {},
     "output_type": "execute_result"
    }
   ],
   "source": [
    "# Load the following libraries so that they can be applied in the subsequent code blocks\n",
    "\n",
    "import numpy as np\n",
    "import pandas as pd\n",
    "import matplotlib.pyplot as plt\n",
    "import random\n",
    "import scipy.stats as stats\n",
    "\n",
    "# Run this code. It will generate data and save it to a CSV file called \"Vaccinated.csv\". You need to submit it in the same zip folder as your other files.\n",
    "\n",
    "try:\n",
    "    Vaccinated = pd.read_csv('Vaccinated.csv')\n",
    "except FileNotFoundError:\n",
    "    num_samples = 100\n",
    "    vaccinated = np.random.choice([\"Yes\", \"No\"], size=num_samples)\n",
    "    Vaccinated = pd.DataFrame({'Vaccinated': vaccinated})\n",
    "    Vaccinated.to_csv('Vaccinated.csv')\n",
    "\n",
    "# Have a look at Vaccinated dataset.\n",
    "Vaccinated.head()"
   ]
  },
  {
   "cell_type": "markdown",
   "metadata": {},
   "source": [
    "**Question 4a**. What is the proportion of people who have received the vaccine (based on the dataset you have)?\n",
    "\n",
    "Proportion of vaccinated individuals: 0.57"
   ]
  },
  {
   "cell_type": "code",
   "execution_count": 20,
   "metadata": {},
   "outputs": [
    {
     "name": "stdout",
     "output_type": "stream",
     "text": [
      "Proportion of vaccinated individuals: 0.46\n"
     ]
    }
   ],
   "source": [
    "import pandas as pd\n",
    "\n",
    "# Assuming \"Vaccinated\" is your DataFrame\n",
    "# Replace 'Vaccinated' with your actual DataFrame name\n",
    "\n",
    "# Count the total number of individuals\n",
    "total_individuals = len(Vaccinated)\n",
    "\n",
    "# Count the number of vaccinated individuals\n",
    "vaccinated_individuals = Vaccinated[Vaccinated['Vaccinated'] == 'Yes'].shape[0]\n",
    "\n",
    "# Calculate the proportion of vaccinated individuals\n",
    "proportion_vaccinated = vaccinated_individuals / total_individuals\n",
    "\n",
    "print(\"Proportion of vaccinated individuals:\", proportion_vaccinated)\n"
   ]
  },
  {
   "cell_type": "markdown",
   "metadata": {},
   "source": [
    "**Question 4b**. Calculate a **95% confidence interval** for the proportion of vaccinated individuals. What does this interval tell us about the likely range of vaccination coverage in the entire population? Show your work.\n",
    "\n",
    "----------------\n",
    "\n",
    "1. Sample proportion ($ \\hat{p} $):\n",
    "$ \\hat{p} = \\frac{\\text{Number of vaccinated individuals}}{\\text{Total number of individuals}} = \\frac{57}{100} = 0.57 $\n",
    "\n",
    "2. Standard error of the proportion ($ SE_{\\hat{p}} $):\n",
    "$ SE_{\\hat{p}} = \\sqrt{\\frac{\\hat{p}(1-\\hat{p})}{n}} = \\sqrt{\\frac{0.57 \\times (1-0.57)}{100}} \\approx 0.049 $\n",
    "\n",
    "3. Margin of error (ME):\n",
    "$ ME = Z \\times SE_{\\hat{p}} = 1.96 \\times 0.049 \\approx 0.096 $\n",
    "\n",
    "4. Lower bound of the confidence interval:\n",
    "$ \\text{Lower bound} = \\hat{p} - ME = 0.57 - 0.096 = 0.474 $\n",
    "\n",
    "5. Upper bound of the confidence interval:\n",
    "$ \\text{Upper bound} = \\hat{p} + ME = 0.57 + 0.096 = 0.666 $\n",
    "\n",
    "95% Confidence Interval: (0.474, 0.666)"
   ]
  },
  {
   "cell_type": "markdown",
   "metadata": {},
   "source": [
    "**Question 4c**. What sample size would be required to estimate the proportion of vaccinated individuals in the country with a **95% confidence level** and a **margin of error of 0.02**? Show your work.\n",
    "\n",
    "-------------------------\n",
    "$ n = \\left( \\frac{Z^2 \\times \\hat{p} \\times (1 - \\hat{p})}{E^2} \\right) $\n",
    "\n",
    "Where:\n",
    "- $ Z $ is the z-score corresponding to the desired confidence level (for a 95% confidence level, $ Z = 1.96 $).\n",
    "- $ \\hat{p} $ is the estimated proportion of vaccinated individuals (we can use the proportion from the previous calculation, $ \\hat{p} = 0.57 $).\n",
    "- $ E $ is the margin of error (0.02 in this case).\n",
    "\n",
    "Let's calculate the sample size:\n",
    "\n",
    "$ n = \\left( \\frac{(1.96)^2 \\times 0.57 \\times (1 - 0.57)}{0.02^2} \\right) $\n",
    "\n",
    "$ n = \\left( \\frac{3.8416 \\times 0.57 \\times 0.43}{0.0004} \\right) $\n",
    "\n",
    "$ n = \\left( \\frac{0.77117712}{0.0004} \\right) $\n",
    "\n",
    "$ n \\approx 1927.9428 $\n",
    "\n",
    "= 1928.\n"
   ]
  },
  {
   "cell_type": "markdown",
   "metadata": {},
   "source": [
    "**Question 4d**. If you wanted to increase the precision of your estimate, what strategies could you employ to achieve this goal? Explain your reasoning.\n",
    "\n",
    "----------------------------\n",
    "\n",
    "1. **Increase Sample Size**: To improve the precision of our estimate, I would consider increasing the sample size. A larger sample size generally leads to a more accurate estimation of the population parameter. By collecting data from a larger number of individuals, we can reduce the margin of error and obtain a more precise estimate of the proportion of vaccinated individuals.\n",
    "\n",
    "2. **Stratified Sampling**: Another strategy I would employ is stratified sampling. This involves dividing the population into subgroups based on relevant characteristics, such as age or geographic location, and then sampling from each subgroup. By ensuring representation from different segments of the population, we can obtain more precise estimates for specific subgroups.\n"
   ]
  },
  {
   "cell_type": "markdown",
   "metadata": {},
   "source": [
    "**Question 4e**. Analyze the effectiveness of the current vaccination campaign using the proportion of vaccinated individuals and the confidence interval. What recommendations would you make for future campaigns?"
   ]
  },
  {
   "cell_type": "markdown",
   "metadata": {},
   "source": []
  }
 ],
 "metadata": {
  "kernelspec": {
   "display_name": "Python 3",
   "language": "python",
   "name": "python3"
  },
  "language_info": {
   "codemirror_mode": {
    "name": "ipython",
    "version": 3
   },
   "file_extension": ".py",
   "mimetype": "text/x-python",
   "name": "python",
   "nbconvert_exporter": "python",
   "pygments_lexer": "ipython3",
   "version": "3.8.10"
  }
 },
 "nbformat": 4,
 "nbformat_minor": 2
}
