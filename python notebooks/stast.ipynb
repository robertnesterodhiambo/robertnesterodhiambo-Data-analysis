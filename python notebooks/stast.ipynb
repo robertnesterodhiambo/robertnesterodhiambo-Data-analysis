{
 "cells": [
  {
   "cell_type": "markdown",
   "metadata": {},
   "source": [
    "#   QUESTION 1\n",
    "\n",
    "*SET UP*"
   ]
  },
  {
   "cell_type": "code",
   "execution_count": 1,
   "metadata": {},
   "outputs": [],
   "source": [
    "\n",
    "import numpy as np\n",
    "import pandas as pd\n",
    "import matplotlib.pyplot as plt\n",
    "import random\n",
    "import scipy.stats as stats\n",
    "import random\n"
   ]
  },
  {
   "cell_type": "code",
   "execution_count": null,
   "metadata": {},
   "outputs": [],
   "source": []
  },
  {
   "cell_type": "markdown",
   "metadata": {},
   "source": [
    "# QUESTION 2\n",
    "\n",
    "*Set up*"
   ]
  },
  {
   "cell_type": "markdown",
   "metadata": {},
   "source": [
    "Imagine you are the manager of an Electronic store in Dubai mall. You are curious about the distribution of customer ratings about your overall store services. So you ask random customers who visit the store to complete a short survey, recording variables such as their age group, and overall experience rating.\n",
    "\n",
    "**To Begin**\n",
    "\n",
    "Run the code below. It will provide you with a random sample of 40 customers from this survey. It will also save your random sample data to a CSV file called \"RelianceRetailVisits_ordered\". Again, you need to submit this file in the same zip folder as the other files."
   ]
  },
  {
   "cell_type": "code",
   "execution_count": 2,
   "metadata": {},
   "outputs": [
    {
     "data": {
      "text/html": [
       "<div>\n",
       "<style scoped>\n",
       "    .dataframe tbody tr th:only-of-type {\n",
       "        vertical-align: middle;\n",
       "    }\n",
       "\n",
       "    .dataframe tbody tr th {\n",
       "        vertical-align: top;\n",
       "    }\n",
       "\n",
       "    .dataframe thead th {\n",
       "        text-align: right;\n",
       "    }\n",
       "</style>\n",
       "<table border=\"1\" class=\"dataframe\">\n",
       "  <thead>\n",
       "    <tr style=\"text-align: right;\">\n",
       "      <th></th>\n",
       "      <th>Customer Index</th>\n",
       "      <th>Age Group</th>\n",
       "      <th>OverallExperienceRatin</th>\n",
       "    </tr>\n",
       "  </thead>\n",
       "  <tbody>\n",
       "    <tr>\n",
       "      <th>165</th>\n",
       "      <td>166</td>\n",
       "      <td>26  To  35 years</td>\n",
       "      <td>2</td>\n",
       "    </tr>\n",
       "    <tr>\n",
       "      <th>114</th>\n",
       "      <td>115</td>\n",
       "      <td>26  To  35 years</td>\n",
       "      <td>4</td>\n",
       "    </tr>\n",
       "    <tr>\n",
       "      <th>117</th>\n",
       "      <td>118</td>\n",
       "      <td>26  To  35 years</td>\n",
       "      <td>5</td>\n",
       "    </tr>\n",
       "    <tr>\n",
       "      <th>118</th>\n",
       "      <td>119</td>\n",
       "      <td>26  To  35 years</td>\n",
       "      <td>5</td>\n",
       "    </tr>\n",
       "    <tr>\n",
       "      <th>172</th>\n",
       "      <td>173</td>\n",
       "      <td>26  To  35 years</td>\n",
       "      <td>5</td>\n",
       "    </tr>\n",
       "  </tbody>\n",
       "</table>\n",
       "</div>"
      ],
      "text/plain": [
       "     Customer Index         Age Group  OverallExperienceRatin\n",
       "165             166  26  To  35 years                       2\n",
       "114             115  26  To  35 years                       4\n",
       "117             118  26  To  35 years                       5\n",
       "118             119  26  To  35 years                       5\n",
       "172             173  26  To  35 years                       5"
      ]
     },
     "execution_count": 2,
     "metadata": {},
     "output_type": "execute_result"
    }
   ],
   "source": [
    "# Load the following libraries so that they can be applied in the subsequent code blocks\n",
    "\n",
    "try:\n",
    "    df = pd.read_csv('RelianceRetailVisits.csv')\n",
    "except FileNotFoundError:\n",
    "    original_data = pd.read_csv(\"https://raw.githubusercontent.com/DanaSaleh1003/IDS-103-Spring-2024/main/RelianceRetailVisits-1.csv\")\n",
    "\n",
    "    # Randomly sample 40 rows from the original dataset\n",
    "    df = original_data.sample(n=40, random_state=42)\n",
    "\n",
    "# Fill missing values for '46 To 60 years' age group with default values or remove NaN rows\n",
    "df.fillna({'Age Group': '46 To 60 years'}, inplace=True)\n",
    "\n",
    "# Sort the DataFrame based on the 'Age Group' column in the desired order\n",
    "desired_order = ['26  To  35 years', '16  To  25 years', '36  To  45 years', '46  To  60 years']  # Corrected unique values\n",
    "df['Age Group'] = pd.Categorical(df['Age Group'], categories=desired_order, ordered=True)\n",
    "df.sort_values(by='Age Group', inplace=True)\n",
    "\n",
    "# Save the sorted DataFrame to a new CSV file\n",
    "df.to_csv('RelianceRetailVisits_ordered.csv', index=False)\n",
    "\n",
    "df.head()\n"
   ]
  },
  {
   "cell_type": "markdown",
   "metadata": {},
   "source": [
    "**Question 2a.** Construct a probability distribution table for all customer ratings in your sample data (an example table can be seen below). Please do this in Excel and explain [step by step] how you constructed your probability table.\n"
   ]
  },
  {
   "cell_type": "markdown",
   "metadata": {},
   "source": [
    "1. **Opened Excel and Imported Data**:\n",
    "   - I opened Microsoft Excel and imported my sample data into a new worksheet. The data was organized with one column for customer ratings.\n",
    "\n",
    "2. **Identified Unique Ratings**:\n",
    "   - Next to the customer ratings, I used the formula `=UNIQUE()` to extract unique values from the ratings column. This created a list of all unique ratings in my dataset.\n",
    "\n",
    "3. **Calculated Frequency of Each Rating**:\n",
    "   - In the column next to the unique ratings, I used the formula `=COUNTIF()` to count the frequency of each rating in my dataset. This allowed me to see how many times each rating appeared.\n",
    "\n",
    "4. **Calculated Total Number of Ratings**:\n",
    "   - I used the formula `=SUM()` to calculate the total number of ratings in my dataset. This was the sum of all frequencies calculated in the previous step.\n",
    "\n",
    "5. **Calculated Probability for Each Rating**:\n",
    "   - In the column next to the frequency counts, I divided each frequency count by the total number of ratings. This gave me the probability of each rating occurring in my dataset. I used the formula `=COUNT/Total` for each rating."
   ]
  },
  {
   "attachments": {
    "laugh.png": {
     "image/png": "[encoded data removed]"
    }
   },
   "cell_type": "markdown",
   "metadata": {},
   "source": [
    "![laugh.png](attachment:laugh.png)"
   ]
  },
  {
   "cell_type": "code",
   "execution_count": null,
   "metadata": {},
   "outputs": [],
   "source": []
  }
 ],
 "metadata": {
  "kernelspec": {
   "display_name": "Python 3",
   "language": "python",
   "name": "python3"
  },
  "language_info": {
   "codemirror_mode": {
    "name": "ipython",
    "version": 3
   },
   "file_extension": ".py",
   "mimetype": "text/x-python",
   "name": "python",
   "nbconvert_exporter": "python",
   "pygments_lexer": "ipython3",
   "version": "3.8.10"
  }
 },
 "nbformat": 4,
 "nbformat_minor": 2
}
