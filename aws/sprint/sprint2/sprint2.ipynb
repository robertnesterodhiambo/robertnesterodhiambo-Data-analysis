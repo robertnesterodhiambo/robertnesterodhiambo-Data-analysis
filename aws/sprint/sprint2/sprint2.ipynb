{
 "cells": [
  {
   "cell_type": "code",
   "execution_count": 6,
   "metadata": {},
   "outputs": [
    {
     "name": "stdout",
     "output_type": "stream",
     "text": [
      "Tables created successfully!\n"
     ]
    }
   ],
   "source": [
    "import mysql.connector\n",
    "\n",
    "# Establish a connection to the MySQL database\n",
    "connection = mysql.connector.connect(\n",
    "    host=\"falode3368-1.ch6kyu62mcnp.us-east-1.rds.amazonaws.com\",\n",
    "    user=\"Falode\",\n",
    "    password=\"1QAZ2wsx\",\n",
    "    database=\"cis3368DB\"\n",
    ")\n",
    "\n",
    "# Create a cursor object to execute SQL queries\n",
    "cursor = connection.cursor()\n",
    "\n",
    "# Define SQL statements to create tables\n",
    "create_facility_table = \"\"\"\n",
    "CREATE TABLE IF NOT EXISTS facility (\n",
    "    id INT AUTO_INCREMENT PRIMARY KEY,\n",
    "    name VARCHAR(255)\n",
    ")\n",
    "\"\"\"\n",
    "\n",
    "create_classroom_table = \"\"\"\n",
    "CREATE TABLE IF NOT EXISTS classroom (\n",
    "    id INT AUTO_INCREMENT PRIMARY KEY,\n",
    "    capacity INT,\n",
    "    name VARCHAR(255),\n",
    "    facility_id INT,\n",
    "    CONSTRAINT fk_facility_id FOREIGN KEY (facility_id) REFERENCES facility(id)\n",
    ")\n",
    "\"\"\"\n",
    "\n",
    "create_teacher_table = \"\"\"\n",
    "CREATE TABLE IF NOT EXISTS teacher (\n",
    "    id INT AUTO_INCREMENT PRIMARY KEY,\n",
    "    firstname VARCHAR(255),\n",
    "    lastname VARCHAR(255),\n",
    "    classroom_id INT,\n",
    "    CONSTRAINT fk_classroom_id FOREIGN KEY (classroom_id) REFERENCES classroom(id)\n",
    ")\n",
    "\"\"\"\n",
    "\n",
    "create_child_table = \"\"\"\n",
    "CREATE TABLE IF NOT EXISTS child (\n",
    "    id INT AUTO_INCREMENT PRIMARY KEY,\n",
    "    firstname VARCHAR(255),\n",
    "    lastname VARCHAR(255),\n",
    "    age INT,\n",
    "    classroom_id INT,\n",
    "    CONSTRAINT fk_classroom_id_child FOREIGN KEY (classroom_id) REFERENCES classroom(id)\n",
    ")\n",
    "\"\"\"\n",
    "\n",
    "# Execute the SQL statements\n",
    "cursor.execute(create_facility_table)\n",
    "cursor.execute(create_classroom_table)\n",
    "cursor.execute(create_teacher_table)\n",
    "cursor.execute(create_child_table)\n",
    "\n",
    "# Commit the changes and close the connection\n",
    "connection.commit()\n",
    "connection.close()\n",
    "\n",
    "print(\"Tables created successfully!\")\n"
   ]
  }
 ],
 "metadata": {
  "kernelspec": {
   "display_name": "Python 3",
   "language": "python",
   "name": "python3"
  },
  "language_info": {
   "codemirror_mode": {
    "name": "ipython",
    "version": 3
   },
   "file_extension": ".py",
   "mimetype": "text/x-python",
   "name": "python",
   "nbconvert_exporter": "python",
   "pygments_lexer": "ipython3",
   "version": "3.8.10"
  }
 },
 "nbformat": 4,
 "nbformat_minor": 2
}
