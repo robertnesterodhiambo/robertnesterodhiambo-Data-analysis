{
 "cells": [
  {
   "cell_type": "code",
   "execution_count": 1,
   "metadata": {},
   "outputs": [
    {
     "name": "stdout",
     "output_type": "stream",
     "text": [
      " * Serving Flask app '__main__'\n",
      " * Debug mode: on\n"
     ]
    },
    {
     "name": "stderr",
     "output_type": "stream",
     "text": [
      "WARNING: This is a development server. Do not use it in a production deployment. Use a production WSGI server instead.\n",
      " * Running on http://127.0.0.1:5000\n",
      "Press CTRL+C to quit\n",
      " * Restarting with watchdog (windowsapi)\n"
     ]
    },
    {
     "ename": "SystemExit",
     "evalue": "1",
     "output_type": "error",
     "traceback": [
      "An exception has occurred, use %tb to see the full traceback.\n",
      "\u001b[1;31mSystemExit\u001b[0m\u001b[1;31m:\u001b[0m 1\n"
     ]
    },
    {
     "name": "stderr",
     "output_type": "stream",
     "text": [
      "c:\\Users\\ROBERT\\anaconda3\\Lib\\site-packages\\IPython\\core\\interactiveshell.py:3534: UserWarning: To exit: use 'exit', 'quit', or Ctrl-D.\n",
      "  warn(\"To exit: use 'exit', 'quit', or Ctrl-D.\", stacklevel=1)\n"
     ]
    }
   ],
   "source": [
    "from flask import Flask, request, jsonify\n",
    "import mysql.connector\n",
    "\n",
    "# AWS RDS MySQL connection configuration\n",
    "config = {\n",
    "    'host': 'falode3368-1.ch6kyu62mcnp.us-east-1.rds.amazonaws.com',\n",
    "    'user': 'Falode',\n",
    "    'password': '1QAZ2wsx',\n",
    "    'database': 'cis3368DB'\n",
    "}\n",
    "\n",
    "app = Flask(__name__)\n",
    "connection = mysql.connector.connect(**config)\n",
    "\n",
    "@app.route('/api/coupon', methods=['POST'])\n",
    "def add_coupon():\n",
    "    try:\n",
    "        # Parse JSON payload from request body\n",
    "        data = request.json\n",
    "        code = data.get('code')\n",
    "        discount = data.get('discount')\n",
    "\n",
    "        # Check if a coupon with the same discount percentage already exists\n",
    "        cursor = connection.cursor()\n",
    "        cursor.execute(\"SELECT * FROM coupon WHERE discount = %s\", (discount,))\n",
    "        existing_coupon = cursor.fetchone()\n",
    "\n",
    "        if existing_coupon:\n",
    "            return jsonify({'message': 'Coupon with the same discount percentage already exists.'}), 409\n",
    "\n",
    "        # Insert the new coupon record\n",
    "        cursor.execute(\"INSERT INTO coupon (code, discount) VALUES (%s, %s)\", (code, discount))\n",
    "        connection.commit()\n",
    "\n",
    "        return jsonify({'message': 'Coupon added successfully.'}), 201\n",
    "    except Exception as e:\n",
    "        return jsonify({'error': str(e)}), 500\n",
    "    finally:\n",
    "        cursor.close()\n",
    "\n",
    "@app.route('/api/coupon', methods=['GET'])\n",
    "def get_coupons():\n",
    "    try:\n",
    "        cursor = connection.cursor()\n",
    "        cursor.execute(\"SELECT * FROM coupon\")\n",
    "        records = cursor.fetchall()\n",
    "        coupons = [{'id': record[0], 'code': record[1], 'discount': float(record[2])} for record in records]\n",
    "        return jsonify(coupons)\n",
    "    except Exception as e:\n",
    "        return jsonify({'error': str(e)}), 500\n",
    "    finally:\n",
    "        cursor.close()\n",
    "\n",
    "if __name__ == '__main__':\n",
    "    app.run(debug=True)\n"
   ]
  },
  {
   "cell_type": "code",
   "execution_count": null,
   "metadata": {},
   "outputs": [],
   "source": []
  }
 ],
 "metadata": {
  "kernelspec": {
   "display_name": "base",
   "language": "python",
   "name": "python3"
  },
  "language_info": {
   "codemirror_mode": {
    "name": "ipython",
    "version": 3
   },
   "file_extension": ".py",
   "mimetype": "text/x-python",
   "name": "python",
   "nbconvert_exporter": "python",
   "pygments_lexer": "ipython3",
   "version": "3.11.5"
  }
 },
 "nbformat": 4,
 "nbformat_minor": 2
}
