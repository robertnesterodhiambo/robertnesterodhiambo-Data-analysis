{
 "cells": [
  {
   "cell_type": "code",
   "execution_count": 2,
   "metadata": {},
   "outputs": [
    {
     "name": "stdout",
     "output_type": "stream",
     "text": [
      "The 'coupon' table already exists. No records inserted.\n",
      "\n",
      "All records from the 'coupon' table:\n",
      "(1, 'CODE1', Decimal('10.00'))\n",
      "(2, 'CODE2', Decimal('15.50'))\n",
      "(3, 'CODE3', Decimal('20.00'))\n",
      "(4, 'CODE4', Decimal('25.75'))\n",
      "(5, 'CODE5', Decimal('30.00'))\n"
     ]
    }
   ],
   "source": [
    "import mysql.connector\n",
    "\n",
    "# AWS RDS MySQL connection configuration\n",
    "config = {\n",
    "    'host': 'falode3368-1.ch6kyu62mcnp.us-east-1.rds.amazonaws.com',\n",
    "    'user': 'Falode',\n",
    "    'password': '1QAZ2wsx',\n",
    "    'database': 'cis3368DB'\n",
    "}\n",
    "\n",
    "# Connect to the database\n",
    "connection = mysql.connector.connect(**config)\n",
    "cursor = connection.cursor()\n",
    "\n",
    "# Check if the 'coupon' table exists\n",
    "cursor.execute(\"SHOW TABLES LIKE 'coupon'\")\n",
    "table_exists = cursor.fetchone()\n",
    "\n",
    "if table_exists:\n",
    "    print(\"The 'coupon' table already exists. No records inserted.\")\n",
    "else:\n",
    "    # Create the 'coupon' table\n",
    "    cursor.execute(\"\"\"\n",
    "        CREATE TABLE coupon (\n",
    "            id INT AUTO_INCREMENT PRIMARY KEY,\n",
    "            code VARCHAR(255) UNIQUE NOT NULL,\n",
    "            discount DECIMAL(5,2) NOT NULL\n",
    "        )\n",
    "    \"\"\")\n",
    "    print(\"The 'coupon' table has been created.\")\n",
    "\n",
    "    # Insert 5 sample records\n",
    "    coupon_data = [\n",
    "        ('CODE1', 10.00),\n",
    "        ('CODE2', 15.50),\n",
    "        ('CODE3', 20.00),\n",
    "        ('CODE4', 25.75),\n",
    "        ('CODE5', 30.00)\n",
    "    ]\n",
    "    cursor.executemany(\"INSERT INTO coupon (code, discount) VALUES (%s, %s)\", coupon_data)\n",
    "    print(\"5 sample records have been inserted into the 'coupon' table.\")\n",
    "\n",
    "# Select all records from the 'coupon' table\n",
    "cursor.execute(\"SELECT * FROM coupon\")\n",
    "records = cursor.fetchall()\n",
    "print(\"\\nAll records from the 'coupon' table:\")\n",
    "for record in records:\n",
    "    print(record)\n",
    "\n",
    "# Commit changes and close connection\n",
    "connection.commit()\n",
    "connection.close()\n"
   ]
  }
 ],
 "metadata": {
  "kernelspec": {
   "display_name": "base",
   "language": "python",
   "name": "python3"
  },
  "language_info": {
   "codemirror_mode": {
    "name": "ipython",
    "version": 3
   },
   "file_extension": ".py",
   "mimetype": "text/x-python",
   "name": "python",
   "nbconvert_exporter": "python",
   "pygments_lexer": "ipython3",
   "version": "3.11.5"
  }
 },
 "nbformat": 4,
 "nbformat_minor": 2
}
