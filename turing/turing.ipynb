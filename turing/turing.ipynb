{
 "cells": [
  {
   "cell_type": "code",
   "execution_count": 1,
   "metadata": {},
   "outputs": [
    {
     "name": "stdout",
     "output_type": "stream",
     "text": [
      "File Name: cardio_alco.csv\n",
      "  id;alco\n",
      "0    44;0\n",
      "1    45;0\n",
      "2    46;0\n",
      "3    47;0\n",
      "4    49;0\n",
      "--------------------------------------------------\n",
      "File Name: cardio_base.csv\n",
      "   id    age  gender  height  weight  ap_hi  ap_lo  cholesterol  smoke\n",
      "0   0  18393       2     168    62.0    110     80            1      0\n",
      "1   1  20228       1     156    85.0    140     90            3      0\n",
      "2   2  18857       1     165    64.0    130     70            3      0\n",
      "3   3  17623       2     169    82.0    150    100            1      0\n",
      "4   4  17474       1     156    56.0    100     60            1      0\n",
      "--------------------------------------------------\n",
      "File Name: covid_data.csv\n",
      "      location        date  new_cases  new_deaths  population  \\\n",
      "0  Afghanistan  2019-12-31          0           0  38928341.0   \n",
      "1  Afghanistan  2020-01-01          0           0  38928341.0   \n",
      "2  Afghanistan  2020-01-02          0           0  38928341.0   \n",
      "3  Afghanistan  2020-01-03          0           0  38928341.0   \n",
      "4  Afghanistan  2020-01-04          0           0  38928341.0   \n",
      "\n",
      "   aged_65_older_percent  gdp_per_capita  hospital_beds_per_thousand  \n",
      "0                  2.581        1803.987                         0.5  \n",
      "1                  2.581        1803.987                         0.5  \n",
      "2                  2.581        1803.987                         0.5  \n",
      "3                  2.581        1803.987                         0.5  \n",
      "4                  2.581        1803.987                         0.5  \n",
      "--------------------------------------------------\n"
     ]
    }
   ],
   "source": [
    "import os\n",
    "import pandas as pd\n",
    "\n",
    "# Path to the directory containing CSV files\n",
    "directory = r'C:\\Users\\neste\\Downloads\\Compressed\\data'\n",
    "\n",
    "# List all CSV files in the directory\n",
    "csv_files = [file for file in os.listdir(directory) if file.endswith('.csv')]\n",
    "\n",
    "# Loop through each CSV file\n",
    "for file in csv_files:\n",
    "    # Construct the full path to the CSV file\n",
    "    file_path = os.path.join(directory, file)\n",
    "    \n",
    "    # Read the CSV file into a DataFrame\n",
    "    df = pd.read_csv(file_path)\n",
    "    \n",
    "    # Print the name of the file\n",
    "    print(\"File Name:\", file)\n",
    "    \n",
    "    # Do whatever processing you need with the DataFrame\n",
    "    # For example, you can print the first few rows:\n",
    "    print(df.head())\n",
    "    \n",
    "    # Or perform any other operations\n",
    "    \n",
    "    # Optionally, you can save the DataFrame with a new name or perform other actions\n",
    "    \n",
    "    # Add a separator for better readability between files\n",
    "    print(\"-\" * 50)\n"
   ]
  },
  {
   "cell_type": "code",
   "execution_count": null,
   "metadata": {},
   "outputs": [],
   "source": []
  }
 ],
 "metadata": {
  "kernelspec": {
   "display_name": "Python 3",
   "language": "python",
   "name": "python3"
  },
  "language_info": {
   "codemirror_mode": {
    "name": "ipython",
    "version": 3
   },
   "file_extension": ".py",
   "mimetype": "text/x-python",
   "name": "python",
   "nbconvert_exporter": "python",
   "pygments_lexer": "ipython3",
   "version": "3.12.1"
  }
 },
 "nbformat": 4,
 "nbformat_minor": 2
}
