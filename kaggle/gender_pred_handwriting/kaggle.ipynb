{
 "cells": [
  {
   "cell_type": "code",
   "execution_count": null,
   "metadata": {},
   "outputs": [],
   "source": [
    "import pandas as pd\n",
    "\n",
    "# Define file paths\n",
    "test_file_path = '~/mol/data/handwriting/test.csv'\n",
    "train_file_path = '~/mol/data/handwriting/train.csv'\n",
    "\n",
    "# Load the CSV files into pandas DataFrames\n",
    "test_df = pd.read_csv(test_file_path)\n",
    "train_df = pd.read_csv(train_file_path)\n",
    "\n",
    "# Display the first few rows of each DataFrame\n",
    "\n",
    "print(\"\\nTrain DataFrame:\")\n",
    "train_df.head()"
   ]
  },
  {
   "cell_type": "code",
   "execution_count": null,
   "metadata": {},
   "outputs": [],
   "source": [
    "train_df.columns"
   ]
  },
  {
   "cell_type": "code",
   "execution_count": null,
   "metadata": {},
   "outputs": [],
   "source": [
    "print(\"Test DataFrame:\")\n",
    "test_df.head()"
   ]
  },
  {
   "cell_type": "markdown",
   "metadata": {},
   "source": [
    "# settin up spark and hardoop\n"
   ]
  },
  {
   "cell_type": "code",
   "execution_count": null,
   "metadata": {},
   "outputs": [],
   "source": [
    "pip install pyspark"
   ]
  },
  {
   "cell_type": "markdown",
   "metadata": {},
   "source": [
    "# importing data iinto sark "
   ]
  },
  {
   "cell_type": "code",
   "execution_count": null,
   "metadata": {},
   "outputs": [],
   "source": [
    "from pyspark.sql import SparkSession\n",
    "import os\n",
    "\n",
    "# Initialize Spark session\n",
    "spark = SparkSession.builder \\\n",
    "        .appName(\"Data Loading and Exploration\") \\\n",
    "                .config(\"spark.executor.memory\", \"4g\") \\\n",
    "                                    .getOrCreate()\n",
    "\n",
    "\n",
    "# Define file paths\n",
    "test_file_path = '/home/dragon/mol/data/handwriting/test.csv'\n",
    "train_file_path = '/home/dragon/mol/data/handwriting/train.csv'\n",
    "\n",
    "# Load the CSV files into Spark DataFrames\n",
    "test_df = spark.read.csv(test_file_path, header=True, inferSchema=True)\n",
    "train_df = spark.read.csv(train_file_path, header=True, inferSchema=True)\n",
    "\n",
    "# Show the first few rows of each DataFrame\n",
    "print(\"\\nTest DataFrame:\")\n",
    "test_df.show()\n",
    "\n",
    "print(\"\\nTrain DataFrame:\")\n",
    "train_df.show()\n",
    "\n",
    "\n"
   ]
  },
  {
   "cell_type": "markdown",
   "metadata": {},
   "source": [
    "# Inspect the Dataset:\n",
    " Examine the structure of the data files and the schema of\n",
    "the data.\n",
    "Summary Statistics: Calculate summary statistics using distributed data\n",
    "processing operations in Spark or MapReduce."
   ]
  },
  {
   "cell_type": "code",
   "execution_count": null,
   "metadata": {},
   "outputs": [],
   "source": [
    "from pyspark.sql import SparkSession\n",
    "\n",
    "train_df = train_df.limit(30)\n",
    "test_df = train_df.limit(30)\n",
    "# Show the first few rows and the schema of each DataFrame\n",
    "print(\"\\nTest DataFrame - Schema:\")\n",
    "test_df.printSchema()\n",
    "\n",
    "\n",
    "print(\"\\nTrain DataFrame - Schema:\")\n",
    "train_df.printSchema()\n",
    "\n",
    "# Summary statistics\n",
    "print(\"\\nSummary Statistics for Test DataFrame:\")\n",
    "#test_df.describe().show()\n",
    "\n",
    "print(\"\\nSummary Statistics for Train DataFrame:\")\n",
    "#train_df.describe().show()\n"
   ]
  },
  {
   "cell_type": "markdown",
   "metadata": {},
   "source": [
    "# missisng values"
   ]
  },
  {
   "cell_type": "code",
   "execution_count": null,
   "metadata": {},
   "outputs": [],
   "source": [
    "from pyspark.sql import SparkSession\n",
    "from pyspark.sql.functions import col\n",
    "from pyspark.ml.feature import StandardScaler, VectorAssembler\n",
    "\n",
    "# Initialize Spark session\n",
    "spark = SparkSession.builder \\\n",
    "    .appName(\"Data Processing Pipeline\") \\\n",
    "    .getOrCreate()\n",
    "\n",
    "# File paths\n",
    "train_file_path = '/home/dragon/mol/data/handwriting/train.csv'\n",
    "output_file_path = '/home/dragon/mol/data/handwriting/processed_train.csv'\n",
    "\n",
    "# Load the train dataset\n",
    "train_df = spark.read.csv(train_file_path, header=True, inferSchema=True)\n",
    "\n",
    "# Handle missing values (drop rows with missing values for simplicity)\n",
    "train_df = train_df.dropna()\n",
    "\n",
    "# Feature Engineering: Example of generating a new feature\n",
    "#train_df = train_df.withColumn(\"new_feature\", col(\"existing_feature\") * 2)\n",
    "\n",
    "# Normalize numerical columns\n",
    "numeric_cols = [col_name for col_name, data_type in train_df.dtypes if data_type == 'double']\n",
    "\n",
    "assembler = VectorAssembler(inputCols=numeric_cols, outputCol=\"features\")\n",
    "assembled_train_df = assembler.transform(train_df)\n",
    "\n",
    "scaler = StandardScaler(inputCol=\"features\", outputCol=\"scaled_features\", withStd=True, withMean=True)\n",
    "scaler_model = scaler.fit(assembled_train_df)\n",
    "scaled_train_df = scaler_model.transform(assembled_train_df)\n",
    "\n",
    "# Save processed data to a new CSV file\n",
    "#scaled_train_df.select([\"scaled_features\", \"new_feature\"] + numeric_cols).write.csv(output_file_path, header=True)\n",
    "\n",
    "# Show some rows of the processed DataFrame\n",
    "scaled_train_df.show(5)\n",
    "\n",
    "# Stop the Spark session\n",
    "spark.stop()\n"
   ]
  },
  {
   "cell_type": "markdown",
   "metadata": {},
   "source": [
    "# model selcion"
   ]
  },
  {
   "cell_type": "code",
   "execution_count": 8,
   "metadata": {},
   "outputs": [],
   "source": [
    "from pyspark.sql import SparkSession\n",
    "from pyspark.ml.feature import VectorAssembler, StringIndexer, OneHotEncoder\n",
    "from pyspark.ml.regression import RandomForestRegressor\n",
    "from pyspark.ml.evaluation import RegressionEvaluator\n",
    "\n",
    "\n",
    "# Create Spark session\n",
    "spark = SparkSession.builder \\\n",
    "    .appName(\"CSV Import Example\") \\\n",
    "    .getOrCreate()\n",
    "\n",
    "# Define file paths\n",
    "test_file_path = '/home/dragon/mol/data/handwriting/test.csv'\n",
    "train_file_path = '/home/dragon/mol/data/handwriting/train.csv'\n",
    "\n",
    "# Read CSV files into Spark DataFrames\n",
    "test_df = spark.read.csv(test_file_path, header=True, inferSchema=True)\n",
    "train_df = spark.read.csv(train_file_path, header=True, inferSchema=True)\n",
    "\n",
    "train_df = train_df.limit(30)\n",
    "test_df = train_df.limit(30)\n",
    "df = train_df\n",
    "\n",
    "\n",
    "# Select columns for X (features) and Y (target)\n",
    "features_columns = df.columns.copy()\n",
    "features_columns.remove('writer')  # Remove the target column 'writer'\n",
    "\n",
    "# Handling non-numeric columns\n",
    "categorical_cols = [col for col in features_columns if df.select(col).distinct().count() <= 20]\n",
    "numeric_cols = list(set(features_columns) - set(categorical_cols))\n",
    "\n",
    "indexers = [\n",
    "    StringIndexer(inputCol=col, outputCol=f\"{col}_index\", handleInvalid=\"skip\")\n",
    "    for col in categorical_cols\n",
    "]\n",
    "\n",
    "encoder = OneHotEncoder(inputCols=[indexer.getOutputCol() for indexer in indexers],\n",
    "                        outputCols=[f\"{col}_encoded\" for col in categorical_cols])\n",
    "\n",
    "assembler = VectorAssembler(inputCols=numeric_cols + encoder.getOutputCols(), outputCol='features')\n",
    "\n",
    "# Pipeline stages\n",
    "pipeline_stages = indexers + [encoder, assembler]\n",
    "\n",
    "# Apply all transformations in pipeline\n",
    "pipeline_model = Pipeline(stages=pipeline_stages)\n",
    "transformed_df = pipeline_model.fit(df).transform(df)\n",
    "\n",
    "# Split data into training and testing sets\n",
    "(training_data, test_data) = transformed_df.randomSplit([0.7, 0.3], seed=123)\n",
    "\n",
    "# Define Random Forest Regressor\n",
    "rf = RandomForestRegressor(featuresCol='features', labelCol='writer')\n",
    "\n",
    "# Train the model\n",
    "model = rf.fit(training_data)\n",
    "\n",
    "# Make predictions\n",
    "predictions = model.transform(test_data)\n",
    "\n",
    "# Evaluate the model\n",
    "evaluator = RegressionEvaluator(labelCol='writer', predictionCol='prediction', metricName='rmse')\n",
    "rmse = evaluator.evaluate(predictions)\n",
    "print(f\"Root Mean Squared Error (RMSE) on test data: {rmse}\")\n",
    "\n",
    "\n",
    "\n",
    "# Stop the Spark session\n",
    "spark.stop()\n"
   ]
  },
  {
   "cell_type": "code",
   "execution_count": null,
   "metadata": {},
   "outputs": [],
   "source": []
  }
 ],
 "metadata": {
  "kernelspec": {
   "display_name": "Python 3",
   "language": "python",
   "name": "python3"
  },
  "language_info": {
   "codemirror_mode": {
    "name": "ipython",
    "version": 3
   },
   "file_extension": ".py",
   "mimetype": "text/x-python",
   "name": "python",
   "nbconvert_exporter": "python",
   "pygments_lexer": "ipython3",
   "version": "3.11.8"
  }
 },
 "nbformat": 4,
 "nbformat_minor": 2
}
