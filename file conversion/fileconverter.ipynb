{
 "cells": [
  {
   "cell_type": "code",
   "execution_count": 33,
   "metadata": {},
   "outputs": [
    {
     "name": "stdout",
     "output_type": "stream",
     "text": [
      "Successfully converted and modified C:\\Users\\neste\\3D Objects\\Gitrepos\\robertnesterodhiambo-Data-analysis\\file conversion\\cale_20240116 (Calendar Best).txt to C:\\Users\\neste\\3D Objects\\Gitrepos\\robertnesterodhiambo-Data-analysis\\file conversion\\cale_20240116 (Calendar Best)_with_new_headers_and_split_rows.xlsx\n",
      "Successfully imported and deleted Excel file: C:\\Users\\neste\\3D Objects\\Gitrepos\\robertnesterodhiambo-Data-analysis\\file conversion\\cale_20240116 (Calendar Best)_with_new_headers_and_split_rows.xlsx\n"
     ]
    },
    {
     "name": "stderr",
     "output_type": "stream",
     "text": [
      "C:\\Users\\neste\\AppData\\Local\\Temp\\ipykernel_2864\\1814462642.py:78: FutureWarning: DataFrame.applymap has been deprecated. Use DataFrame.map instead.\n",
      "  transposed_merged_rows_df = transposed_merged_rows_df.applymap(str)\n",
      "C:\\Users\\neste\\AppData\\Local\\Temp\\ipykernel_2864\\1814462642.py:81: FutureWarning: DataFrame.applymap has been deprecated. Use DataFrame.map instead.\n",
      "  transposed_merged_rows_df = transposed_merged_rows_df.applymap(lambda x: x.replace(\"'\", \"\").replace(\",\", \"\").replace(\"]\", \"\").replace(\"[\", \"\"))\n"
     ]
    },
    {
     "name": "stdout",
     "output_type": "stream",
     "text": [
      "Successfully created final output Excel file: C:\\Users\\neste\\3D Objects\\Gitrepos\\robertnesterodhiambo-Data-analysis\\file conversion\\cale_20240116 (Calendar Best)_final_output.xlsx\n",
      "Successfully converted and modified C:\\Users\\neste\\3D Objects\\Gitrepos\\robertnesterodhiambo-Data-analysis\\file conversion\\calp_20240116 (Calendar Highest).txt to C:\\Users\\neste\\3D Objects\\Gitrepos\\robertnesterodhiambo-Data-analysis\\file conversion\\calp_20240116 (Calendar Highest)_with_new_headers_and_split_rows.xlsx\n",
      "Successfully imported and deleted Excel file: C:\\Users\\neste\\3D Objects\\Gitrepos\\robertnesterodhiambo-Data-analysis\\file conversion\\calp_20240116 (Calendar Highest)_with_new_headers_and_split_rows.xlsx\n"
     ]
    },
    {
     "name": "stderr",
     "output_type": "stream",
     "text": [
      "C:\\Users\\neste\\AppData\\Local\\Temp\\ipykernel_2864\\1814462642.py:78: FutureWarning: DataFrame.applymap has been deprecated. Use DataFrame.map instead.\n",
      "  transposed_merged_rows_df = transposed_merged_rows_df.applymap(str)\n",
      "C:\\Users\\neste\\AppData\\Local\\Temp\\ipykernel_2864\\1814462642.py:81: FutureWarning: DataFrame.applymap has been deprecated. Use DataFrame.map instead.\n",
      "  transposed_merged_rows_df = transposed_merged_rows_df.applymap(lambda x: x.replace(\"'\", \"\").replace(\",\", \"\").replace(\"]\", \"\").replace(\"[\", \"\"))\n"
     ]
    },
    {
     "name": "stdout",
     "output_type": "stream",
     "text": [
      "Successfully created final output Excel file: C:\\Users\\neste\\3D Objects\\Gitrepos\\robertnesterodhiambo-Data-analysis\\file conversion\\calp_20240116 (Calendar Highest)_final_output.xlsx\n",
      "Successfully converted and modified C:\\Users\\neste\\3D Objects\\Gitrepos\\robertnesterodhiambo-Data-analysis\\file conversion\\cw_aec_20240116 (Covered Annual Ex Cash).txt to C:\\Users\\neste\\3D Objects\\Gitrepos\\robertnesterodhiambo-Data-analysis\\file conversion\\cw_aec_20240116 (Covered Annual Ex Cash)_with_new_headers_and_split_rows.xlsx\n",
      "Successfully imported and deleted Excel file: C:\\Users\\neste\\3D Objects\\Gitrepos\\robertnesterodhiambo-Data-analysis\\file conversion\\cw_aec_20240116 (Covered Annual Ex Cash)_with_new_headers_and_split_rows.xlsx\n"
     ]
    },
    {
     "name": "stderr",
     "output_type": "stream",
     "text": [
      "C:\\Users\\neste\\AppData\\Local\\Temp\\ipykernel_2864\\1814462642.py:78: FutureWarning: DataFrame.applymap has been deprecated. Use DataFrame.map instead.\n",
      "  transposed_merged_rows_df = transposed_merged_rows_df.applymap(str)\n",
      "C:\\Users\\neste\\AppData\\Local\\Temp\\ipykernel_2864\\1814462642.py:81: FutureWarning: DataFrame.applymap has been deprecated. Use DataFrame.map instead.\n",
      "  transposed_merged_rows_df = transposed_merged_rows_df.applymap(lambda x: x.replace(\"'\", \"\").replace(\",\", \"\").replace(\"]\", \"\").replace(\"[\", \"\"))\n"
     ]
    },
    {
     "name": "stdout",
     "output_type": "stream",
     "text": [
      "Successfully created final output Excel file: C:\\Users\\neste\\3D Objects\\Gitrepos\\robertnesterodhiambo-Data-analysis\\file conversion\\cw_aec_20240116 (Covered Annual Ex Cash)_final_output.xlsx\n",
      "Successfully converted and modified C:\\Users\\neste\\3D Objects\\Gitrepos\\robertnesterodhiambo-Data-analysis\\file conversion\\cw_aem_20240116 (Covered Annual Margin).txt to C:\\Users\\neste\\3D Objects\\Gitrepos\\robertnesterodhiambo-Data-analysis\\file conversion\\cw_aem_20240116 (Covered Annual Margin)_with_new_headers_and_split_rows.xlsx\n",
      "Successfully imported and deleted Excel file: C:\\Users\\neste\\3D Objects\\Gitrepos\\robertnesterodhiambo-Data-analysis\\file conversion\\cw_aem_20240116 (Covered Annual Margin)_with_new_headers_and_split_rows.xlsx\n"
     ]
    },
    {
     "name": "stderr",
     "output_type": "stream",
     "text": [
      "C:\\Users\\neste\\AppData\\Local\\Temp\\ipykernel_2864\\1814462642.py:78: FutureWarning: DataFrame.applymap has been deprecated. Use DataFrame.map instead.\n",
      "  transposed_merged_rows_df = transposed_merged_rows_df.applymap(str)\n",
      "C:\\Users\\neste\\AppData\\Local\\Temp\\ipykernel_2864\\1814462642.py:81: FutureWarning: DataFrame.applymap has been deprecated. Use DataFrame.map instead.\n",
      "  transposed_merged_rows_df = transposed_merged_rows_df.applymap(lambda x: x.replace(\"'\", \"\").replace(\",\", \"\").replace(\"]\", \"\").replace(\"[\", \"\"))\n"
     ]
    },
    {
     "name": "stdout",
     "output_type": "stream",
     "text": [
      "Successfully created final output Excel file: C:\\Users\\neste\\3D Objects\\Gitrepos\\robertnesterodhiambo-Data-analysis\\file conversion\\cw_aem_20240116 (Covered Annual Margin)_final_output.xlsx\n",
      "Successfully converted and modified C:\\Users\\neste\\3D Objects\\Gitrepos\\robertnesterodhiambo-Data-analysis\\file conversion\\cw_dbc_20240116 (Covered Protection Cash).txt to C:\\Users\\neste\\3D Objects\\Gitrepos\\robertnesterodhiambo-Data-analysis\\file conversion\\cw_dbc_20240116 (Covered Protection Cash)_with_new_headers_and_split_rows.xlsx\n",
      "Successfully imported and deleted Excel file: C:\\Users\\neste\\3D Objects\\Gitrepos\\robertnesterodhiambo-Data-analysis\\file conversion\\cw_dbc_20240116 (Covered Protection Cash)_with_new_headers_and_split_rows.xlsx\n"
     ]
    },
    {
     "name": "stderr",
     "output_type": "stream",
     "text": [
      "C:\\Users\\neste\\AppData\\Local\\Temp\\ipykernel_2864\\1814462642.py:78: FutureWarning: DataFrame.applymap has been deprecated. Use DataFrame.map instead.\n",
      "  transposed_merged_rows_df = transposed_merged_rows_df.applymap(str)\n",
      "C:\\Users\\neste\\AppData\\Local\\Temp\\ipykernel_2864\\1814462642.py:81: FutureWarning: DataFrame.applymap has been deprecated. Use DataFrame.map instead.\n",
      "  transposed_merged_rows_df = transposed_merged_rows_df.applymap(lambda x: x.replace(\"'\", \"\").replace(\",\", \"\").replace(\"]\", \"\").replace(\"[\", \"\"))\n"
     ]
    },
    {
     "name": "stdout",
     "output_type": "stream",
     "text": [
      "Successfully created final output Excel file: C:\\Users\\neste\\3D Objects\\Gitrepos\\robertnesterodhiambo-Data-analysis\\file conversion\\cw_dbc_20240116 (Covered Protection Cash)_final_output.xlsx\n",
      "Successfully converted and modified C:\\Users\\neste\\3D Objects\\Gitrepos\\robertnesterodhiambo-Data-analysis\\file conversion\\cw_dbm_20240116 (Covered Protection Margin).txt to C:\\Users\\neste\\3D Objects\\Gitrepos\\robertnesterodhiambo-Data-analysis\\file conversion\\cw_dbm_20240116 (Covered Protection Margin)_with_new_headers_and_split_rows.xlsx\n",
      "Successfully imported and deleted Excel file: C:\\Users\\neste\\3D Objects\\Gitrepos\\robertnesterodhiambo-Data-analysis\\file conversion\\cw_dbm_20240116 (Covered Protection Margin)_with_new_headers_and_split_rows.xlsx\n"
     ]
    },
    {
     "name": "stderr",
     "output_type": "stream",
     "text": [
      "C:\\Users\\neste\\AppData\\Local\\Temp\\ipykernel_2864\\1814462642.py:78: FutureWarning: DataFrame.applymap has been deprecated. Use DataFrame.map instead.\n",
      "  transposed_merged_rows_df = transposed_merged_rows_df.applymap(str)\n",
      "C:\\Users\\neste\\AppData\\Local\\Temp\\ipykernel_2864\\1814462642.py:81: FutureWarning: DataFrame.applymap has been deprecated. Use DataFrame.map instead.\n",
      "  transposed_merged_rows_df = transposed_merged_rows_df.applymap(lambda x: x.replace(\"'\", \"\").replace(\",\", \"\").replace(\"]\", \"\").replace(\"[\", \"\"))\n"
     ]
    },
    {
     "name": "stdout",
     "output_type": "stream",
     "text": [
      "Successfully created final output Excel file: C:\\Users\\neste\\3D Objects\\Gitrepos\\robertnesterodhiambo-Data-analysis\\file conversion\\cw_dbm_20240116 (Covered Protection Margin)_final_output.xlsx\n",
      "Successfully converted and modified C:\\Users\\neste\\3D Objects\\Gitrepos\\robertnesterodhiambo-Data-analysis\\file conversion\\np_aem_20240116 (NP Annual Expected).txt to C:\\Users\\neste\\3D Objects\\Gitrepos\\robertnesterodhiambo-Data-analysis\\file conversion\\np_aem_20240116 (NP Annual Expected)_with_new_headers_and_split_rows.xlsx\n",
      "Successfully imported and deleted Excel file: C:\\Users\\neste\\3D Objects\\Gitrepos\\robertnesterodhiambo-Data-analysis\\file conversion\\np_aem_20240116 (NP Annual Expected)_with_new_headers_and_split_rows.xlsx\n"
     ]
    },
    {
     "name": "stderr",
     "output_type": "stream",
     "text": [
      "C:\\Users\\neste\\AppData\\Local\\Temp\\ipykernel_2864\\1814462642.py:78: FutureWarning: DataFrame.applymap has been deprecated. Use DataFrame.map instead.\n",
      "  transposed_merged_rows_df = transposed_merged_rows_df.applymap(str)\n",
      "C:\\Users\\neste\\AppData\\Local\\Temp\\ipykernel_2864\\1814462642.py:81: FutureWarning: DataFrame.applymap has been deprecated. Use DataFrame.map instead.\n",
      "  transposed_merged_rows_df = transposed_merged_rows_df.applymap(lambda x: x.replace(\"'\", \"\").replace(\",\", \"\").replace(\"]\", \"\").replace(\"[\", \"\"))\n"
     ]
    },
    {
     "name": "stdout",
     "output_type": "stream",
     "text": [
      "Successfully created final output Excel file: C:\\Users\\neste\\3D Objects\\Gitrepos\\robertnesterodhiambo-Data-analysis\\file conversion\\np_aem_20240116 (NP Annual Expected)_final_output.xlsx\n",
      "Successfully converted and modified C:\\Users\\neste\\3D Objects\\Gitrepos\\robertnesterodhiambo-Data-analysis\\file conversion\\np_dbc_20240116 (NP Best Expected).txt to C:\\Users\\neste\\3D Objects\\Gitrepos\\robertnesterodhiambo-Data-analysis\\file conversion\\np_dbc_20240116 (NP Best Expected)_with_new_headers_and_split_rows.xlsx\n",
      "Successfully imported and deleted Excel file: C:\\Users\\neste\\3D Objects\\Gitrepos\\robertnesterodhiambo-Data-analysis\\file conversion\\np_dbc_20240116 (NP Best Expected)_with_new_headers_and_split_rows.xlsx\n"
     ]
    },
    {
     "name": "stderr",
     "output_type": "stream",
     "text": [
      "C:\\Users\\neste\\AppData\\Local\\Temp\\ipykernel_2864\\1814462642.py:78: FutureWarning: DataFrame.applymap has been deprecated. Use DataFrame.map instead.\n",
      "  transposed_merged_rows_df = transposed_merged_rows_df.applymap(str)\n",
      "C:\\Users\\neste\\AppData\\Local\\Temp\\ipykernel_2864\\1814462642.py:81: FutureWarning: DataFrame.applymap has been deprecated. Use DataFrame.map instead.\n",
      "  transposed_merged_rows_df = transposed_merged_rows_df.applymap(lambda x: x.replace(\"'\", \"\").replace(\",\", \"\").replace(\"]\", \"\").replace(\"[\", \"\"))\n"
     ]
    },
    {
     "name": "stdout",
     "output_type": "stream",
     "text": [
      "Successfully created final output Excel file: C:\\Users\\neste\\3D Objects\\Gitrepos\\robertnesterodhiambo-Data-analysis\\file conversion\\np_dbc_20240116 (NP Best Expected)_final_output.xlsx\n"
     ]
    }
   ],
   "source": [
    "import os\n",
    "import pandas as pd\n",
    "\n",
    "def convert_and_save_to_excel(folder_path, filename):\n",
    "    # Construct the full path to the text file\n",
    "    txt_file_path = os.path.join(folder_path, filename)\n",
    "\n",
    "    # Find the line number where the data starts\n",
    "    skip_rows = 0\n",
    "    header_line = ''\n",
    "    with open(txt_file_path, 'r') as file:\n",
    "        for i, line in enumerate(file):\n",
    "            if \"Accuracy and completeness are not guaranteed.\" in line:\n",
    "                skip_rows = i + 2  # Skip the next two lines (header and empty line)\n",
    "                header_line = next(file).strip()\n",
    "                break\n",
    "\n",
    "    # Split the existing header into new headers\n",
    "    new_headers = header_line.split()\n",
    "\n",
    "    # Read the .txt file into a pandas DataFrame, skipping the specified lines\n",
    "    df = pd.read_csv(txt_file_path, delimiter='\\t', skiprows=skip_rows, header=None)  # Adjust the delimiter if needed\n",
    "\n",
    "    # Fill missing headers with \"NA\"\n",
    "    while len(new_headers) < len(df.columns):\n",
    "        new_headers.append(\"NA\")\n",
    "\n",
    "    # Assign the new headers to the DataFrame\n",
    "    df.columns = new_headers\n",
    "\n",
    "    # Split all rows using the same logic as the header\n",
    "    for col in df.columns:\n",
    "        df[col] = df[col].apply(lambda x: x.split() if isinstance(x, str) else [\"NA\"])\n",
    "\n",
    "    # Construct the full path to the Excel file\n",
    "    excel_file_path = os.path.join(folder_path, f'{os.path.splitext(filename)[0]}_with_new_headers_and_split_rows.xlsx')\n",
    "\n",
    "    # Write the DataFrame to an Excel file\n",
    "    df.to_excel(excel_file_path, index=False)\n",
    "\n",
    "    print(f'Successfully converted and modified {txt_file_path} to {excel_file_path}')\n",
    "\n",
    "    # Import the Excel file into Python\n",
    "    imported_df = pd.read_excel(excel_file_path)\n",
    "\n",
    "    # Perform any additional operations with the imported DataFrame here\n",
    "\n",
    "    # Delete the Excel file\n",
    "    os.remove(excel_file_path)\n",
    "\n",
    "    print(f'Successfully imported and deleted Excel file: {excel_file_path}')\n",
    "\n",
    "    # Create a new DataFrame to store the extracted text values for each row\n",
    "    extracted_rows = {}\n",
    "\n",
    "    # Iterate through each row in the converted DataFrame\n",
    "    for index, row in df.iterrows():\n",
    "        # Extract text values from the current row and store them in a Series\n",
    "        row_values = pd.Series(row.explode().tolist())\n",
    "\n",
    "        # Save the Series to the extracted_rows dictionary\n",
    "        row_name = f'row{index}'\n",
    "        extracted_rows[row_name] = row_values\n",
    "\n",
    "    # Merge all extracted rows into a single DataFrame\n",
    "    merged_rows_df = pd.DataFrame(extracted_rows)\n",
    "\n",
    "    # Transpose the DataFrame\n",
    "    transposed_merged_rows_df = merged_rows_df.T\n",
    "\n",
    "    # Use the first row as headers in the transposed DataFrame\n",
    "    transposed_merged_rows_df.columns = transposed_merged_rows_df.iloc[0]\n",
    "\n",
    "    # Drop the first row (since it's now the header)\n",
    "    transposed_merged_rows_df = transposed_merged_rows_df[1:]\n",
    "\n",
    "    # Convert all values to strings before using .str accessor\n",
    "    transposed_merged_rows_df = transposed_merged_rows_df.applymap(str)\n",
    "\n",
    "    # Remove specified characters from all cells in the DataFrame\n",
    "    transposed_merged_rows_df = transposed_merged_rows_df.applymap(lambda x: x.replace(\"'\", \"\").replace(\",\", \"\").replace(\"]\", \"\").replace(\"[\", \"\"))\n",
    "\n",
    "    transposed_merged_rows_df.columns = transposed_merged_rows_df.columns.str.replace(r\"['\\[\\],]\", '', regex=True)\n",
    "\n",
    "    # Remove rows where the column 'Symb' contains the text 'Symb'\n",
    "    transposed_merged_rows_df = transposed_merged_rows_df[~transposed_merged_rows_df['Symb'].astype(str).str.contains('Symb', case=False, na=False)]\n",
    "\n",
    "    # Construct the full path to the second Excel file\n",
    "    excel_output_path = os.path.join(folder_path, f'{os.path.splitext(filename)[0]}_final_output.xlsx')\n",
    "\n",
    "    # Write the DataFrame to the second Excel file\n",
    "    transposed_merged_rows_df.to_excel(excel_output_path, index=False)\n",
    "\n",
    "    print(f'Successfully created final output Excel file: {excel_output_path}')\n",
    "\n",
    "# Specify the path to your folder\n",
    "folder_path = r'C:\\Users\\neste\\3D Objects\\Gitrepos\\robertnesterodhiambo-Data-analysis\\file conversion'\n",
    "\n",
    "# List of filenames\n",
    "filenames = [\n",
    "    'cale_20240116 (Calendar Best).txt',\n",
    "    'calp_20240116 (Calendar Highest).txt',\n",
    "    'cw_aec_20240116 (Covered Annual Ex Cash).txt',\n",
    "    'cw_aem_20240116 (Covered Annual Margin).txt',\n",
    "    'cw_dbc_20240116 (Covered Protection Cash).txt',\n",
    "    'cw_dbm_20240116 (Covered Protection Margin).txt',\n",
    "    'np_aem_20240116 (NP Annual Expected).txt',\n",
    "    'np_dbc_20240116 (NP Best Expected).txt',\n",
    "]\n",
    "\n",
    "# Iterate through each filename and convert the file\n",
    "for filename in filenames:\n",
    "    convert_and_save_to_excel(folder_path, filename)\n"
   ]
  },
  {
   "cell_type": "code",
   "execution_count": null,
   "metadata": {},
   "outputs": [],
   "source": []
  }
 ],
 "metadata": {
  "kernelspec": {
   "display_name": "Python 3",
   "language": "python",
   "name": "python3"
  },
  "language_info": {
   "codemirror_mode": {
    "name": "ipython",
    "version": 3
   },
   "file_extension": ".py",
   "mimetype": "text/x-python",
   "name": "python",
   "nbconvert_exporter": "python",
   "pygments_lexer": "ipython3",
   "version": "3.9.13"
  }
 },
 "nbformat": 4,
 "nbformat_minor": 2
}
