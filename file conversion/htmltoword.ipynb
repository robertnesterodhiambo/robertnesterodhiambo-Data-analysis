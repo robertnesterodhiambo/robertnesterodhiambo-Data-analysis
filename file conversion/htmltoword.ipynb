{
 "cells": [
  {
   "cell_type": "code",
   "execution_count": 5,
   "metadata": {},
   "outputs": [],
   "source": [
    "from bs4 import BeautifulSoup\n",
    "from docx import Document\n",
    "\n",
    "def convert_html_to_docx(html_file, output_docx):\n",
    "    # Load HTML content from file\n",
    "    with open(html_file, 'r', encoding='utf-8') as f:\n",
    "        html_content = f.read()\n",
    "\n",
    "    # Parse HTML content using BeautifulSoup\n",
    "    soup = BeautifulSoup(html_content, 'html.parser')\n",
    "\n",
    "    # Create a new Word document\n",
    "    doc = Document()\n",
    "\n",
    "    # Find all text within <div> tags in the HTML\n",
    "    text_divs = soup.find_all('div')\n",
    "\n",
    "    # Loop through each div and add its text to the Word document\n",
    "    for div in text_divs:\n",
    "        # Add text content of the div\n",
    "        doc.add_paragraph(div.get_text())\n",
    "\n",
    "    # Save the Word document\n",
    "    doc.save(output_docx)\n",
    "\n",
    "# Example usage:\n",
    "convert_html_to_docx('index.html', 'output.docx')\n"
   ]
  },
  {
   "cell_type": "code",
   "execution_count": null,
   "metadata": {},
   "outputs": [],
   "source": []
  }
 ],
 "metadata": {
  "kernelspec": {
   "display_name": "base",
   "language": "python",
   "name": "python3"
  },
  "language_info": {
   "codemirror_mode": {
    "name": "ipython",
    "version": 3
   },
   "file_extension": ".py",
   "mimetype": "text/x-python",
   "name": "python",
   "nbconvert_exporter": "python",
   "pygments_lexer": "ipython3",
   "version": "3.11.5"
  }
 },
 "nbformat": 4,
 "nbformat_minor": 2
}
