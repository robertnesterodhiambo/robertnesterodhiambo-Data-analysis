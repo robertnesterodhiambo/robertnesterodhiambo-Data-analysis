{
 "cells": [
  {
   "cell_type": "code",
   "execution_count": 2,
   "metadata": {},
   "outputs": [
    {
     "name": "stdout",
     "output_type": "stream",
     "text": [
      "Collecting python-docxNote: you may need to restart the kernel to use updated packages.\n",
      "\n",
      "  Downloading python_docx-1.1.0-py3-none-any.whl.metadata (2.0 kB)\n",
      "Requirement already satisfied: lxml>=3.1.0 in c:\\users\\robert\\anaconda3\\lib\\site-packages (from python-docx) (4.9.3)\n",
      "Requirement already satisfied: typing-extensions in c:\\users\\robert\\anaconda3\\lib\\site-packages (from python-docx) (4.9.0)\n",
      "Downloading python_docx-1.1.0-py3-none-any.whl (239 kB)\n",
      "   ---------------------------------------- 0.0/239.6 kB ? eta -:--:--\n",
      "   ---------------------------------------- 0.0/239.6 kB ? eta -:--:--\n",
      "   - -------------------------------------- 10.2/239.6 kB ? eta -:--:--\n",
      "   - -------------------------------------- 10.2/239.6 kB ? eta -:--:--\n",
      "   ----- --------------------------------- 30.7/239.6 kB 145.2 kB/s eta 0:00:02\n",
      "   ----- --------------------------------- 30.7/239.6 kB 145.2 kB/s eta 0:00:02\n",
      "   ---------- ---------------------------- 61.4/239.6 kB 204.8 kB/s eta 0:00:01\n",
      "   --------------- ----------------------- 92.2/239.6 kB 261.7 kB/s eta 0:00:01\n",
      "   ---------------------- --------------- 143.4/239.6 kB 387.0 kB/s eta 0:00:01\n",
      "   -------------------------------------  235.5/239.6 kB 554.9 kB/s eta 0:00:01\n",
      "   -------------------------------------  235.5/239.6 kB 554.9 kB/s eta 0:00:01\n",
      "   -------------------------------------- 239.6/239.6 kB 473.9 kB/s eta 0:00:00\n",
      "Installing collected packages: python-docx\n",
      "Successfully installed python-docx-1.1.0\n"
     ]
    }
   ],
   "source": [
    "pip install python-docx\n",
    "pip install beautifulsoup4\n"
   ]
  },
  {
   "cell_type": "code",
   "execution_count": 5,
   "metadata": {},
   "outputs": [],
   "source": [
    "import requests\n",
    "from docx import Document\n",
    "from bs4 import BeautifulSoup\n",
    "from urllib.parse import urlparse\n",
    "\n",
    "def html_to_docx(input_path, output_file):\n",
    "    if urlparse(input_path).scheme in ('http', 'https'):\n",
    "        # Fetch the HTML content from the URL\n",
    "        response = requests.get(input_path)\n",
    "        html_content = response.text\n",
    "    else:\n",
    "        # Read the HTML content from the file\n",
    "        with open(input_path, 'r', encoding='utf-8') as file:\n",
    "            html_content = file.read()\n",
    "\n",
    "    # Parse the HTML content\n",
    "    soup = BeautifulSoup(html_content, 'html.parser')\n",
    "\n",
    "    # Create a new Word document\n",
    "    doc = Document()\n",
    "\n",
    "    # Find all paragraphs in the HTML and add them to the Word document\n",
    "    for paragraph in soup.find_all('p'):\n",
    "        doc_paragraph = doc.add_paragraph()\n",
    "        for elem in paragraph.contents:\n",
    "            if elem.name == 'span':\n",
    "                run = doc_paragraph.add_run()\n",
    "                if 'style' in elem.attrs:\n",
    "                    style = elem['style']\n",
    "                    if 'color' in style:\n",
    "                        color = style.split('color:', 1)[1].split(';')[0]\n",
    "                        run.font.color.rgb = hex_to_rgb(color)\n",
    "                    if 'font-weight:bold' in style:\n",
    "                        run.bold = True\n",
    "                    if 'font-style:italic' in style:\n",
    "                        run.italic = True\n",
    "                    if 'text-decoration:underline' in style:\n",
    "                        run.underline = True\n",
    "                run.text = elem.get_text()\n",
    "            else:\n",
    "                doc_paragraph.add_run(elem.get_text())\n",
    "\n",
    "    # Save the Word document\n",
    "    doc.save(output_file)\n",
    "\n",
    "def hex_to_rgb(hex_color):\n",
    "    hex_color = hex_color.lstrip('#')\n",
    "    return tuple(int(hex_color[i:i+2], 16) for i in (0, 2, 4))\n",
    "\n",
    "# Example usage\n",
    "#html_to_docx('input.html', 'output.docx')  # For local file\n",
    "html_to_docx('https://example.com/page.html', 'output.docx')  # For web URL\n"
   ]
  },
  {
   "cell_type": "code",
   "execution_count": null,
   "metadata": {},
   "outputs": [],
   "source": []
  }
 ],
 "metadata": {
  "kernelspec": {
   "display_name": "base",
   "language": "python",
   "name": "python3"
  },
  "language_info": {
   "codemirror_mode": {
    "name": "ipython",
    "version": 3
   },
   "file_extension": ".py",
   "mimetype": "text/x-python",
   "name": "python",
   "nbconvert_exporter": "python",
   "pygments_lexer": "ipython3",
   "version": "3.11.5"
  }
 },
 "nbformat": 4,
 "nbformat_minor": 2
}
