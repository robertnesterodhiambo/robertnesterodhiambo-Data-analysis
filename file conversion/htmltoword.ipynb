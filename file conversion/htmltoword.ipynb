{
 "cells": [
  {
   "cell_type": "markdown",
   "metadata": {},
   "source": [
    "# 35        \n"
   ]
  },
  {
   "cell_type": "code",
   "execution_count": 6,
   "metadata": {},
   "outputs": [],
   "source": [
    "from bs4 import BeautifulSoup\n",
    "from docx import Document\n",
    "import os\n",
    "\n",
    "def extract_text_from_divs(soup):\n",
    "    text = \"\"\n",
    "    # Find all <div> tags containing text\n",
    "    divs = soup.find_all('div')\n",
    "    for div in divs:\n",
    "        # Append text from each <div> tag to the result\n",
    "        text += div.get_text() + \"\\n\"  # Add a newline after each <div> text\n",
    "    return text.strip()  # Strip any leading/trailing whitespace\n",
    "\n",
    "def download_css(css_url):\n",
    "    # Load local CSS file\n",
    "    with open(css_url, 'r', encoding='utf-8') as f:\n",
    "        return f.read()\n",
    "\n",
    "def apply_css_styles(css_code, doc):\n",
    "    # Apply CSS styles to the Word document (if needed)\n",
    "    pass  # You can implement this if you have specific requirements\n",
    "\n",
    "def convert_html_to_docx(html_file, output_docx):\n",
    "    # Load HTML content from file\n",
    "    with open(html_file, 'r', encoding='utf-8') as f:\n",
    "        html_content = f.read()\n",
    "\n",
    "    # Parse HTML content using BeautifulSoup\n",
    "    soup = BeautifulSoup(html_content, 'html.parser')\n",
    "\n",
    "    # Extract text from <div> tags\n",
    "    text = extract_text_from_divs(soup)\n",
    "\n",
    "    # Create a new Word document\n",
    "    doc = Document()\n",
    "\n",
    "    # Add extracted text to the Word document\n",
    "    doc.add_paragraph(text)\n",
    "\n",
    "    # Find and load local CSS file\n",
    "    css_file = os.path.join(os.path.dirname(html_file), 'css', 'style.css')\n",
    "    if os.path.exists(css_file):\n",
    "        css_code = download_css(css_file)\n",
    "        apply_css_styles(css_code, doc)\n",
    "\n",
    "    # Save the Word document\n",
    "    doc.save(output_docx)\n",
    "\n",
    "# Example usage:\n",
    "html_file = 'index.html'\n",
    "output_docx = 'output.docx'\n",
    "convert_html_to_docx(html_file, output_docx)\n"
   ]
  },
  {
   "cell_type": "markdown",
   "metadata": {},
   "source": [
    "# getting images\n"
   ]
  },
  {
   "cell_type": "code",
   "execution_count": null,
   "metadata": {},
   "outputs": [],
   "source": []
  }
 ],
 "metadata": {
  "kernelspec": {
   "display_name": "base",
   "language": "python",
   "name": "python3"
  },
  "language_info": {
   "codemirror_mode": {
    "name": "ipython",
    "version": 3
   },
   "file_extension": ".py",
   "mimetype": "text/x-python",
   "name": "python",
   "nbconvert_exporter": "python",
   "pygments_lexer": "ipython3",
   "version": "3.11.5"
  }
 },
 "nbformat": 4,
 "nbformat_minor": 2
}
