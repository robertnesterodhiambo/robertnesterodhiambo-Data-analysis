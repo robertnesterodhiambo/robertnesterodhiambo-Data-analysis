{
 "cells": [
  {
   "cell_type": "markdown",
   "id": "65cf9b58",
   "metadata": {},
   "source": [
    "# Packages set up "
   ]
  },
  {
   "cell_type": "code",
   "execution_count": 1,
   "id": "642205b0",
   "metadata": {},
   "outputs": [],
   "source": [
    "import pandas as pd\n"
   ]
  },
  {
   "cell_type": "markdown",
   "id": "8b821913",
   "metadata": {},
   "source": [
    "# Data Importation "
   ]
  },
  {
   "cell_type": "code",
   "execution_count": 2,
   "id": "aea045c0",
   "metadata": {},
   "outputs": [
    {
     "name": "stdout",
     "output_type": "stream",
     "text": [
      "Shape of the dataset: (500, 7)\n"
     ]
    }
   ],
   "source": [
    "# Load the data\n",
    "data = pd.read_csv(\"/home/dragon/GIT/robertnesterodhiambo-Data-analysis/school_of_statistics/Python/week1/sales_data_week1_500rows.csv\") \n",
    "print(\"Shape of the dataset:\", data.shape)\n",
    "\n"
   ]
  },
  {
   "cell_type": "markdown",
   "id": "bbd1b53e",
   "metadata": {},
   "source": [
    "# Display First 5"
   ]
  },
  {
   "cell_type": "code",
   "execution_count": 3,
   "id": "e6928db5",
   "metadata": {},
   "outputs": [
    {
     "name": "stdout",
     "output_type": "stream",
     "text": [
      "   CustomerID         Name   Age     Product  Purchase_Amount Purchase Date  \\\n",
      "0        1000  Steve Davis  51.0      Laptop              NaN    2024-04-20   \n",
      "1        1001  Jane Miller  36.0      Tablet          1805.62    2024-12-22   \n",
      "2        1002    Bob Smith  46.0      Tablet           168.44    2024-04-20   \n",
      "3        1003   Emma Brown  51.0  Smartphone              NaN    2024-01-28   \n",
      "4        1004  Sara Miller  50.0      Tablet           267.39    2024-03-15   \n",
      "\n",
      "  Region  \n",
      "0  South  \n",
      "1  South  \n",
      "2  South  \n",
      "3   West  \n",
      "4  South  \n"
     ]
    }
   ],
   "source": [
    "\n",
    "# Display first 5 rows\n",
    "print(data.head())"
   ]
  },
  {
   "cell_type": "markdown",
   "id": "e64d5a6e",
   "metadata": {},
   "source": [
    "# Check Mising Values "
   ]
  },
  {
   "cell_type": "code",
   "execution_count": 4,
   "id": "e5ee819f",
   "metadata": {},
   "outputs": [
    {
     "name": "stdout",
     "output_type": "stream",
     "text": [
      "\n",
      "Missing values per column:\n",
      "CustomerID           0\n",
      "Name                 4\n",
      "Age                 21\n",
      "Product             87\n",
      "Purchase_Amount     26\n",
      "Purchase Date        0\n",
      "Region             102\n",
      "dtype: int64\n"
     ]
    }
   ],
   "source": [
    "# Check for missing values in each column\n",
    "print(\"\\nMissing values per column:\")\n",
    "print(data.isnull().sum())"
   ]
  },
  {
   "cell_type": "markdown",
   "id": "8cd9a927",
   "metadata": {},
   "source": [
    "# Drop rows where 'Name' or 'Product' is missing"
   ]
  },
  {
   "cell_type": "code",
   "execution_count": 5,
   "id": "cfdd795b",
   "metadata": {},
   "outputs": [
    {
     "data": {
      "text/plain": [
       "CustomerID          0\n",
       "Name                0\n",
       "Age                17\n",
       "Product             0\n",
       "Purchase_Amount    22\n",
       "Purchase Date       0\n",
       "Region             80\n",
       "dtype: int64"
      ]
     },
     "execution_count": 5,
     "metadata": {},
     "output_type": "execute_result"
    }
   ],
   "source": [
    "\n",
    "# Drop rows where 'Name' or 'Product' is missing\n",
    "data = data.dropna(subset=['Name', 'Product'])\n",
    "data.isnull().sum()"
   ]
  },
  {
   "cell_type": "markdown",
   "id": "13eab609",
   "metadata": {},
   "source": [
    "# Fill missing 'Region' with 'Unknown'"
   ]
  },
  {
   "cell_type": "code",
   "execution_count": 6,
   "id": "8d57e495",
   "metadata": {},
   "outputs": [],
   "source": [
    "# Fill missing 'Region' with 'Unknown'\n",
    "data['Region'] = data['Region'].fillna('Unknown')"
   ]
  },
  {
   "cell_type": "markdown",
   "id": "19904a97",
   "metadata": {},
   "source": [
    "# Fill missing 'Purchase_Amount' with the mean"
   ]
  },
  {
   "cell_type": "code",
   "execution_count": 7,
   "id": "5eb0280b",
   "metadata": {},
   "outputs": [],
   "source": [
    "# Fill missing 'Purchase_Amount' with the mean\n",
    "mean_amount = data['Purchase_Amount'].mean()\n",
    "data['Purchase_Amount'] = data['Purchase_Amount'].fillna(mean_amount)"
   ]
  },
  {
   "cell_type": "markdown",
   "id": "032cf981",
   "metadata": {},
   "source": [
    "# Convert 'Purchase Date' to datetime format"
   ]
  },
  {
   "cell_type": "code",
   "execution_count": 8,
   "id": "384aeb35",
   "metadata": {},
   "outputs": [],
   "source": [
    "\n",
    "\n",
    "# Convert 'Purchase Date' to datetime format\n",
    "data['Purchase Date'] = pd.to_datetime(data['Purchase Date'], errors='coerce')"
   ]
  },
  {
   "cell_type": "markdown",
   "id": "97f0b9c4",
   "metadata": {},
   "source": [
    "\n",
    "# Create new column 'Purchase_Year"
   ]
  },
  {
   "cell_type": "code",
   "execution_count": 9,
   "id": "82f437b7",
   "metadata": {},
   "outputs": [],
   "source": [
    "# Create new column 'Purchase_Year'\n",
    "data['Purchase_Year'] = data['Purchase Date'].dt.year"
   ]
  },
  {
   "cell_type": "markdown",
   "id": "e483ddcc",
   "metadata": {},
   "source": [
    "\n",
    "# Rename all columns to lowercase and replace spaces with underscores\n"
   ]
  },
  {
   "cell_type": "code",
   "execution_count": 10,
   "id": "b6198004",
   "metadata": {},
   "outputs": [
    {
     "data": {
      "text/html": [
       "<div>\n",
       "<style scoped>\n",
       "    .dataframe tbody tr th:only-of-type {\n",
       "        vertical-align: middle;\n",
       "    }\n",
       "\n",
       "    .dataframe tbody tr th {\n",
       "        vertical-align: top;\n",
       "    }\n",
       "\n",
       "    .dataframe thead th {\n",
       "        text-align: right;\n",
       "    }\n",
       "</style>\n",
       "<table border=\"1\" class=\"dataframe\">\n",
       "  <thead>\n",
       "    <tr style=\"text-align: right;\">\n",
       "      <th></th>\n",
       "      <th>customerid</th>\n",
       "      <th>name</th>\n",
       "      <th>age</th>\n",
       "      <th>product</th>\n",
       "      <th>purchase_amount</th>\n",
       "      <th>purchase_date</th>\n",
       "      <th>region</th>\n",
       "      <th>purchase_year</th>\n",
       "    </tr>\n",
       "  </thead>\n",
       "  <tbody>\n",
       "    <tr>\n",
       "      <th>0</th>\n",
       "      <td>1000</td>\n",
       "      <td>Steve Davis</td>\n",
       "      <td>51.0</td>\n",
       "      <td>Laptop</td>\n",
       "      <td>1057.789098</td>\n",
       "      <td>2024-04-20</td>\n",
       "      <td>South</td>\n",
       "      <td>2024</td>\n",
       "    </tr>\n",
       "    <tr>\n",
       "      <th>1</th>\n",
       "      <td>1001</td>\n",
       "      <td>Jane Miller</td>\n",
       "      <td>36.0</td>\n",
       "      <td>Tablet</td>\n",
       "      <td>1805.620000</td>\n",
       "      <td>2024-12-22</td>\n",
       "      <td>South</td>\n",
       "      <td>2024</td>\n",
       "    </tr>\n",
       "    <tr>\n",
       "      <th>2</th>\n",
       "      <td>1002</td>\n",
       "      <td>Bob Smith</td>\n",
       "      <td>46.0</td>\n",
       "      <td>Tablet</td>\n",
       "      <td>168.440000</td>\n",
       "      <td>2024-04-20</td>\n",
       "      <td>South</td>\n",
       "      <td>2024</td>\n",
       "    </tr>\n",
       "    <tr>\n",
       "      <th>3</th>\n",
       "      <td>1003</td>\n",
       "      <td>Emma Brown</td>\n",
       "      <td>51.0</td>\n",
       "      <td>Smartphone</td>\n",
       "      <td>1057.789098</td>\n",
       "      <td>2024-01-28</td>\n",
       "      <td>West</td>\n",
       "      <td>2024</td>\n",
       "    </tr>\n",
       "    <tr>\n",
       "      <th>4</th>\n",
       "      <td>1004</td>\n",
       "      <td>Sara Miller</td>\n",
       "      <td>50.0</td>\n",
       "      <td>Tablet</td>\n",
       "      <td>267.390000</td>\n",
       "      <td>2024-03-15</td>\n",
       "      <td>South</td>\n",
       "      <td>2024</td>\n",
       "    </tr>\n",
       "    <tr>\n",
       "      <th>...</th>\n",
       "      <td>...</td>\n",
       "      <td>...</td>\n",
       "      <td>...</td>\n",
       "      <td>...</td>\n",
       "      <td>...</td>\n",
       "      <td>...</td>\n",
       "      <td>...</td>\n",
       "      <td>...</td>\n",
       "    </tr>\n",
       "    <tr>\n",
       "      <th>492</th>\n",
       "      <td>1492</td>\n",
       "      <td>Sara Johnson</td>\n",
       "      <td>33.0</td>\n",
       "      <td>Tablet</td>\n",
       "      <td>966.200000</td>\n",
       "      <td>2024-07-20</td>\n",
       "      <td>East</td>\n",
       "      <td>2024</td>\n",
       "    </tr>\n",
       "    <tr>\n",
       "      <th>493</th>\n",
       "      <td>1493</td>\n",
       "      <td>Emma Davis</td>\n",
       "      <td>36.0</td>\n",
       "      <td>Smartphone</td>\n",
       "      <td>317.660000</td>\n",
       "      <td>2024-10-19</td>\n",
       "      <td>North</td>\n",
       "      <td>2024</td>\n",
       "    </tr>\n",
       "    <tr>\n",
       "      <th>495</th>\n",
       "      <td>1495</td>\n",
       "      <td>Tom Wilson</td>\n",
       "      <td>32.0</td>\n",
       "      <td>Smartphone</td>\n",
       "      <td>1304.230000</td>\n",
       "      <td>2024-07-24</td>\n",
       "      <td>South</td>\n",
       "      <td>2024</td>\n",
       "    </tr>\n",
       "    <tr>\n",
       "      <th>496</th>\n",
       "      <td>1496</td>\n",
       "      <td>Sara Miller</td>\n",
       "      <td>59.0</td>\n",
       "      <td>Tablet</td>\n",
       "      <td>672.670000</td>\n",
       "      <td>2024-04-20</td>\n",
       "      <td>East</td>\n",
       "      <td>2024</td>\n",
       "    </tr>\n",
       "    <tr>\n",
       "      <th>498</th>\n",
       "      <td>1498</td>\n",
       "      <td>Steve Ali</td>\n",
       "      <td>NaN</td>\n",
       "      <td>Headphones</td>\n",
       "      <td>114.320000</td>\n",
       "      <td>2024-09-17</td>\n",
       "      <td>West</td>\n",
       "      <td>2024</td>\n",
       "    </tr>\n",
       "  </tbody>\n",
       "</table>\n",
       "<p>410 rows × 8 columns</p>\n",
       "</div>"
      ],
      "text/plain": [
       "     customerid          name   age     product  purchase_amount  \\\n",
       "0          1000   Steve Davis  51.0      Laptop      1057.789098   \n",
       "1          1001   Jane Miller  36.0      Tablet      1805.620000   \n",
       "2          1002     Bob Smith  46.0      Tablet       168.440000   \n",
       "3          1003    Emma Brown  51.0  Smartphone      1057.789098   \n",
       "4          1004   Sara Miller  50.0      Tablet       267.390000   \n",
       "..          ...           ...   ...         ...              ...   \n",
       "492        1492  Sara Johnson  33.0      Tablet       966.200000   \n",
       "493        1493    Emma Davis  36.0  Smartphone       317.660000   \n",
       "495        1495    Tom Wilson  32.0  Smartphone      1304.230000   \n",
       "496        1496   Sara Miller  59.0      Tablet       672.670000   \n",
       "498        1498     Steve Ali   NaN  Headphones       114.320000   \n",
       "\n",
       "    purchase_date region  purchase_year  \n",
       "0      2024-04-20  South           2024  \n",
       "1      2024-12-22  South           2024  \n",
       "2      2024-04-20  South           2024  \n",
       "3      2024-01-28   West           2024  \n",
       "4      2024-03-15  South           2024  \n",
       "..            ...    ...            ...  \n",
       "492    2024-07-20   East           2024  \n",
       "493    2024-10-19  North           2024  \n",
       "495    2024-07-24  South           2024  \n",
       "496    2024-04-20   East           2024  \n",
       "498    2024-09-17   West           2024  \n",
       "\n",
       "[410 rows x 8 columns]"
      ]
     },
     "execution_count": 10,
     "metadata": {},
     "output_type": "execute_result"
    }
   ],
   "source": [
    "\n",
    "# Rename all columns to lowercase and replace spaces with underscores\n",
    "data.columns = data.columns.str.lower().str.replace(' ', '_')\n",
    "data"
   ]
  },
  {
   "cell_type": "markdown",
   "id": "2f4214c0",
   "metadata": {},
   "source": [
    "# Rename 'purchase_amount' to 'amount_usd'"
   ]
  },
  {
   "cell_type": "code",
   "execution_count": 11,
   "id": "fb1b5424",
   "metadata": {},
   "outputs": [],
   "source": [
    "# Rename 'purchase_amount' to 'amount_usd'\n",
    "data = data.rename(columns={'purchase_amount': 'amount_usd'})"
   ]
  },
  {
   "cell_type": "markdown",
   "id": "d8550598",
   "metadata": {},
   "source": [
    "# Filter rows where amount_usd > 1000"
   ]
  },
  {
   "cell_type": "code",
   "execution_count": 12,
   "id": "5138729e",
   "metadata": {},
   "outputs": [],
   "source": [
    "# Filter rows where amount_usd > 1000\n",
    "filtered_data = data[data['amount_usd'] > 1000]"
   ]
  },
  {
   "cell_type": "markdown",
   "id": "bcfc07c0",
   "metadata": {},
   "source": [
    "# Sort the filtered data by amount_usd in descending order"
   ]
  },
  {
   "cell_type": "code",
   "execution_count": 13,
   "id": "2090b782",
   "metadata": {},
   "outputs": [
    {
     "name": "stdout",
     "output_type": "stream",
     "text": [
      "\n",
      "Filtered and sorted data (amount_usd > 1000):\n",
      "     customerid           name   age     product  amount_usd purchase_date  \\\n",
      "469        1469     Sara Davis  23.0  Smartphone     1991.76    2024-07-22   \n",
      "435        1435       Jane Ali   NaN      Laptop     1987.35    2024-02-09   \n",
      "315        1315        Bob Lee  57.0  Smartphone     1979.56    2024-10-19   \n",
      "258        1258     Emma Brown  22.0      Laptop     1975.28    2024-01-13   \n",
      "310        1310      Linda Lee  50.0      Laptop     1974.03    2024-08-20   \n",
      "..          ...            ...   ...         ...         ...           ...   \n",
      "342        1342  Linda Johnson  26.0  Headphones     1035.87    2024-12-21   \n",
      "67         1067    Linda White  19.0  Headphones     1032.27    2024-09-16   \n",
      "386        1386      Bob Smith  29.0      Laptop     1014.13    2024-09-27   \n",
      "203        1203     Mike Smith  26.0  Smartphone     1007.85    2024-05-15   \n",
      "232        1232     Tom Wilson  51.0  Smartphone     1001.15    2024-07-14   \n",
      "\n",
      "      region  purchase_year  \n",
      "469    North           2024  \n",
      "435     East           2024  \n",
      "315  Unknown           2024  \n",
      "258     West           2024  \n",
      "310     West           2024  \n",
      "..       ...            ...  \n",
      "342     West           2024  \n",
      "67      East           2024  \n",
      "386  Unknown           2024  \n",
      "203    North           2024  \n",
      "232    South           2024  \n",
      "\n",
      "[236 rows x 8 columns]\n"
     ]
    }
   ],
   "source": [
    "# Sort the filtered data by amount_usd in descending order\n",
    "filtered_data = filtered_data.sort_values(by='amount_usd', ascending=False)\n",
    "print(\"\\nFiltered and sorted data (amount_usd > 1000):\")\n",
    "print(filtered_data)"
   ]
  },
  {
   "cell_type": "markdown",
   "id": "6cc38eac",
   "metadata": {},
   "source": [
    "# Group by region to get total purchases and average purchase amount"
   ]
  },
  {
   "cell_type": "code",
   "execution_count": 14,
   "id": "17c3f994",
   "metadata": {},
   "outputs": [
    {
     "name": "stdout",
     "output_type": "stream",
     "text": [
      "\n",
      "Aggregated data by region:\n",
      "    region  total_purchases  average_amount_usd\n",
      "0     East               92         1073.592026\n",
      "1    North               79         1154.316652\n",
      "2    South               73          944.079814\n",
      "3  Unknown               80         1065.436910\n",
      "4     West               86         1041.619408\n"
     ]
    }
   ],
   "source": [
    "\n",
    "# Group by region to get total purchases and average purchase amount\n",
    "agg_data = data.groupby('region').agg(\n",
    "    total_purchases=('customerid', 'count'),\n",
    "    average_amount_usd=('amount_usd', 'mean')\n",
    ").reset_index()\n",
    "print(\"\\nAggregated data by region:\")\n",
    "print(agg_data)"
   ]
  },
  {
   "cell_type": "markdown",
   "id": "820cd9fa",
   "metadata": {},
   "source": [
    "# Create 'category' column based on amount_usd"
   ]
  },
  {
   "cell_type": "code",
   "execution_count": 15,
   "id": "df8643dd",
   "metadata": {},
   "outputs": [],
   "source": [
    "# Create 'category' column based on amount_usd\n",
    "def categorize(amount):\n",
    "    if amount >= 1000:\n",
    "        return \"High\"\n",
    "    elif amount >= 500:\n",
    "        return \"Medium\"\n",
    "    else:\n",
    "        return \"Low\"\n",
    "\n",
    "data['category'] = data['amount_usd'].apply(categorize)"
   ]
  },
  {
   "cell_type": "markdown",
   "id": "a51815df",
   "metadata": {},
   "source": [
    "# Save the cleaned and transformed DataFrame to a new CSV"
   ]
  },
  {
   "cell_type": "code",
   "execution_count": 16,
   "id": "9e7f3ccb",
   "metadata": {},
   "outputs": [
    {
     "name": "stdout",
     "output_type": "stream",
     "text": [
      "\n",
      "Data successfully saved to cleaned_data.csv\n"
     ]
    }
   ],
   "source": [
    "# Save the cleaned and transformed DataFrame to a new CSV\n",
    "data.to_csv(\"cleaned_data.csv\", index=False)\n",
    "print(\"\\nData successfully saved to cleaned_data.csv\")\n"
   ]
  }
 ],
 "metadata": {
  "kernelspec": {
   "display_name": "Python 3",
   "language": "python",
   "name": "python3"
  },
  "language_info": {
   "codemirror_mode": {
    "name": "ipython",
    "version": 3
   },
   "file_extension": ".py",
   "mimetype": "text/x-python",
   "name": "python",
   "nbconvert_exporter": "python",
   "pygments_lexer": "ipython3",
   "version": "3.11.9"
  }
 },
 "nbformat": 4,
 "nbformat_minor": 5
}
